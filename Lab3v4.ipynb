{
 "cells": [
  {
   "cell_type": "markdown",
   "metadata": {},
   "source": [
    "# Lab Three, Multi-modal and Multi-task\n",
    "\n",
    "Xingming Qu, Bowei Tian"
   ]
  },
  {
   "cell_type": "markdown",
   "metadata": {},
   "source": [
    "## 1 Download the ChEMBL database or setup queries to download a subset go the database.\n",
    "\n",
    "\n",
    "Thanks to Niraj for making this available to everyone!!!"
   ]
  },
  {
   "cell_type": "code",
   "execution_count": 1,
   "metadata": {},
   "outputs": [],
   "source": [
    "import matplotlib.pyplot as plt\n",
    "import warnings\n",
    "import numpy as np\n",
    "import pandas as pd\n",
    "import pickle\n",
    "warnings.simplefilter('ignore', DeprecationWarning)\n",
    "warnings.filterwarnings(\"ignore\")"
   ]
  },
  {
   "cell_type": "code",
   "execution_count": 2,
   "metadata": {},
   "outputs": [],
   "source": [
    "f = open('data.csv', 'r', encoding=\"ISO-8859-1\")\n",
    "lines = f.readlines()\n",
    "f.close()"
   ]
  },
  {
   "cell_type": "code",
   "execution_count": 3,
   "metadata": {},
   "outputs": [
    {
     "name": "stdout",
     "output_type": "stream",
     "text": [
      "1065321\n"
     ]
    }
   ],
   "source": [
    "total_record=len(lines)\n",
    "print(total_record)"
   ]
  },
  {
   "cell_type": "code",
   "execution_count": 4,
   "metadata": {},
   "outputs": [
    {
     "name": "stdout",
     "output_type": "stream",
     "text": [
      "\"\u0000M\u0000o\u0000l\u0000e\u0000c\u0000u\u0000l\u0000e\u0000\"\u0000,\u0000\"\u0000S\u0000t\u0000a\u0000n\u0000d\u0000a\u0000r\u0000d\u0000 \u0000T\u0000y\u0000p\u0000e\u0000\"\u0000,\u0000\"\u0000S\u0000t\u0000a\u0000n\u0000d\u0000a\u0000r\u0000d\u0000 \u0000R\u0000e\u0000l\u0000a\u0000t\u0000i\u0000o\u0000n\u0000\"\u0000,\u0000\"\u0000S\u0000t\u0000a\u0000n\u0000d\u0000a\u0000r\u0000d\u0000 \u0000V\u0000a\u0000l\u0000u\u0000e\u0000\"\u0000,\u0000\"\u0000S\u0000t\u0000a\u0000n\u0000d\u0000a\u0000r\u0000d\u0000 \u0000U\u0000n\u0000i\u0000t\u0000s\u0000\"\u0000,\u0000\"\u0000p\u0000C\u0000h\u0000E\u0000M\u0000B\u0000L\u0000 \u0000V\u0000a\u0000l\u0000u\u0000e\u0000\"\u0000,\u0000\"\u0000C\u0000o\u0000m\u0000m\u0000e\u0000n\u0000t\u0000\"\u0000,\u0000\"\u0000C\u0000o\u0000m\u0000p\u0000o\u0000u\u0000n\u0000d\u0000 \u0000K\u0000e\u0000y\u0000\"\u0000,\u0000\"\u0000A\u0000s\u0000s\u0000a\u0000y\u0000\"\u0000,\u0000\"\u0000A\u0000s\u0000s\u0000a\u0000y\u0000 \u0000D\u0000e\u0000s\u0000c\u0000r\u0000i\u0000p\u0000t\u0000i\u0000o\u0000n\u0000\"\u0000,\u0000\"\u0000B\u0000A\u0000O\u0000 \u0000F\u0000o\u0000r\u0000m\u0000a\u0000t\u0000\"\u0000,\u0000\"\u0000T\u0000a\u0000r\u0000g\u0000e\u0000t\u0000\"\u0000,\u0000\"\u0000T\u0000a\u0000r\u0000g\u0000e\u0000t\u0000 \u0000P\u0000r\u0000e\u0000f\u0000.\u0000 \u0000N\u0000a\u0000m\u0000e\u0000\"\u0000,\u0000\"\u0000T\u0000a\u0000r\u0000g\u0000e\u0000t\u0000 \u0000O\u0000r\u0000g\u0000a\u0000n\u0000i\u0000s\u0000m\u0000\"\u0000,\u0000\"\u0000T\u0000a\u0000r\u0000g\u0000e\u0000t\u0000 \u0000T\u0000y\u0000p\u0000e\u0000\"\u0000,\u0000\"\u0000D\u0000o\u0000c\u0000u\u0000m\u0000e\u0000n\u0000t\u0000\"\u0000,\u0000\"\u0000S\u0000o\u0000u\u0000r\u0000c\u0000e\u0000\"\u0000,\u0000\"\u0000M\u0000a\u0000x\u0000 \u0000P\u0000h\u0000a\u0000s\u0000e\u0000\"\u0000,\u0000\"\u0000#\u0000R\u0000o\u00005\u0000 \u0000V\u0000i\u0000o\u0000l\u0000a\u0000t\u0000i\u0000o\u0000n\u0000s\u0000\"\u0000,\u0000\"\u0000M\u0000o\u0000l\u0000e\u0000c\u0000u\u0000l\u0000a\u0000r\u0000 \u0000W\u0000e\u0000i\u0000g\u0000h\u0000t\u0000\"\u0000,\u0000\"\u0000L\u0000i\u0000g\u0000a\u0000n\u0000d\u0000 \u0000E\u0000f\u0000f\u0000i\u0000c\u0000i\u0000e\u0000n\u0000c\u0000y\u0000 \u0000B\u0000E\u0000I\u0000\"\u0000,\u0000\"\u0000L\u0000i\u0000g\u0000a\u0000n\u0000d\u0000 \u0000E\u0000f\u0000f\u0000i\u0000c\u0000i\u0000e\u0000n\u0000c\u0000y\u0000 \u0000L\u0000E\u0000\"\u0000,\u0000\"\u0000L\u0000i\u0000g\u0000a\u0000n\u0000d\u0000 \u0000E\u0000f\u0000f\u0000i\u0000c\u0000i\u0000e\u0000n\u0000c\u0000y\u0000 \u0000L\u0000L\u0000E\u0000\"\u0000,\u0000\"\u0000L\u0000i\u0000g\u0000a\u0000n\u0000d\u0000 \u0000E\u0000f\u0000f\u0000i\u0000c\u0000i\u0000e\u0000n\u0000c\u0000y\u0000 \u0000S\u0000E\u0000I\u0000\"\u0000,\u0000\"\u0000A\u0000L\u0000o\u0000g\u0000P\u0000\"\u0000,\u0000\"\u0000A\u0000s\u0000s\u0000a\u0000y\u0000 \u0000O\u0000r\u0000g\u0000a\u0000n\u0000i\u0000s\u0000m\u0000\"\u0000,\u0000\"\u0000A\u0000s\u0000s\u0000a\u0000y\u0000 \u0000T\u0000i\u0000s\u0000s\u0000u\u0000e\u0000 \u0000C\u0000h\u0000E\u0000M\u0000B\u0000L\u0000 \u0000I\u0000D\u0000\"\u0000,\u0000\"\u0000A\u0000s\u0000s\u0000a\u0000y\u0000 \u0000T\u0000i\u0000s\u0000s\u0000u\u0000e\u0000 \u0000N\u0000a\u0000m\u0000e\u0000\"\u0000,\u0000\"\u0000A\u0000s\u0000s\u0000a\u0000y\u0000 \u0000C\u0000e\u0000l\u0000l\u0000 \u0000T\u0000y\u0000p\u0000e\u0000\"\u0000,\u0000\"\u0000A\u0000s\u0000s\u0000a\u0000y\u0000 \u0000S\u0000u\u0000b\u0000c\u0000e\u0000l\u0000l\u0000u\u0000l\u0000a\u0000r\u0000 \u0000F\u0000r\u0000a\u0000c\u0000t\u0000i\u0000o\u0000n\u0000\"\u0000,\u0000\"\u0000O\u0000r\u0000g\u0000a\u0000n\u0000i\u0000s\u0000m\u0000 \u0000T\u0000a\u0000x\u0000 \u0000I\u0000D\u0000\"\u0000,\u0000\"\u0000B\u0000A\u0000O\u0000 \u0000F\u0000o\u0000r\u0000m\u0000a\u0000t\u0000 \u0000I\u0000D\u0000\"\u0000,\u0000\"\u0000P\u0000u\u0000b\u0000l\u0000i\u0000s\u0000h\u0000e\u0000d\u0000 \u0000T\u0000y\u0000p\u0000e\u0000\"\u0000,\u0000\"\u0000P\u0000u\u0000b\u0000l\u0000i\u0000s\u0000h\u0000e\u0000d\u0000 \u0000R\u0000e\u0000l\u0000a\u0000t\u0000i\u0000o\u0000n\u0000\"\u0000,\u0000\"\u0000P\u0000u\u0000b\u0000l\u0000i\u0000s\u0000h\u0000e\u0000d\u0000 \u0000V\u0000a\u0000l\u0000u\u0000e\u0000\"\u0000,\u0000\"\u0000P\u0000u\u0000b\u0000l\u0000i\u0000s\u0000h\u0000e\u0000d\u0000 \u0000U\u0000n\u0000i\u0000t\u0000s\u0000\"\u0000,\u0000\"\u0000C\u0000a\u0000n\u0000o\u0000n\u0000i\u0000c\u0000a\u0000l\u0000 \u0000S\u0000m\u0000i\u0000l\u0000e\u0000s\u0000\"\u0000,\u0000\"\u0000D\u0000a\u0000t\u0000a\u0000 \u0000V\u0000a\u0000l\u0000i\u0000d\u0000i\u0000t\u0000y\u0000 \u0000C\u0000o\u0000m\u0000m\u0000e\u0000n\u0000t\u0000\"\u0000,\u0000\"\u0000D\u0000o\u0000c\u0000u\u0000m\u0000e\u0000n\u0000t\u0000 \u0000J\u0000o\u0000u\u0000r\u0000n\u0000a\u0000l\u0000\"\u0000,\u0000\"\u0000D\u0000o\u0000c\u0000u\u0000m\u0000e\u0000n\u0000t\u0000 \u0000Y\u0000e\u0000a\u0000r\u0000\"\u0000,\u0000\"\u0000S\u0000R\u0000C\u0000 \u0000I\u0000D\u0000\"\u0000,\u0000\"\u0000U\u0000O\u0000 \u0000U\u0000n\u0000i\u0000t\u0000s\u0000\"\u0000,\u0000\"\u0000P\u0000o\u0000t\u0000e\u0000n\u0000t\u0000i\u0000a\u0000l\u0000 \u0000D\u0000u\u0000p\u0000l\u0000i\u0000c\u0000a\u0000t\u0000e\u0000\"\u0000\n",
      "\n",
      "43\n"
     ]
    }
   ],
   "source": [
    "bug=[]\n",
    "\n",
    "flis = [] # will have [id, ic50_val, unit, target, smiles] \n",
    "\n",
    "for line in lines[:1]: # first line contains the headers (therefore skiped)\n",
    "    lis = line.strip().split(',')\n",
    "    print(line)\n",
    "    print(len(lis))"
   ]
  },
  {
   "cell_type": "markdown",
   "metadata": {},
   "source": [
    "We can see a record should have 43 columns"
   ]
  },
  {
   "cell_type": "code",
   "execution_count": 5,
   "metadata": {},
   "outputs": [
    {
     "name": "stdout",
     "output_type": "stream",
     "text": [
      "\u0000\"\u0000C\u0000H\u0000E\u0000M\u0000B\u0000L\u00003\u00005\u00007\u00003\u00003\u00008\u0000\"\u0000,\u0000\"\u0000I\u0000C\u00005\u00000\u0000\"\u0000,\u0000\"\u0000>\u0000\"\u0000,\u0000\"\u00005\u00000\u00000\u00000\u00000\u0000\"\u0000,\u0000\"\u0000n\u0000M\u0000\"\u0000,\u0000\"\u0000\"\u0000,\u0000\"\u0000\"\u0000,\u0000\"\u00001\u00006\u0000 \u00002\u0000-\u0000g\u0000\"\u0000,\u0000\"\u0000C\u0000H\u0000E\u0000M\u0000B\u0000L\u00008\u00001\u00002\u00004\u00004\u00006\u0000\"\u0000,\u0000\"\u0000I\u0000n\u0000h\u0000i\u0000b\u0000i\u0000t\u0000o\u0000r\u0000y\u0000 \u0000a\u0000c\u0000t\u0000i\u0000v\u0000i\u0000t\u0000y\u0000 \u0000a\u0000g\u0000a\u0000i\u0000n\u0000s\u0000t\u0000 \u0000T\u0000r\u0000y\u0000p\u0000a\u0000n\u0000o\u0000s\u0000o\u0000m\u0000a\u0000 \u0000c\u0000r\u0000u\u0000z\u0000i\u0000 \u0000t\u0000r\u0000y\u0000p\u0000a\u0000n\u0000o\u0000t\u0000h\u0000i\u0000o\u0000n\u0000e\u0000 \u0000d\u0000i\u0000s\u0000u\u0000l\u0000f\u0000i\u0000d\u0000e\u0000 \u0000r\u0000e\u0000d\u0000u\u0000c\u0000t\u0000a\u0000s\u0000e\u0000,\u0000 \u0000a\u0000s\u0000s\u0000a\u0000y\u0000 \u0000i\u0000n\u0000 \u0000p\u0000r\u0000e\u0000s\u0000e\u0000n\u0000c\u0000e\u0000 \u0000o\u0000f\u0000 \u00005\u00007\u0000 \u0000u\u0000M\u0000 \u0000T\u0000(\u0000S\u0000)\u00002\u0000.\u0000\"\u0000,\u0000\"\u0000s\u0000i\u0000n\u0000g\u0000l\u0000e\u0000 \u0000p\u0000r\u0000o\u0000t\u0000e\u0000i\u0000n\u0000 \u0000f\u0000o\u0000r\u0000m\u0000a\u0000t\u0000\"\u0000,\u0000\"\u0000C\u0000H\u0000E\u0000M\u0000B\u0000L\u00005\u00001\u00003\u00001\u0000\"\u0000,\u0000\"\u0000T\u0000r\u0000y\u0000p\u0000a\u0000n\u0000o\u0000t\u0000h\u0000i\u0000o\u0000n\u0000e\u0000 \u0000r\u0000e\u0000d\u0000u\u0000c\u0000t\u0000a\u0000s\u0000e\u0000\"\u0000,\u0000\"\u0000T\u0000r\u0000y\u0000p\u0000a\u0000n\u0000o\u0000s\u0000o\u0000m\u0000a\u0000 \u0000c\u0000r\u0000u\u0000z\u0000i\u0000\"\u0000,\u0000\"\u0000S\u0000I\u0000N\u0000G\u0000L\u0000E\u0000 \u0000P\u0000R\u0000O\u0000T\u0000E\u0000I\u0000N\u0000\"\u0000,\u0000\"\u0000C\u0000H\u0000E\u0000M\u0000B\u0000L\u00001\u00001\u00003\u00004\u00007\u00009\u00001\u0000\"\u0000,\u0000\"\u0000S\u0000c\u0000i\u0000e\u0000n\u0000t\u0000i\u0000f\u0000i\u0000c\u0000 \u0000L\u0000i\u0000t\u0000e\u0000r\u0000a\u0000t\u0000u\u0000r\u0000e\u0000\"\u0000,\u0000\"\u00000\u0000\"\u0000,\u0000\"\u00000\u0000\"\u0000,\u0000\"\u00003\u00002\u00006\u0000.\u00004\u0000\"\u0000,\u0000\"\u0000\"\u0000,\u0000\"\u0000\"\u0000,\u0000\"\u0000\"\u0000,\u0000\"\u0000\"\u0000,\u0000\"\u00001\u0000.\u00009\u00004\u0000\"\u0000,\u0000\"\u0000T\u0000r\u0000y\u0000p\u0000a\u0000n\u0000o\u0000s\u0000o\u0000m\u0000a\u0000 \u0000c\u0000r\u0000u\u0000z\u0000i\u0000\"\u0000,\u0000\"\u0000\"\u0000,\u0000\"\u0000\"\u0000,\u0000\"\u0000\"\u0000,\u0000\"\u0000\"\u0000,\u0000\"\u00005\u00006\u00009\u00003\u0000\"\u0000,\u0000\"\u0000B\u0000A\u0000O\u0000_\u00000\u00000\u00000\u00000\u00003\u00005\u00007\u0000\"\u0000,\u0000\"\u0000\"\u0000,\u0000\"\u0000\"\u0000,\u0000\"\u0000\"\u0000,\u0000\"\u0000\"\u0000,\u0000\"\u0000C\u0000N\u00001\u0000C\u0000C\u0000N\u0000(\u0000C\u0000C\u00001\u0000)\u0000C\u0000(\u0000=\u0000O\u0000)\u0000C\u0000C\u0000C\u00002\u0000=\u0000C\u0000(\u0000C\u0000)\u0000C\u0000(\u0000=\u0000O\u0000)\u0000c\u00003\u0000c\u0000c\u0000c\u0000c\u0000c\u00003\u0000C\u00002\u0000=\u0000O\u0000\"\u0000,\u0000\"\u0000\"\u0000,\u0000\"\u0000J\u0000.\u0000 \u0000M\u0000e\u0000d\u0000.\u0000 \u0000C\u0000h\u0000e\u0000m\u0000.\u0000\"\u0000,\u0000\"\u00002\u00000\u00000\u00001\u0000\"\u0000,\u0000\"\u00001\u0000\"\u0000,\u0000\"\u0000U\u0000O\u0000_\u00000\u00000\u00000\u00000\u00000\u00006\u00005\u0000\"\u0000,\u0000\"\u0000F\u0000a\u0000l\u0000s\u0000e\u0000\"\u0000\n",
      "\n",
      "44\n"
     ]
    }
   ],
   "source": [
    "for line in lines[:10]: # first line contains the headers (therefore skiped)\n",
    "    lis = line.strip().split(',')\n",
    "    if len(lis)!=43:\n",
    "        print(line)\n",
    "        print(len(lis))"
   ]
  },
  {
   "cell_type": "markdown",
   "metadata": {},
   "source": [
    "Here we can see <br>\n",
    " Inhibitory activity against Trypanosoma cruzi trypanothione disulfide reductase, assay in presence of 57 uM T(S)2.<br>\n",
    " There is a , in the sentence. So we can not use split(',')\n",
    " \n",
    "\n"
   ]
  },
  {
   "cell_type": "code",
   "execution_count": 6,
   "metadata": {},
   "outputs": [
    {
     "data": {
      "text/plain": [
       "295467"
      ]
     },
     "execution_count": 6,
     "metadata": {},
     "output_type": "execute_result"
    }
   ],
   "source": [
    "bug=[]\n",
    "for line in lines[1:]: # first line contains the headers (therefore skiped)\n",
    "    lis = line.strip().split(',')\n",
    "    if len(lis)!=43:\n",
    "        bug.append(len(lis))\n",
    "len(bug)"
   ]
  },
  {
   "cell_type": "markdown",
   "metadata": {},
   "source": [
    "useing split(',') will damage 295467 records"
   ]
  },
  {
   "cell_type": "code",
   "execution_count": 7,
   "metadata": {
    "scrolled": false
   },
   "outputs": [
    {
     "name": "stdout",
     "output_type": "stream",
     "text": [
      "{1, 44, 45, 46, 47, 48, 49, 50, 51, 52, 53, 54, 55, 56, 57, 58, 59, 60, 61, 62, 63, 64, 65, 66, 67, 68, 69, 70, 71, 72, 73, 75, 76, 78, 79, 80, 81, 83, 84, 86, 99}\n"
     ]
    }
   ],
   "source": [
    "c=set(bug)\n",
    "print(c)"
   ]
  },
  {
   "cell_type": "markdown",
   "metadata": {},
   "source": [
    "So we can see we have lots of records length >43, it is becuase we have , inside sentence"
   ]
  },
  {
   "cell_type": "markdown",
   "metadata": {},
   "source": [
    "Consider <br>\n",
    "\"CHEMBL357338\",\"IC50\",\">\",\"50000\",\"nM\",\"\",\"\",\"16 2-g\",\"CHEMBL812446\",\"Inhibitory activity against Trypanosoma cruzi trypanothione disulfide reductase, assay in presence of 57 uM T(S)2.\",\"single protein format\",\"CHEMBL5131\",\n",
    "\n",
    "We could replace \",\" to a rare punctuation like \"!\" and use ! to split"
   ]
  },
  {
   "cell_type": "code",
   "execution_count": 8,
   "metadata": {},
   "outputs": [
    {
     "name": "stdout",
     "output_type": "stream",
     "text": [
      "['Molecule', 'Standard Type', 'Standard Relation', 'Standard Value', 'Standard Units', 'pChEMBL Value', 'Comment', 'Compound Key', 'Assay', 'Assay Description', 'BAO Format', 'Target', 'Target Pref. Name', 'Target Organism', 'Target Type', 'Document', 'Source', 'Max Phase', '#Ro5 Violations', 'Molecular Weight', 'Ligand Efficiency BEI', 'Ligand Efficiency LE', 'Ligand Efficiency LLE', 'Ligand Efficiency SEI', 'ALogP', 'Assay Organism', 'Assay Tissue ChEMBL ID', 'Assay Tissue Name', 'Assay Cell Type', 'Assay Subcellular Fraction', 'Organism Tax ID', 'BAO Format ID', 'Published Type', 'Published Relation', 'Published Value', 'Published Units', 'Canonical Smiles', 'Data Validity Comment', 'Document Journal', 'Document Year', 'SRC ID', 'UO Units', 'Potential Duplicate'] \n",
      "\n",
      "43\n",
      "Molecule\n",
      "Standard Value\n",
      "Standard Units\n",
      "Assay\n",
      "Canonical Smiles\n"
     ]
    }
   ],
   "source": [
    "test=lines[0]\n",
    "te=''\n",
    "for ch in test:\n",
    "    te=te+ch\n",
    "\n",
    "te=te.replace('\\x00','')\n",
    "te=te.strip()\n",
    "te=te.replace('\",\"','\"!\"')\n",
    "te=te.replace('\"','')\n",
    "te=te.split('!')\n",
    "\n",
    "print(te,'\\n')\n",
    "print(len(te))\n",
    "print(te[0])\n",
    "print(te[3])\n",
    "print(te[4])\n",
    "print(te[8])\n",
    "print(te[36])\n",
    "# [id, ic50_val, unit, target, smiles]\n",
    "# [0,3,4,8,36]"
   ]
  },
  {
   "cell_type": "code",
   "execution_count": 9,
   "metadata": {},
   "outputs": [
    {
     "name": "stdout",
     "output_type": "stream",
     "text": [
      "43\n",
      "CHEMBL17430\n",
      "11600\n",
      "nM\n",
      "CHEMBL664913\n",
      "Nc1nc(N)c2c(CSc3ccc(Cl)c(Cl)c3)c[nH]c2n1\n"
     ]
    }
   ],
   "source": [
    "test=lines[1]\n",
    "te=''\n",
    "for ch in test:\n",
    "    te=te+ch\n",
    "\n",
    "te=te.replace('\\x00','')\n",
    "te=te.strip()\n",
    "te=te.replace('\",\"','\"!\"')\n",
    "te=te.replace('\"','')\n",
    "te=te.split('!')\n",
    "\n",
    "# print(te,'\\n')\n",
    "print(len(te))\n",
    "print(te[0])\n",
    "print(te[3])\n",
    "print(te[4])\n",
    "print(te[8])\n",
    "print(te[36])\n",
    "# [id, ic50_val, unit, target, smiles]\n",
    "# [0,3,4,8,36]"
   ]
  },
  {
   "cell_type": "code",
   "execution_count": 10,
   "metadata": {
    "scrolled": false
   },
   "outputs": [
    {
     "name": "stdout",
     "output_type": "stream",
     "text": [
      "0.0  0.09386842087971607  0.18773684175943214  0.2816052626391482  0.3754736835188643  0.4693421043985803  0.5632105252782964  0.6570789461580124  0.7509473670377286  0.8448157879174446  0.9386842087971606  "
     ]
    }
   ],
   "source": [
    "miss_ic50=0\n",
    "smiles=[]\n",
    "target=[]\n",
    "unit=[]\n",
    "ic50=[]\n",
    "it=0\n",
    "new_bugs=[]\n",
    "for line in lines[1:]: # first line contains the headers (therefore skiped)\n",
    "    \n",
    "    if it%100000==0:\n",
    "        print(it/total_record,end='  ')\n",
    "    it=it+1\n",
    "    \n",
    "    te=''\n",
    "    for ch in line:\n",
    "        te=te+ch\n",
    "    \n",
    "    te=te.replace('\\x00','')\n",
    "    te=te.strip()\n",
    "    te=te.replace('\",\"','\"!\"')\n",
    "    te=te.replace('\"','')\n",
    "    te=te.split('!')\n",
    "\n",
    "\n",
    "    if len(te)!=43:\n",
    "        new_bugs.append(len(te))\n",
    "    if len(te)==43:\n",
    "        try:\n",
    "            ic50.append(float(te[3]))\n",
    "            smiles.append(te[36])\n",
    "            target.append(te[8])\n",
    "            unit.append(te[4])\n",
    "        except:\n",
    "            miss_ic50=miss_ic50+1"
   ]
  },
  {
   "cell_type": "code",
   "execution_count": 11,
   "metadata": {},
   "outputs": [
    {
     "name": "stdout",
     "output_type": "stream",
     "text": [
      "bad records: 3853\n",
      "clean data: 945997\n",
      "data mised ic50: 115470\n"
     ]
    }
   ],
   "source": [
    "print('bad records:',len(new_bugs))\n",
    "print('clean data:',len(ic50))\n",
    "print('data mised ic50:',miss_ic50)"
   ]
  },
  {
   "cell_type": "markdown",
   "metadata": {},
   "source": []
  },
  {
   "cell_type": "code",
   "execution_count": 12,
   "metadata": {},
   "outputs": [
    {
     "data": {
      "text/html": [
       "<div>\n",
       "<style scoped>\n",
       "    .dataframe tbody tr th:only-of-type {\n",
       "        vertical-align: middle;\n",
       "    }\n",
       "\n",
       "    .dataframe tbody tr th {\n",
       "        vertical-align: top;\n",
       "    }\n",
       "\n",
       "    .dataframe thead th {\n",
       "        text-align: right;\n",
       "    }\n",
       "</style>\n",
       "<table border=\"1\" class=\"dataframe\">\n",
       "  <thead>\n",
       "    <tr style=\"text-align: right;\">\n",
       "      <th></th>\n",
       "      <th>target</th>\n",
       "      <th>smiles</th>\n",
       "      <th>unit</th>\n",
       "      <th>ic50</th>\n",
       "    </tr>\n",
       "  </thead>\n",
       "  <tbody>\n",
       "    <tr>\n",
       "      <th>0</th>\n",
       "      <td>CHEMBL664913</td>\n",
       "      <td>Nc1nc(N)c2c(CSc3ccc(Cl)c(Cl)c3)c[nH]c2n1</td>\n",
       "      <td>nM</td>\n",
       "      <td>11600.0</td>\n",
       "    </tr>\n",
       "    <tr>\n",
       "      <th>1</th>\n",
       "      <td>CHEMBL812106</td>\n",
       "      <td>NC(=S)\\N=N\\c1c(O)[nH]c2ccc(I)cc12</td>\n",
       "      <td>nM</td>\n",
       "      <td>9000.0</td>\n",
       "    </tr>\n",
       "    <tr>\n",
       "      <th>2</th>\n",
       "      <td>CHEMBL811877</td>\n",
       "      <td>[Cl-].C[N+](C)(CCCN1c2ccccc2Sc3ccc(Cl)cc13)Cc4...</td>\n",
       "      <td>nM</td>\n",
       "      <td>17900.0</td>\n",
       "    </tr>\n",
       "    <tr>\n",
       "      <th>3</th>\n",
       "      <td>CHEMBL664920</td>\n",
       "      <td>COc1cc(OC)cc(c1)N(C)Cc2c[nH]c3nc(N)nc(O)c23</td>\n",
       "      <td>nM</td>\n",
       "      <td>4200.0</td>\n",
       "    </tr>\n",
       "    <tr>\n",
       "      <th>4</th>\n",
       "      <td>CHEMBL664913</td>\n",
       "      <td>COc1cc(Cc2cnc(N)nc2N)cc(OC)c1OC</td>\n",
       "      <td>nM</td>\n",
       "      <td>2700.0</td>\n",
       "    </tr>\n",
       "  </tbody>\n",
       "</table>\n",
       "</div>"
      ],
      "text/plain": [
       "         target                                             smiles unit  \\\n",
       "0  CHEMBL664913           Nc1nc(N)c2c(CSc3ccc(Cl)c(Cl)c3)c[nH]c2n1   nM   \n",
       "1  CHEMBL812106                  NC(=S)\\N=N\\c1c(O)[nH]c2ccc(I)cc12   nM   \n",
       "2  CHEMBL811877  [Cl-].C[N+](C)(CCCN1c2ccccc2Sc3ccc(Cl)cc13)Cc4...   nM   \n",
       "3  CHEMBL664920        COc1cc(OC)cc(c1)N(C)Cc2c[nH]c3nc(N)nc(O)c23   nM   \n",
       "4  CHEMBL664913                    COc1cc(Cc2cnc(N)nc2N)cc(OC)c1OC   nM   \n",
       "\n",
       "      ic50  \n",
       "0  11600.0  \n",
       "1   9000.0  \n",
       "2  17900.0  \n",
       "3   4200.0  \n",
       "4   2700.0  "
      ]
     },
     "execution_count": 12,
     "metadata": {},
     "output_type": "execute_result"
    }
   ],
   "source": [
    "DATA_DICT={'target':target, 'smiles':smiles, 'unit':unit , 'ic50':ic50}\n",
    "DATA=pd.DataFrame(data=DATA_DICT)\n",
    "DATA.head()"
   ]
  },
  {
   "cell_type": "code",
   "execution_count": null,
   "metadata": {},
   "outputs": [],
   "source": [
    "len(DATA)\n",
    "DATA.to_pickle(\"./clean_data.pkl\")"
   ]
  },
  {
   "cell_type": "code",
   "execution_count": 4,
   "metadata": {},
   "outputs": [],
   "source": [
    "DATA = pd.read_pickle(\"./clean_data.pkl\")"
   ]
  },
  {
   "cell_type": "markdown",
   "metadata": {},
   "source": [
    "## 2  Filter the database to the top 100 targets in the database. You will need a definition of \"top\" such as the targets with the most assays. From these top 100 targets, save the ligands that have an assay result for each of the targets. \n",
    "\n"
   ]
  },
  {
   "cell_type": "code",
   "execution_count": 5,
   "metadata": {},
   "outputs": [
    {
     "data": {
      "text/plain": [
       "nM                 940733\n",
       "ug.mL-1              4953\n",
       "                      146\n",
       "%                      34\n",
       "/uM                    25\n",
       "milliequivalent        20\n",
       "ppm                    18\n",
       "p.p.m.                 10\n",
       "uM tube-1               9\n",
       "min                     9\n",
       "molar ratio             8\n",
       "ucm                     6\n",
       "mg kg-1                 6\n",
       "nmol/mg                 5\n",
       "mg.min/m3               4\n",
       "ug                      3\n",
       "ucm/s                   2\n",
       "umol/dm3                2\n",
       "10'7nM                  1\n",
       "10'8nM                  1\n",
       "10'-4umol/L             1\n",
       "10'13nM                 1\n",
       "Name: unit, dtype: int64"
      ]
     },
     "execution_count": 5,
     "metadata": {},
     "output_type": "execute_result"
    }
   ],
   "source": [
    "unitcounts=DATA['unit'].value_counts()\n",
    "unitcounts"
   ]
  },
  {
   "cell_type": "code",
   "execution_count": 6,
   "metadata": {},
   "outputs": [],
   "source": [
    "Filtered_data= DATA[DATA['unit']=='nM']"
   ]
  },
  {
   "cell_type": "code",
   "execution_count": 7,
   "metadata": {},
   "outputs": [
    {
     "data": {
      "text/plain": [
       "940733"
      ]
     },
     "execution_count": 7,
     "metadata": {},
     "output_type": "execute_result"
    }
   ],
   "source": [
    "len(Filtered_data)"
   ]
  },
  {
   "cell_type": "code",
   "execution_count": 8,
   "metadata": {
    "scrolled": false
   },
   "outputs": [
    {
     "data": {
      "text/plain": [
       "CHEMBL2114881    2057\n",
       "CHEMBL2114714    1381\n",
       "CHEMBL1738239    1210\n",
       "CHEMBL1614190    1205\n",
       "CHEMBL1963883    1186\n",
       "CHEMBL1963941    1186\n",
       "CHEMBL1614432    1128\n",
       "CHEMBL1614529    1106\n",
       "CHEMBL3888191    1062\n",
       "CHEMBL2328568    1017\n",
       "CHEMBL1738498    1013\n",
       "CHEMBL1794550    1013\n",
       "CHEMBL2114818    1011\n",
       "CHEMBL2114932    1011\n",
       "CHEMBL1794574    1011\n",
       "CHEMBL3562022     991\n",
       "CHEMBL1738682     940\n",
       "CHEMBL1738639     940\n",
       "CHEMBL1794362     896\n",
       "CHEMBL1613799     827\n",
       "CHEMBL3881499     800\n",
       "CHEMBL3888383     800\n",
       "CHEMBL3436040     792\n",
       "CHEMBL3436041     792\n",
       "CHEMBL3436039     792\n",
       "CHEMBL3705899     773\n",
       "CHEMBL3888194     758\n",
       "CHEMBL3705123     752\n",
       "CHEMBL1614063     744\n",
       "CHEMBL3887063     741\n",
       "                 ... \n",
       "CHEMBL966664        1\n",
       "CHEMBL2422660       1\n",
       "CHEMBL2214439       1\n",
       "CHEMBL3602942       1\n",
       "CHEMBL3395555       1\n",
       "CHEMBL757027        1\n",
       "CHEMBL2321558       1\n",
       "CHEMBL4004222       1\n",
       "CHEMBL749746        1\n",
       "CHEMBL3887556       1\n",
       "CHEMBL3999268       1\n",
       "CHEMBL4031422       1\n",
       "CHEMBL899839        1\n",
       "CHEMBL3407092       1\n",
       "CHEMBL2350821       1\n",
       "CHEMBL4026999       1\n",
       "CHEMBL828497        1\n",
       "CHEMBL3772528       1\n",
       "CHEMBL938412        1\n",
       "CHEMBL836555        1\n",
       "CHEMBL1120767       1\n",
       "CHEMBL1071097       1\n",
       "CHEMBL764382        1\n",
       "CHEMBL696456        1\n",
       "CHEMBL681436        1\n",
       "CHEMBL759957        1\n",
       "CHEMBL680299        1\n",
       "CHEMBL3430597       1\n",
       "CHEMBL3406661       1\n",
       "CHEMBL3870772       1\n",
       "Name: target, Length: 76738, dtype: int64"
      ]
     },
     "execution_count": 8,
     "metadata": {},
     "output_type": "execute_result"
    }
   ],
   "source": [
    "# count each target has how many element\n",
    "counts=Filtered_data['target'].value_counts()\n",
    "counts"
   ]
  },
  {
   "cell_type": "code",
   "execution_count": 10,
   "metadata": {},
   "outputs": [
    {
     "data": {
      "text/plain": [
       "396118"
      ]
     },
     "execution_count": 10,
     "metadata": {},
     "output_type": "execute_result"
    }
   ],
   "source": [
    "Pick_top=4000\n",
    "sum(counts[:Pick_top])"
   ]
  },
  {
   "cell_type": "markdown",
   "metadata": {},
   "source": [
    " Get top 100 targets in the database. \n",
    " \n",
    " Here we define \"top\" as the targets with the most assays. "
   ]
  },
  {
   "cell_type": "code",
   "execution_count": 11,
   "metadata": {
    "scrolled": true
   },
   "outputs": [
    {
     "data": {
      "text/plain": [
       "Index(['CHEMBL2114881', 'CHEMBL2114714', 'CHEMBL1738239', 'CHEMBL1614190',\n",
       "       'CHEMBL1963883', 'CHEMBL1963941', 'CHEMBL1614432', 'CHEMBL1614529',\n",
       "       'CHEMBL3888191', 'CHEMBL2328568',\n",
       "       ...\n",
       "       'CHEMBL3586840', 'CHEMBL2090704', 'CHEMBL3705701', 'CHEMBL1686964',\n",
       "       'CHEMBL3705874', 'CHEMBL3132260', 'CHEMBL3598804', 'CHEMBL886046',\n",
       "       'CHEMBL860989', 'CHEMBL1738428'],\n",
       "      dtype='object', length=4000)"
      ]
     },
     "execution_count": 11,
     "metadata": {},
     "output_type": "execute_result"
    }
   ],
   "source": [
    "top_target= counts.index[:Pick_top]\n",
    "top_target"
   ]
  },
  {
   "cell_type": "code",
   "execution_count": 12,
   "metadata": {},
   "outputs": [
    {
     "data": {
      "text/html": [
       "<div>\n",
       "<style scoped>\n",
       "    .dataframe tbody tr th:only-of-type {\n",
       "        vertical-align: middle;\n",
       "    }\n",
       "\n",
       "    .dataframe tbody tr th {\n",
       "        vertical-align: top;\n",
       "    }\n",
       "\n",
       "    .dataframe thead th {\n",
       "        text-align: right;\n",
       "    }\n",
       "</style>\n",
       "<table border=\"1\" class=\"dataframe\">\n",
       "  <thead>\n",
       "    <tr style=\"text-align: right;\">\n",
       "      <th></th>\n",
       "      <th>target</th>\n",
       "      <th>smiles</th>\n",
       "      <th>unit</th>\n",
       "      <th>ic50</th>\n",
       "    </tr>\n",
       "  </thead>\n",
       "  <tbody>\n",
       "    <tr>\n",
       "      <th>5</th>\n",
       "      <td>CHEMBL812446</td>\n",
       "      <td>CN1CCN(CC1)C(=O)CCC2=C(C)C(=O)c3ccccc3C2=O</td>\n",
       "      <td>nM</td>\n",
       "      <td>50000.0</td>\n",
       "    </tr>\n",
       "    <tr>\n",
       "      <th>8</th>\n",
       "      <td>CHEMBL665702</td>\n",
       "      <td>CN(Cc1ccc2nc(N)nc(N)c2n1)c3cccc(Cl)c3</td>\n",
       "      <td>nM</td>\n",
       "      <td>20.0</td>\n",
       "    </tr>\n",
       "    <tr>\n",
       "      <th>9</th>\n",
       "      <td>CHEMBL1677388</td>\n",
       "      <td>COC(OC)c1ccc(C#N)c(SCC(=O)c2ccc(Cl)cc2)n1</td>\n",
       "      <td>nM</td>\n",
       "      <td>10000.0</td>\n",
       "    </tr>\n",
       "    <tr>\n",
       "      <th>15</th>\n",
       "      <td>CHEMBL665590</td>\n",
       "      <td>COc1cc(NCc2ccc3nc(N)nc(N)c3c2C)cc(OC)c1OC</td>\n",
       "      <td>nM</td>\n",
       "      <td>10.0</td>\n",
       "    </tr>\n",
       "    <tr>\n",
       "      <th>16</th>\n",
       "      <td>CHEMBL812446</td>\n",
       "      <td>CN1CCN(CCCNC(=O)CCCC2=C(C)C(=O)c3cccc(O)c3C2=O...</td>\n",
       "      <td>nM</td>\n",
       "      <td>32000.0</td>\n",
       "    </tr>\n",
       "    <tr>\n",
       "      <th>18</th>\n",
       "      <td>CHEMBL660279</td>\n",
       "      <td>FC(F)(F)c1cc(\\C=N\\NC(=N)S)cc(c1)C(F)(F)F</td>\n",
       "      <td>nM</td>\n",
       "      <td>320.0</td>\n",
       "    </tr>\n",
       "    <tr>\n",
       "      <th>19</th>\n",
       "      <td>CHEMBL811879</td>\n",
       "      <td>NCCCN1c2ccccc2Sc3ccccc13</td>\n",
       "      <td>nM</td>\n",
       "      <td>1412000.0</td>\n",
       "    </tr>\n",
       "    <tr>\n",
       "      <th>20</th>\n",
       "      <td>CHEMBL665590</td>\n",
       "      <td>COc1ccc(OC)c(c1)N(C)Cc2cnc3nc(N)nc(N)c3c2C</td>\n",
       "      <td>nM</td>\n",
       "      <td>28.0</td>\n",
       "    </tr>\n",
       "    <tr>\n",
       "      <th>21</th>\n",
       "      <td>CHEMBL665590</td>\n",
       "      <td>Nc1nc(N)c2cc(CNc3cccc4ccccc34)ccc2n1</td>\n",
       "      <td>nM</td>\n",
       "      <td>27.0</td>\n",
       "    </tr>\n",
       "    <tr>\n",
       "      <th>22</th>\n",
       "      <td>CHEMBL665590</td>\n",
       "      <td>COc1ccc(NCc2cnc3nc(N)nc(N)c3c2C)cc1OC</td>\n",
       "      <td>nM</td>\n",
       "      <td>2.7</td>\n",
       "    </tr>\n",
       "  </tbody>\n",
       "</table>\n",
       "</div>"
      ],
      "text/plain": [
       "           target                                             smiles unit  \\\n",
       "5    CHEMBL812446         CN1CCN(CC1)C(=O)CCC2=C(C)C(=O)c3ccccc3C2=O   nM   \n",
       "8    CHEMBL665702              CN(Cc1ccc2nc(N)nc(N)c2n1)c3cccc(Cl)c3   nM   \n",
       "9   CHEMBL1677388          COC(OC)c1ccc(C#N)c(SCC(=O)c2ccc(Cl)cc2)n1   nM   \n",
       "15   CHEMBL665590          COc1cc(NCc2ccc3nc(N)nc(N)c3c2C)cc(OC)c1OC   nM   \n",
       "16   CHEMBL812446  CN1CCN(CCCNC(=O)CCCC2=C(C)C(=O)c3cccc(O)c3C2=O...   nM   \n",
       "18   CHEMBL660279           FC(F)(F)c1cc(\\C=N\\NC(=N)S)cc(c1)C(F)(F)F   nM   \n",
       "19   CHEMBL811879                           NCCCN1c2ccccc2Sc3ccccc13   nM   \n",
       "20   CHEMBL665590         COc1ccc(OC)c(c1)N(C)Cc2cnc3nc(N)nc(N)c3c2C   nM   \n",
       "21   CHEMBL665590               Nc1nc(N)c2cc(CNc3cccc4ccccc34)ccc2n1   nM   \n",
       "22   CHEMBL665590              COc1ccc(NCc2cnc3nc(N)nc(N)c3c2C)cc1OC   nM   \n",
       "\n",
       "         ic50  \n",
       "5     50000.0  \n",
       "8        20.0  \n",
       "9     10000.0  \n",
       "15       10.0  \n",
       "16    32000.0  \n",
       "18      320.0  \n",
       "19  1412000.0  \n",
       "20       28.0  \n",
       "21       27.0  \n",
       "22        2.7  "
      ]
     },
     "execution_count": 12,
     "metadata": {},
     "output_type": "execute_result"
    }
   ],
   "source": [
    "Filtered_data= Filtered_data[Filtered_data['target'].isin(top_target)]\n",
    "Filtered_data[:10]\n"
   ]
  },
  {
   "cell_type": "code",
   "execution_count": 13,
   "metadata": {},
   "outputs": [
    {
     "data": {
      "text/plain": [
       "396118"
      ]
     },
     "execution_count": 13,
     "metadata": {},
     "output_type": "execute_result"
    }
   ],
   "source": [
    "len(Filtered_data)\n"
   ]
  },
  {
   "cell_type": "markdown",
   "metadata": {},
   "source": [
    "## 3  Binarize the binding affinity for each ligand in the assay. That is, convert the continuous measure of binding to binary. You should use the column 'IC50' for this calculation. Anything below 300 nM should be considered as an active binding. Anything above 10 uM should be considered non-binding (inactive). \n",
    "\n",
    "below 300 nM should be considered as an active binding -->1<br>\n",
    "Anything above 10 uM should be considered non-binding (inactive)--->0\n",
    "\n",
    "10 uM=10000 nm\n",
    "\n",
    "Let's count how many records are belong to 0 and 1"
   ]
  },
  {
   "cell_type": "code",
   "execution_count": 14,
   "metadata": {},
   "outputs": [
    {
     "name": "stdout",
     "output_type": "stream",
     "text": [
      "Before 396118\n",
      "After 278953\n",
      "droped 117165\n"
     ]
    }
   ],
   "source": [
    "# first we throw all the data between 300 and 10000\n",
    "df=Filtered_data.copy()\n",
    "before_drop=len(df)\n",
    "print('Before',before_drop)\n",
    "\n",
    "df.drop(df[(df.ic50 > 300) & (df.ic50 < 10000) ].index, inplace=True)\n",
    "print('After',len(df))\n",
    "print('droped',before_drop-len(df))"
   ]
  },
  {
   "cell_type": "code",
   "execution_count": 15,
   "metadata": {},
   "outputs": [
    {
     "data": {
      "text/plain": [
       "<matplotlib.axes._subplots.AxesSubplot at 0x1bac6f4e780>"
      ]
     },
     "execution_count": 15,
     "metadata": {},
     "output_type": "execute_result"
    },
    {
     "data": {
      "image/png": "[encoded data removed]",
      "text/plain": [
       "<Figure size 432x288 with 1 Axes>"
      ]
     },
     "metadata": {},
     "output_type": "display_data"
    }
   ],
   "source": [
    "test=df.copy()\n",
    "test['ic50'][(test.ic50 <= 300)]=1\n",
    "test['ic50'][(test.ic50 >= 10000)]=0\n",
    "test['ic50'].plot.hist()"
   ]
  },
  {
   "cell_type": "code",
   "execution_count": 16,
   "metadata": {},
   "outputs": [
    {
     "data": {
      "text/plain": [
       "1.0    170283\n",
       "0.0    108670\n",
       "Name: ic50, dtype: int64"
      ]
     },
     "execution_count": 16,
     "metadata": {},
     "output_type": "execute_result"
    }
   ],
   "source": [
    "test.ic50.value_counts()"
   ]
  },
  {
   "cell_type": "code",
   "execution_count": 17,
   "metadata": {},
   "outputs": [
    {
     "data": {
      "text/html": [
       "<div>\n",
       "<style scoped>\n",
       "    .dataframe tbody tr th:only-of-type {\n",
       "        vertical-align: middle;\n",
       "    }\n",
       "\n",
       "    .dataframe tbody tr th {\n",
       "        vertical-align: top;\n",
       "    }\n",
       "\n",
       "    .dataframe thead th {\n",
       "        text-align: right;\n",
       "    }\n",
       "</style>\n",
       "<table border=\"1\" class=\"dataframe\">\n",
       "  <thead>\n",
       "    <tr style=\"text-align: right;\">\n",
       "      <th></th>\n",
       "      <th>target</th>\n",
       "      <th>smiles</th>\n",
       "      <th>unit</th>\n",
       "      <th>ic50</th>\n",
       "    </tr>\n",
       "  </thead>\n",
       "  <tbody>\n",
       "    <tr>\n",
       "      <th>5</th>\n",
       "      <td>CHEMBL812446</td>\n",
       "      <td>CN1CCN(CC1)C(=O)CCC2=C(C)C(=O)c3ccccc3C2=O</td>\n",
       "      <td>nM</td>\n",
       "      <td>0.0</td>\n",
       "    </tr>\n",
       "    <tr>\n",
       "      <th>8</th>\n",
       "      <td>CHEMBL665702</td>\n",
       "      <td>CN(Cc1ccc2nc(N)nc(N)c2n1)c3cccc(Cl)c3</td>\n",
       "      <td>nM</td>\n",
       "      <td>1.0</td>\n",
       "    </tr>\n",
       "    <tr>\n",
       "      <th>9</th>\n",
       "      <td>CHEMBL1677388</td>\n",
       "      <td>COC(OC)c1ccc(C#N)c(SCC(=O)c2ccc(Cl)cc2)n1</td>\n",
       "      <td>nM</td>\n",
       "      <td>0.0</td>\n",
       "    </tr>\n",
       "    <tr>\n",
       "      <th>15</th>\n",
       "      <td>CHEMBL665590</td>\n",
       "      <td>COc1cc(NCc2ccc3nc(N)nc(N)c3c2C)cc(OC)c1OC</td>\n",
       "      <td>nM</td>\n",
       "      <td>1.0</td>\n",
       "    </tr>\n",
       "    <tr>\n",
       "      <th>16</th>\n",
       "      <td>CHEMBL812446</td>\n",
       "      <td>CN1CCN(CCCNC(=O)CCCC2=C(C)C(=O)c3cccc(O)c3C2=O...</td>\n",
       "      <td>nM</td>\n",
       "      <td>0.0</td>\n",
       "    </tr>\n",
       "    <tr>\n",
       "      <th>19</th>\n",
       "      <td>CHEMBL811879</td>\n",
       "      <td>NCCCN1c2ccccc2Sc3ccccc13</td>\n",
       "      <td>nM</td>\n",
       "      <td>0.0</td>\n",
       "    </tr>\n",
       "    <tr>\n",
       "      <th>20</th>\n",
       "      <td>CHEMBL665590</td>\n",
       "      <td>COc1ccc(OC)c(c1)N(C)Cc2cnc3nc(N)nc(N)c3c2C</td>\n",
       "      <td>nM</td>\n",
       "      <td>1.0</td>\n",
       "    </tr>\n",
       "    <tr>\n",
       "      <th>21</th>\n",
       "      <td>CHEMBL665590</td>\n",
       "      <td>Nc1nc(N)c2cc(CNc3cccc4ccccc34)ccc2n1</td>\n",
       "      <td>nM</td>\n",
       "      <td>1.0</td>\n",
       "    </tr>\n",
       "    <tr>\n",
       "      <th>22</th>\n",
       "      <td>CHEMBL665590</td>\n",
       "      <td>COc1ccc(NCc2cnc3nc(N)nc(N)c3c2C)cc1OC</td>\n",
       "      <td>nM</td>\n",
       "      <td>1.0</td>\n",
       "    </tr>\n",
       "    <tr>\n",
       "      <th>25</th>\n",
       "      <td>CHEMBL886170</td>\n",
       "      <td>CN(C)Cc1ccn2c(c3ccnc(NC(=O)C4CCCC4)n3)c(nc2c1)...</td>\n",
       "      <td>nM</td>\n",
       "      <td>1.0</td>\n",
       "    </tr>\n",
       "  </tbody>\n",
       "</table>\n",
       "</div>"
      ],
      "text/plain": [
       "           target                                             smiles unit  \\\n",
       "5    CHEMBL812446         CN1CCN(CC1)C(=O)CCC2=C(C)C(=O)c3ccccc3C2=O   nM   \n",
       "8    CHEMBL665702              CN(Cc1ccc2nc(N)nc(N)c2n1)c3cccc(Cl)c3   nM   \n",
       "9   CHEMBL1677388          COC(OC)c1ccc(C#N)c(SCC(=O)c2ccc(Cl)cc2)n1   nM   \n",
       "15   CHEMBL665590          COc1cc(NCc2ccc3nc(N)nc(N)c3c2C)cc(OC)c1OC   nM   \n",
       "16   CHEMBL812446  CN1CCN(CCCNC(=O)CCCC2=C(C)C(=O)c3cccc(O)c3C2=O...   nM   \n",
       "19   CHEMBL811879                           NCCCN1c2ccccc2Sc3ccccc13   nM   \n",
       "20   CHEMBL665590         COc1ccc(OC)c(c1)N(C)Cc2cnc3nc(N)nc(N)c3c2C   nM   \n",
       "21   CHEMBL665590               Nc1nc(N)c2cc(CNc3cccc4ccccc34)ccc2n1   nM   \n",
       "22   CHEMBL665590              COc1ccc(NCc2cnc3nc(N)nc(N)c3c2C)cc1OC   nM   \n",
       "25   CHEMBL886170  CN(C)Cc1ccn2c(c3ccnc(NC(=O)C4CCCC4)n3)c(nc2c1)...   nM   \n",
       "\n",
       "    ic50  \n",
       "5    0.0  \n",
       "8    1.0  \n",
       "9    0.0  \n",
       "15   1.0  \n",
       "16   0.0  \n",
       "19   0.0  \n",
       "20   1.0  \n",
       "21   1.0  \n",
       "22   1.0  \n",
       "25   1.0  "
      ]
     },
     "execution_count": 17,
     "metadata": {},
     "output_type": "execute_result"
    }
   ],
   "source": [
    "Binarized_data=test.copy()\n",
    "Binarized_data[:10]"
   ]
  },
  {
   "cell_type": "code",
   "execution_count": 18,
   "metadata": {},
   "outputs": [],
   "source": [
    "Binarized_data.to_pickle(\"Binarized_data.pkl\")"
   ]
  },
  {
   "cell_type": "code",
   "execution_count": 19,
   "metadata": {},
   "outputs": [],
   "source": [
    "Binarized_data= pd.read_pickle(\"Binarized_data.pkl\")"
   ]
  },
  {
   "cell_type": "markdown",
   "metadata": {},
   "source": [
    "## 4  Featurize each ligand using RDKit (https://www.rdkit.org (Links to an external site.)Links to an external site.). This will convert the ligand representation into a binary vector of features. Mention any hyper parameters you use.\n"
   ]
  },
  {
   "cell_type": "code",
   "execution_count": 20,
   "metadata": {},
   "outputs": [],
   "source": [
    "from rdkit import Chem\n",
    "from rdkit.Chem import MACCSkeys, AllChem\n",
    "from rdkit.Avalon import pyAvalonTools as fpAvalon\n",
    "from rdkit.Chem.AtomPairs import Pairs, Torsions\n",
    "from rdkit.Chem.Fingerprints import FingerprintMols\n",
    "from rdkit.Chem.ChemicalFeatures import BuildFeatureFactory\n",
    "from rdkit.Chem import rdMolDescriptors\n",
    "import pandas as pd\n",
    "import argparse\n",
    "import textwrap\n",
    "import getopt\n",
    "from argparse import ArgumentParser\n",
    "import time"
   ]
  },
  {
   "cell_type": "code",
   "execution_count": 21,
   "metadata": {},
   "outputs": [],
   "source": [
    "def CalculateFP_mod(smiles, N_BITS=256):\n",
    "    m = Chem.MolFromSmiles(smiles)\n",
    "    if m is None:\n",
    "        raise ValueError('SMILES cannot be converted to a RDKit molecules:', smiles)\n",
    "\n",
    "    return AllChem.GetMorganFingerprintAsBitVect(m, 2, nBits=N_BITS)"
   ]
  },
  {
   "cell_type": "code",
   "execution_count": 22,
   "metadata": {},
   "outputs": [],
   "source": [
    "# convert smile to np arr bitvector\n",
    "def smile2BitVect_nparr(smiles):\n",
    "    bitstr=CalculateFP_mod(smiles,256).ToBitString()\n",
    "    bitvector=np.array([int(i) for i in bitstr])\n",
    "    return bitvector\n",
    "        "
   ]
  },
  {
   "cell_type": "markdown",
   "metadata": {},
   "source": [
    "#### The hyper parameters used here are radius and the length of bit vector. I looked the RDKit document and almost all their examples were using radius=2 as default. So we will not change the radius.\n",
    "\n",
    "For length of bit vector we first calculate the number of 1. As you can see the test below, it is sparse. So we do not need to set the length too long."
   ]
  },
  {
   "cell_type": "code",
   "execution_count": 23,
   "metadata": {},
   "outputs": [
    {
     "data": {
      "text/plain": [
       "array([0, 0, 0, 0, 1, 1, 1, 0, 0, 0, 0, 0, 0, 0, 0, 1, 0, 0, 0, 1, 0, 0,\n",
       "       0, 0, 1, 0, 0, 0, 0, 0, 1, 0, 0, 1, 1, 0, 0, 0, 1, 1, 0, 1, 0, 0,\n",
       "       0, 1, 1, 0, 0, 1, 0, 0, 0, 0, 0, 0, 0, 0, 1, 0, 0, 1, 0, 0, 1, 0,\n",
       "       0, 0, 0, 1, 0, 0, 0, 0, 0, 1, 0, 0, 0, 0, 1, 1, 0, 0, 0, 0, 0, 0,\n",
       "       0, 0, 0, 0, 0, 1, 0, 0, 0, 0, 1, 0, 1, 0, 0, 0, 0, 0, 0, 0, 0, 0,\n",
       "       0, 0, 0, 0, 1, 0, 0, 0, 0, 0, 0, 0, 0, 0, 0, 1, 0, 0, 1, 0, 0, 0,\n",
       "       0, 0, 0, 0, 1, 0, 1, 0, 0, 0, 0, 0, 0, 0, 0, 1, 0, 0, 0, 0, 1, 0,\n",
       "       0, 0, 0, 0, 1, 0, 0, 0, 0, 1, 0, 0, 0, 1, 0, 1, 0, 0, 0, 1, 0, 0,\n",
       "       0, 1, 0, 0, 0, 0, 0, 1, 0, 0, 0, 0, 0, 0, 0, 0, 0, 0, 0, 0, 0, 1,\n",
       "       0, 0, 0, 0, 1, 0, 0, 0, 0, 0, 0, 0, 0, 0, 0, 0, 1, 0, 0, 1, 0, 0,\n",
       "       0, 0, 0, 0, 0, 0, 0, 0, 0, 0, 0, 0, 0, 0, 0, 0, 0, 0, 0, 1, 0, 0,\n",
       "       0, 1, 1, 0, 0, 0, 0, 0, 0, 1, 0, 0, 0, 1])"
      ]
     },
     "execution_count": 23,
     "metadata": {},
     "output_type": "execute_result"
    }
   ],
   "source": [
    "c=smile2BitVect_nparr('CCN1[C@@H](CCCC1=O)C(=O)NCc2cccc(c2Cl)C(F)(F)F')\n",
    "c"
   ]
  },
  {
   "cell_type": "code",
   "execution_count": 24,
   "metadata": {},
   "outputs": [
    {
     "name": "stdout",
     "output_type": "stream",
     "text": [
      "40\n",
      "48\n",
      "50\n",
      "51\n"
     ]
    }
   ],
   "source": [
    "print(CalculateFP_mod('CCN1[C@@H](CCCC1=O)C(=O)NCc2cccc(c2Cl)C(F)(F)F',128).ToBitString().count('1') )\n",
    "print(CalculateFP_mod('CCN1[C@@H](CCCC1=O)C(=O)NCc2cccc(c2Cl)C(F)(F)F',256).ToBitString().count('1') )\n",
    "print(CalculateFP_mod('CCN1[C@@H](CCCC1=O)C(=O)NCc2cccc(c2Cl)C(F)(F)F',512).ToBitString().count('1') )\n",
    "print(CalculateFP_mod('CCN1[C@@H](CCCC1=O)C(=O)NCc2cccc(c2Cl)C(F)(F)F',1024).ToBitString().count('1') )"
   ]
  },
  {
   "cell_type": "markdown",
   "metadata": {},
   "source": [
    "256 should be a suitable number. Because when reduced from 1024-512 and 512-256 the number of 1 only reduced 1 and 2 "
   ]
  },
  {
   "cell_type": "code",
   "execution_count": 42,
   "metadata": {},
   "outputs": [],
   "source": [
    "# init our new data set after pre-processing \n",
    "# it will be a dict and key is the name of target and value is a list\n",
    "# list[0] save bitvect and list[1] save label\n",
    "tasks ={}\n",
    "for each_target in top_target:\n",
    "    tasks[each_target]=[[],[],[]]\n",
    "    # 0 save bit vector \n",
    "    # 1 save label\n",
    "    # 2 save the ratio of 1/0 in label\n",
    "        "
   ]
  },
  {
   "cell_type": "code",
   "execution_count": 43,
   "metadata": {},
   "outputs": [
    {
     "name": "stdout",
     "output_type": "stream",
     "text": [
      "missed smile 1\n"
     ]
    }
   ],
   "source": [
    "# some items has missed smile or their smile is a float number or their smile is something other than a smile\n",
    "# so we just need to remove them\n",
    "# \n",
    "missed_smile=0\n",
    "for i in range(len(Binarized_data)):\n",
    "    item=Binarized_data.iloc[i]\n",
    "    \n",
    "    target=item.target\n",
    "    each_label= int(item.ic50)\n",
    "    smile=item.smiles\n",
    "\n",
    "    try: # try if convert failed \n",
    "        bitvector=smile2BitVect_nparr(smile)\n",
    "        tasks[target][0].append(bitvector)\n",
    "        tasks[target][1].append(each_label)\n",
    "    except:\n",
    "        missed_smile=missed_smile+1\n",
    "print('missed smile',missed_smile)\n",
    "    "
   ]
  },
  {
   "cell_type": "code",
   "execution_count": 44,
   "metadata": {},
   "outputs": [],
   "source": [
    "# convert trainning data into np array\n",
    "for key,value in tasks.items():\n",
    "    value[0]=np.array(value[0])\n",
    "    value[1]=np.array(value[1])"
   ]
  },
  {
   "cell_type": "code",
   "execution_count": 45,
   "metadata": {},
   "outputs": [],
   "source": [
    "def check_if_all_zero_or_all_ones(label):\n",
    "    length=len(label)\n",
    "    if length==0:\n",
    "        return 0\n",
    "    ones=sum(label)\n",
    "    ratio=ones/length\n",
    "    return ratio\n",
    "    "
   ]
  },
  {
   "cell_type": "code",
   "execution_count": 46,
   "metadata": {},
   "outputs": [],
   "source": [
    "for key,value in tasks.items():\n",
    "    ratio=check_if_all_zero_or_all_ones(value[1])\n",
    "    value[2]=ratio\n"
   ]
  },
  {
   "cell_type": "code",
   "execution_count": 47,
   "metadata": {
    "scrolled": false
   },
   "outputs": [
    {
     "name": "stdout",
     "output_type": "stream",
     "text": [
      "CHEMBL2114881 (2031, 256) (2031,) 0.0\n",
      "CHEMBL2114714 (1346, 256) (1346,) 0.0\n",
      "CHEMBL1738239 (1051, 256) (1051,) 0.0\n",
      "CHEMBL1614190 (892, 256) (892,) 0.0011210762331838565\n",
      "CHEMBL1963883 (1186, 256) (1186,) 0.0\n",
      "CHEMBL1963941 (1186, 256) (1186,) 0.0\n",
      "CHEMBL1614432 (621, 256) (621,) 0.0\n",
      "CHEMBL1614529 (164, 256) (164,) 0.0\n",
      "CHEMBL3888191 (947, 256) (947,) 0.996832101372756\n",
      "CHEMBL2328568 (585, 256) (585,) 0.8341880341880342\n",
      "CHEMBL1738498 (651, 256) (651,) 0.0015360983102918587\n",
      "CHEMBL1794550 (958, 256) (958,) 0.0\n",
      "CHEMBL2114818 (369, 256) (369,) 0.02168021680216802\n",
      "CHEMBL2114932 (304, 256) (304,) 0.03289473684210526\n",
      "CHEMBL1794574 (244, 256) (244,) 0.0\n",
      "CHEMBL3562022 (709, 256) (709,) 0.0014104372355430183\n",
      "CHEMBL1738682 (497, 256) (497,) 0.08048289738430583\n",
      "CHEMBL1738639 (331, 256) (331,) 0.13595166163141995\n",
      "CHEMBL1794362 (537, 256) (537,) 0.020484171322160148\n",
      "CHEMBL1613799 (571, 256) (571,) 0.0\n",
      "CHEMBL3881499 (625, 256) (625,) 0.9776\n",
      "CHEMBL3888383 (722, 256) (722,) 0.997229916897507\n",
      "CHEMBL3436040 (423, 256) (423,) 0.03309692671394799\n",
      "CHEMBL3436041 (412, 256) (412,) 0.03398058252427184\n",
      "CHEMBL3436039 (428, 256) (428,) 0.03271028037383177\n",
      "CHEMBL3705899 (531, 256) (531,) 0.9322033898305084\n",
      "CHEMBL3888194 (591, 256) (591,) 0.9695431472081218\n",
      "CHEMBL3705123 (577, 256) (577,) 1.0\n",
      "CHEMBL1614063 (741, 256) (741,) 0.0\n",
      "CHEMBL3887063 (689, 256) (689,) 0.9709724238026125\n"
     ]
    }
   ],
   "source": [
    "# you can see how many records a target has\n",
    "times=0\n",
    "for key,value in tasks.items():\n",
    "    print(key,value[0].shape,value[1].shape,value[2])\n",
    "    \n",
    "    times=times+1\n",
    "    if times ==30:\n",
    "        break"
   ]
  },
  {
   "cell_type": "code",
   "execution_count": 48,
   "metadata": {},
   "outputs": [],
   "source": [
    "# you can see how many records a target has\n",
    "filtered_tasks={}\n",
    "T=0.2\n",
    "for key,value in tasks.items():\n",
    "    if value[2]>T and value[2]<1-T:\n",
    "        filtered_tasks[key]= tasks[key]\n"
   ]
  },
  {
   "cell_type": "code",
   "execution_count": 49,
   "metadata": {
    "scrolled": false
   },
   "outputs": [
    {
     "name": "stdout",
     "output_type": "stream",
     "text": [
      "CHEMBL3705476 (231, 256) (231,) 0.7748917748917749\n",
      "CHEMBL3887333 (319, 256) (319,) 0.6394984326018809\n",
      "CHEMBL3705983 (215, 256) (215,) 0.4372093023255814\n",
      "CHEMBL3705790 (274, 256) (274,) 0.7335766423357665\n",
      "CHEMBL3706316 (331, 256) (331,) 0.7885196374622356\n",
      "CHEMBL1119333 (315, 256) (315,) 0.7936507936507936\n",
      "CHEMBL3705699 (141, 256) (141,) 0.7730496453900709\n",
      "CHEMBL3705791 (214, 256) (214,) 0.7897196261682243\n",
      "CHEMBL3705631 (216, 256) (216,) 0.49537037037037035\n",
      "CHEMBL3705264 (120, 256) (120,) 0.5416666666666666\n",
      "CHEMBL3734165 (214, 256) (214,) 0.6121495327102804\n",
      "CHEMBL1614377 (249, 256) (249,) 0.3855421686746988\n",
      "CHEMBL3888435 (93, 256) (93,) 0.20430107526881722\n",
      "CHEMBL3887866 (150, 256) (150,) 0.7866666666666666\n",
      "CHEMBL3705844 (149, 256) (149,) 0.785234899328859\n",
      "CHEMBL3889241 (174, 256) (174,) 0.6896551724137931\n",
      "CHEMBL3705773 (111, 256) (111,) 0.36036036036036034\n",
      "CHEMBL1794546 (27, 256) (27,) 0.48148148148148145\n",
      "CHEMBL3880113 (207, 256) (207,) 0.6183574879227053\n",
      "CHEMBL1738482 (41, 256) (41,) 0.5365853658536586\n",
      "CHEMBL3706306 (188, 256) (188,) 0.6329787234042553\n",
      "CHEMBL3888489 (66, 256) (66,) 0.6818181818181818\n",
      "CHEMBL2354227 (72, 256) (72,) 0.2916666666666667\n",
      "CHEMBL2114728 (35, 256) (35,) 0.37142857142857144\n",
      "CHEMBL1243967 (122, 256) (122,) 0.7377049180327869\n",
      "CHEMBL3705666 (73, 256) (73,) 0.4520547945205479\n",
      "CHEMBL3887894 (73, 256) (73,) 0.4520547945205479\n",
      "CHEMBL1243968 (82, 256) (82,) 0.5121951219512195\n",
      "CHEMBL1243965 (84, 256) (84,) 0.4880952380952381\n",
      "CHEMBL3734166 (109, 256) (109,) 0.48623853211009177\n"
     ]
    }
   ],
   "source": [
    "# you can see how many records a target has\n",
    "times=0\n",
    "for key,value in filtered_tasks.items():\n",
    "    print(key,value[0].shape,value[1].shape,value[2])\n",
    "    times=times+1\n",
    "    if times ==30:\n",
    "        break"
   ]
  },
  {
   "cell_type": "code",
   "execution_count": 50,
   "metadata": {},
   "outputs": [],
   "source": [
    "# ll=tasks['CHEMBL3705983'][1]\n",
    "# # ll=[0,0,0,0,0,0,0,0,1,1,1]\n",
    "# ll"
   ]
  },
  {
   "cell_type": "code",
   "execution_count": 51,
   "metadata": {},
   "outputs": [
    {
     "name": "stdout",
     "output_type": "stream",
     "text": [
      "After remove invaild smiles,and very imbalanced data we have:  24792\n"
     ]
    }
   ],
   "source": [
    "total=0\n",
    "for key,value in filtered_tasks.items():\n",
    "    total=total+value[0].shape[0]\n",
    "#     print(key,value[0].shape,value[1].shape)\n",
    "print('After remove invaild smiles,and very imbalanced data we have: ',total)"
   ]
  },
  {
   "cell_type": "code",
   "execution_count": 52,
   "metadata": {},
   "outputs": [
    {
     "name": "stdout",
     "output_type": "stream",
     "text": [
      "1: 13681\n",
      "0: 11111\n"
     ]
    }
   ],
   "source": [
    "all_ones=0\n",
    "for key,value in filtered_tasks.items():\n",
    "    ones=sum(value[1])\n",
    "    all_ones=all_ones+ones\n",
    "\n",
    "print('1:', all_ones )\n",
    "print('0:', total-all_ones)"
   ]
  },
  {
   "cell_type": "code",
   "execution_count": 54,
   "metadata": {},
   "outputs": [],
   "source": [
    "pickle_out = open(\"filtered_tasks.pickle\",\"wb\")\n",
    "pickle.dump(filtered_tasks, pickle_out)"
   ]
  },
  {
   "cell_type": "code",
   "execution_count": 2,
   "metadata": {},
   "outputs": [
    {
     "name": "stdout",
     "output_type": "stream",
     "text": [
      "All task Number: 674\n"
     ]
    }
   ],
   "source": [
    "pickle_in = open(\"filtered_tasks.pickle\",\"rb\")\n",
    "filtered_tasks = pickle.load(pickle_in)\n",
    "print('All task Number:',len(filtered_tasks))"
   ]
  },
  {
   "cell_type": "code",
   "execution_count": 3,
   "metadata": {},
   "outputs": [
    {
     "name": "stdout",
     "output_type": "stream",
     "text": [
      "All task Number: 674\n"
     ]
    }
   ],
   "source": [
    "print('All task Number:',len(filtered_tasks))"
   ]
  },
  {
   "cell_type": "markdown",
   "metadata": {},
   "source": [
    "## 5 Train a multi-task model (one model for each target). Use an 80/20 split for each target.\n"
   ]
  },
  {
   "cell_type": "code",
   "execution_count": 4,
   "metadata": {},
   "outputs": [
    {
     "name": "stderr",
     "output_type": "stream",
     "text": [
      "Using TensorFlow backend.\n"
     ]
    }
   ],
   "source": [
    "from keras.layers import Input, Dense\n",
    "from keras.models import Model\n",
    "from keras.layers import Dense, Dropout, Activation, Flatten\n",
    "from sklearn.model_selection import train_test_split\n",
    "inputs = Input(shape=(256,))\n",
    "shared_mlp = Dense(32, activation='relu')(inputs)\n",
    "# x = Dropout(0.5)(x)\n",
    "shared_mlp = Dense(32, activation='relu')(shared_mlp)\n",
    "\n",
    "# make a dictionary of models for each task\n",
    "models_mtl = dict()\n",
    "\n",
    "for x in filtered_tasks.keys():\n",
    "    personal_layer = Dense(10, activation='relu')(shared_mlp)\n",
    "    output_layer = Dense(1,activation='sigmoid')(personal_layer)\n",
    "    model = Model(inputs=inputs, outputs=output_layer)\n",
    "    model.compile(optimizer='sgd', loss='mean_squared_error')\n",
    "    models_mtl[x] = model"
   ]
  },
  {
   "cell_type": "code",
   "execution_count": 5,
   "metadata": {},
   "outputs": [],
   "source": [
    "X_train = dict()\n",
    "y_train = dict()\n",
    "X_test = dict()\n",
    "y_test = dict()\n",
    "\n",
    "for x in filtered_tasks.keys():\n",
    "    X_train[x], X_test[x], y_train[x], y_test[x] = train_test_split(filtered_tasks[x][0], \n",
    "                                                        filtered_tasks[x][1], \n",
    "                                                        test_size=0.2, \n",
    "                                                        random_state=42)"
   ]
  },
  {
   "cell_type": "code",
   "execution_count": 6,
   "metadata": {},
   "outputs": [
    {
     "name": "stdout",
     "output_type": "stream",
     "text": [
      "674\n"
     ]
    },
    {
     "name": "stdout",
     "output_type": "stream",
     "text": [
      "Epoch 0, training on (30, 256)        training on (6, 256)        training on (13, 256)        training on (28, 256)        training on (19, 256)        training on (20, 256)        training on (20, 256)        training on (12, 256)        training on (16, 256)        training on (20, 256)        training on (21, 256)        training on (26, 256)        training on (31, 256)        training on (3, 256)        training on (8, 256)        training on (31, 256)        training on (24, 256)        training on (20, 256)        training on (14, 256)        training on (67, 256)        training on (16, 256)        training on (31, 256)        training on (15, 256)        training on (172, 256)        training on (17, 256)        training on (19, 256)        training on (44, 256)        training on (16, 256)        training on (73, 256)        training on (39, 256)        training on (73, 256)        training on (8, 256)        training on (20, 256)        training on (17, 256)        training on (16, 256)        training on (22, 256)        training on (36, 256)        training on (26, 256)        training on (7, 256)        training on (34, 256)        training on (21, 256)        training on (18, 256)        training on (16, 256)        training on (32, 256)        training on (15, 256)        training on (6, 256)        training on (52, 256)        training on (6, 256)        training on (31, 256)        training on (28, 256)        training on (20, 256)        training on (17, 256)        training on (17, 256)        training on (18, 256)        training on (22, 256)        training on (28, 256)        training on (34, 256)        training on (56, 256)        training on (6, 256)        training on (16, 256)        training on (9, 256)        training on (10, 256)        training on (24, 256)        training on (18, 256)        training on (26, 256)        training on (26, 256)        training on (24, 256)        training on (23, 256)        training on (16, 256)        training on (25, 256)        training on (23, 256)        training on (12, 256)        training on (16, 256)        training on (9, 256)        training on (20, 256)        training on (21, 256)        training on (21, 256)        training on (30, 256)        training on (27, 256)        training on (9, 256)        training on (22, 256)        training on (10, 256)        training on (33, 256)        training on (21, 256)        training on (22, 256)        training on (30, 256)        training on (20, 256)        training on (43, 256)        training on (31, 256)        training on (15, 256)        training on (21, 256)        training on (16, 256)        training on (19, 256)        training on (21, 256)        training on (18, 256)        training on (21, 256)        training on (57, 256)        training on (13, 256)        training on (120, 256)        training on (36, 256)        training on (41, 256)        training on (11, 256)        training on (15, 256)        training on (10, 256)        training on (20, 256)        training on (12, 256)        training on (29, 256)        training on (28, 256)        training on (96, 256)        training on (33, 256)        training on (12, 256)        training on (30, 256)        training on (23, 256)        training on (22, 256)        training on (17, 256)        training on (15, 256)        training on (7, 256)        training on (16, 256)        training on (54, 256)        training on (32, 256)        training on (20, 256)        training on (25, 256)        training on (13, 256)        training on (12, 256)        training on (21, 256)        training on (63, 256)        training on (54, 256)        training on (16, 256)        training on (20, 256)        training on (19, 256)        training on (65, 256)        training on (38, 256)        training on (25, 256)        training on (24, 256)        training on (20, 256)        training on (87, 256)        training on (76, 256)        training on (13, 256)        training on (22, 256)        training on (72, 256)        training on (29, 256)        training on (69, 256)        training on (10, 256)        training on (30, 256)        training on (32, 256)        training on (36, 256)        training on (8, 256)        training on (84, 256)        training on (13, 256)        training on (29, 256)        training on (16, 256)        training on (28, 256)        training on (27, 256)        training on (32, 256)        training on (23, 256)        training on (22, 256)        training on (13, 256)        training on (150, 256)        training on (33, 256)        training on (9, 256)        training on (28, 256)        training on (47, 256)        training on (22, 256)        training on (35, 256)        training on (16, 256)        training on (9, 256)        training on (32, 256)        training on (5, 256)        training on (63, 256)        training on (23, 256)        training on (5, 256)        training on (33, 256)        training on (23, 256)        training on (13, 256)        training on (32, 256)        training on (20, 256)        training on (23, 256)        training on (16, 256)        training on (32, 256)        training on (39, 256)        training on (15, 256)        training on (264, 256)        training on (26, 256)        training on (20, 256)        training on (19, 256)        training on (16, 256)        training on (15, 256)        training on (50, 256)        training on (44, 256)        training on (14, 256)        training on (41, 256)        training on (74, 256)        training on (28, 256)        training on (19, 256)        training on (54, 256)        training on (26, 256)        training on (2, 256)        training on (18, 256)        training on (26, 256)        training on (29, 256)        training on (14, 256)        training on (23, 256)        training on (23, 256)        training on (16, 256)        training on (25, 256)        training on (16, 256)        training on (12, 256)        training on (25, 256)        training on (24, 256)        training on (29, 256)        training on (13, 256)        training on (4, 256)        training on (22, 256)        training on (14, 256)        training on (12, 256)        training on (5, 256)        training on (24, 256)        training on (24, 256)        training on (4, 256)        training on (74, 256)        training on (44, 256)        training on (16, 256)        training on (40, 256)        training on (15, 256)        training on (21, 256)        training on (16, 256)        training on (25, 256)        training on (255, 256)        training on (26, 256)        training on (30, 256)        training on (40, 256)        training on (23, 256)        training on (3, 256)        training on (21, 256)        training on (48, 256)        training on (14, 256)        training on (17, 256)        training on (18, 256)        training on (92, 256)        training on (28, 256)        training on (8, 256)        training on (16, 256)        training on (10, 256)        training on (64, 256)        training on (52, 256)        training on (31, 256)        training on (11, 256)        training on (25, 256)        training on (28, 256)        training on (19, 256)        training on (7, 256)        training on (112, 256)        training on (29, 256)        training on (36, 256)        training on (54, 256)        training on (27, 256)        training on (28, 256)        training on (12, 256)        training on (22, 256)        training on (8, 256)        training on (33, 256)        training on (52, 256)        training on (14, 256)        training on (17, 256)        training on (12, 256)        training on (22, 256)        training on (42, 256)        training on (12, 256)        training on (68, 256)        training on (20, 256)        training on (21, 256)        training on (21, 256)        training on (27, 256)        training on (184, 256)        training on (31, 256)        training on (20, 256)        training on (12, 256)        training on (18, 256)        training on (28, 256)        training on (17, 256)        training on (22, 256)        training on (32, 256)        training on (43, 256)        training on (36, 256)        "
     ]
    },
    {
     "name": "stdout",
     "output_type": "stream",
     "text": [
      "training on (7, 256)        training on (14, 256)        training on (36, 256)        training on (13, 256)        training on (15, 256)        training on (15, 256)        training on (16, 256)        training on (88, 256)        training on (35, 256)        training on (19, 256)        training on (28, 256)        training on (13, 256)        training on (27, 256)        training on (10, 256)        training on (24, 256)        training on (32, 256)        training on (14, 256)        training on (172, 256)        training on (29, 256)        training on (5, 256)        training on (36, 256)        training on (30, 256)        training on (16, 256)        training on (9, 256)        training on (20, 256)        training on (26, 256)        training on (17, 256)        training on (8, 256)        training on (70, 256)        training on (27, 256)        training on (31, 256)        training on (119, 256)        training on (34, 256)        training on (20, 256)        training on (24, 256)        training on (171, 256)        training on (16, 256)        training on (19, 256)        training on (4, 256)        training on (3, 256)        training on (23, 256)        training on (26, 256)        training on (49, 256)        training on (30, 256)        training on (29, 256)        training on (15, 256)        training on (35, 256)        training on (28, 256)        training on (33, 256)        training on (15, 256)        training on (50, 256)        training on (13, 256)        training on (56, 256)        training on (12, 256)        training on (9, 256)        training on (68, 256)        training on (37, 256)        training on (17, 256)        training on (14, 256)        training on (12, 256)        training on (44, 256)        training on (21, 256)        training on (20, 256)        training on (25, 256)        training on (17, 256)        training on (10, 256)        training on (28, 256)        training on (18, 256)        training on (28, 256)        training on (29, 256)        training on (18, 256)        training on (10, 256)        training on (20, 256)        training on (15, 256)        training on (49, 256)        training on (16, 256)        training on (11, 256)        training on (6, 256)        training on (8, 256)        training on (28, 256)        training on (20, 256)        training on (23, 256)        training on (96, 256)        training on (11, 256)        training on (42, 256)        training on (28, 256)        training on (21, 256)        training on (22, 256)        training on (28, 256)        training on (20, 256)        training on (36, 256)        training on (61, 256)        training on (53, 256)        "
     ]
    },
    {
     "name": "stderr",
     "output_type": "stream",
     "text": [
      "ERROR:root:Internal Python error in the inspect module.\n",
      "Below is the traceback from this internal error.\n",
      "\n"
     ]
    },
    {
     "name": "stdout",
     "output_type": "stream",
     "text": [
      "Traceback (most recent call last):\n",
      "  File \"/conda/lib/python3.6/site-packages/IPython/core/magics/execution.py\", line 1237, in time\n",
      "    exec(code, glob, local_ns)\n",
      "  File \"<timed exec>\", line 10, in <module>\n",
      "  File \"/conda/lib/python3.6/site-packages/keras/engine/training.py\", line 1037, in fit\n",
      "    validation_steps=validation_steps)\n",
      "  File \"/conda/lib/python3.6/site-packages/keras/engine/training_arrays.py\", line 199, in fit_loop\n",
      "    outs = f(ins_batch)\n",
      "  File \"/conda/lib/python3.6/site-packages/keras/backend/tensorflow_backend.py\", line 2658, in __call__\n",
      "    if hasattr(get_session(), '_make_callable_from_options'):\n",
      "  File \"/conda/lib/python3.6/site-packages/keras/backend/tensorflow_backend.py\", line 204, in get_session\n",
      "    session.run(tf.variables_initializer(uninitialized_vars))\n",
      "  File \"/conda/lib/python3.6/site-packages/tensorflow/python/client/session.py\", line 877, in run\n",
      "    run_metadata_ptr)\n",
      "  File \"/conda/lib/python3.6/site-packages/tensorflow/python/client/session.py\", line 1100, in _run\n",
      "    feed_dict_tensor, options, run_metadata)\n",
      "  File \"/conda/lib/python3.6/site-packages/tensorflow/python/client/session.py\", line 1272, in _do_run\n",
      "    run_metadata)\n",
      "  File \"/conda/lib/python3.6/site-packages/tensorflow/python/client/session.py\", line 1278, in _do_call\n",
      "    return fn(*args)\n",
      "  File \"/conda/lib/python3.6/site-packages/tensorflow/python/client/session.py\", line 1261, in _run_fn\n",
      "    self._extend_graph()\n",
      "  File \"/conda/lib/python3.6/site-packages/tensorflow/python/client/session.py\", line 1295, in _extend_graph\n",
      "    tf_session.ExtendSession(self._session)\n",
      "KeyboardInterrupt\n",
      "\n",
      "During handling of the above exception, another exception occurred:\n",
      "\n",
      "Traceback (most recent call last):\n",
      "  File \"/conda/lib/python3.6/site-packages/IPython/core/interactiveshell.py\", line 1863, in showtraceback\n",
      "    stb = value._render_traceback_()\n",
      "AttributeError: 'KeyboardInterrupt' object has no attribute '_render_traceback_'\n",
      "\n",
      "During handling of the above exception, another exception occurred:\n",
      "\n",
      "Traceback (most recent call last):\n",
      "  File \"/conda/lib/python3.6/site-packages/IPython/core/ultratb.py\", line 1095, in get_records\n",
      "    return _fixed_getinnerframes(etb, number_of_lines_of_context, tb_offset)\n",
      "  File \"/conda/lib/python3.6/site-packages/IPython/core/ultratb.py\", line 311, in wrapped\n",
      "    return f(*args, **kwargs)\n",
      "  File \"/conda/lib/python3.6/site-packages/IPython/core/ultratb.py\", line 345, in _fixed_getinnerframes\n",
      "    records = fix_frame_records_filenames(inspect.getinnerframes(etb, context))\n",
      "  File \"/conda/lib/python3.6/inspect.py\", line 1483, in getinnerframes\n",
      "    frameinfo = (tb.tb_frame,) + getframeinfo(tb, context)\n",
      "  File \"/conda/lib/python3.6/inspect.py\", line 1441, in getframeinfo\n",
      "    filename = getsourcefile(frame) or getfile(frame)\n",
      "  File \"/conda/lib/python3.6/inspect.py\", line 696, in getsourcefile\n",
      "    if getattr(getmodule(object, filename), '__loader__', None) is not None:\n",
      "  File \"/conda/lib/python3.6/inspect.py\", line 742, in getmodule\n",
      "    os.path.realpath(f)] = module.__name__\n",
      "  File \"/conda/lib/python3.6/posixpath.py\", line 388, in realpath\n",
      "    path, ok = _joinrealpath(filename[:0], filename, {})\n",
      "  File \"/conda/lib/python3.6/posixpath.py\", line 421, in _joinrealpath\n",
      "    newpath = join(path, name)\n",
      "  File \"/conda/lib/python3.6/posixpath.py\", line 81, in join\n",
      "    sep = _get_sep(a)\n",
      "  File \"/conda/lib/python3.6/posixpath.py\", line 42, in _get_sep\n",
      "    if isinstance(path, bytes):\n",
      "KeyboardInterrupt\n"
     ]
    },
    {
     "ename": "KeyboardInterrupt",
     "evalue": "",
     "output_type": "error",
     "traceback": [
      "\u001b[0;31m---------------------------------------------------------------------------\u001b[0m"
     ]
    }
   ],
   "source": [
    "%%time\n",
    "EPOCHS = 10\n",
    "from random import shuffle\n",
    "\n",
    "all_keys = [key  for key,_ in filtered_tasks.items()]\n",
    "print(len(all_keys))\n",
    "for i in range(EPOCHS):\n",
    "    print('Epoch',i,end=', ')\n",
    "    shuffle(all_keys)\n",
    "    for x in all_keys:\n",
    "        models_mtl[x].fit(X_train[x],y_train[x], verbose=0)\n",
    "        print('training on',X_train[x].shape, end='        ')"
   ]
  },
  {
   "cell_type": "code",
   "execution_count": 7,
   "metadata": {},
   "outputs": [
    {
     "ename": "KeyboardInterrupt",
     "evalue": "",
     "output_type": "error",
     "traceback": [
      "\u001b[0;31m---------------------------------------------------------------------------\u001b[0m",
      "\u001b[0;31mKeyboardInterrupt\u001b[0m                         Traceback (most recent call last)",
      "\u001b[0;32m<timed exec>\u001b[0m in \u001b[0;36m<module>\u001b[0;34m()\u001b[0m\n",
      "\u001b[0;32m/conda/lib/python3.6/site-packages/keras/engine/training.py\u001b[0m in \u001b[0;36mpredict\u001b[0;34m(self, x, batch_size, verbose, steps)\u001b[0m\n\u001b[1;32m   1165\u001b[0m                                             \u001b[0mbatch_size\u001b[0m\u001b[0;34m=\u001b[0m\u001b[0mbatch_size\u001b[0m\u001b[0;34m,\u001b[0m\u001b[0;34m\u001b[0m\u001b[0m\n\u001b[1;32m   1166\u001b[0m                                             \u001b[0mverbose\u001b[0m\u001b[0;34m=\u001b[0m\u001b[0mverbose\u001b[0m\u001b[0;34m,\u001b[0m\u001b[0;34m\u001b[0m\u001b[0m\n\u001b[0;32m-> 1167\u001b[0;31m                                             steps=steps)\n\u001b[0m\u001b[1;32m   1168\u001b[0m \u001b[0;34m\u001b[0m\u001b[0m\n\u001b[1;32m   1169\u001b[0m     def train_on_batch(self, x, y,\n",
      "\u001b[0;32m/conda/lib/python3.6/site-packages/keras/engine/training_arrays.py\u001b[0m in \u001b[0;36mpredict_loop\u001b[0;34m(model, f, ins, batch_size, verbose, steps)\u001b[0m\n\u001b[1;32m    292\u001b[0m                 \u001b[0mins_batch\u001b[0m\u001b[0;34m[\u001b[0m\u001b[0mi\u001b[0m\u001b[0;34m]\u001b[0m \u001b[0;34m=\u001b[0m \u001b[0mins_batch\u001b[0m\u001b[0;34m[\u001b[0m\u001b[0mi\u001b[0m\u001b[0;34m]\u001b[0m\u001b[0;34m.\u001b[0m\u001b[0mtoarray\u001b[0m\u001b[0;34m(\u001b[0m\u001b[0;34m)\u001b[0m\u001b[0;34m\u001b[0m\u001b[0m\n\u001b[1;32m    293\u001b[0m \u001b[0;34m\u001b[0m\u001b[0m\n\u001b[0;32m--> 294\u001b[0;31m             \u001b[0mbatch_outs\u001b[0m \u001b[0;34m=\u001b[0m \u001b[0mf\u001b[0m\u001b[0;34m(\u001b[0m\u001b[0mins_batch\u001b[0m\u001b[0;34m)\u001b[0m\u001b[0;34m\u001b[0m\u001b[0m\n\u001b[0m\u001b[1;32m    295\u001b[0m             \u001b[0mbatch_outs\u001b[0m \u001b[0;34m=\u001b[0m \u001b[0mto_list\u001b[0m\u001b[0;34m(\u001b[0m\u001b[0mbatch_outs\u001b[0m\u001b[0;34m)\u001b[0m\u001b[0;34m\u001b[0m\u001b[0m\n\u001b[1;32m    296\u001b[0m             \u001b[0;32mif\u001b[0m \u001b[0mbatch_index\u001b[0m \u001b[0;34m==\u001b[0m \u001b[0;36m0\u001b[0m\u001b[0;34m:\u001b[0m\u001b[0;34m\u001b[0m\u001b[0m\n",
      "\u001b[0;32m/conda/lib/python3.6/site-packages/keras/backend/tensorflow_backend.py\u001b[0m in \u001b[0;36m__call__\u001b[0;34m(self, inputs)\u001b[0m\n\u001b[1;32m   2664\u001b[0m                 \u001b[0;32mreturn\u001b[0m \u001b[0mself\u001b[0m\u001b[0;34m.\u001b[0m\u001b[0m_legacy_call\u001b[0m\u001b[0;34m(\u001b[0m\u001b[0minputs\u001b[0m\u001b[0;34m)\u001b[0m\u001b[0;34m\u001b[0m\u001b[0m\n\u001b[1;32m   2665\u001b[0m \u001b[0;34m\u001b[0m\u001b[0m\n\u001b[0;32m-> 2666\u001b[0;31m             \u001b[0;32mreturn\u001b[0m \u001b[0mself\u001b[0m\u001b[0;34m.\u001b[0m\u001b[0m_call\u001b[0m\u001b[0;34m(\u001b[0m\u001b[0minputs\u001b[0m\u001b[0;34m)\u001b[0m\u001b[0;34m\u001b[0m\u001b[0m\n\u001b[0m\u001b[1;32m   2667\u001b[0m         \u001b[0;32melse\u001b[0m\u001b[0;34m:\u001b[0m\u001b[0;34m\u001b[0m\u001b[0m\n\u001b[1;32m   2668\u001b[0m             \u001b[0;32mif\u001b[0m \u001b[0mpy_any\u001b[0m\u001b[0;34m(\u001b[0m\u001b[0mis_tensor\u001b[0m\u001b[0;34m(\u001b[0m\u001b[0mx\u001b[0m\u001b[0;34m)\u001b[0m \u001b[0;32mfor\u001b[0m \u001b[0mx\u001b[0m \u001b[0;32min\u001b[0m \u001b[0minputs\u001b[0m\u001b[0;34m)\u001b[0m\u001b[0;34m:\u001b[0m\u001b[0;34m\u001b[0m\u001b[0m\n",
      "\u001b[0;32m/conda/lib/python3.6/site-packages/keras/backend/tensorflow_backend.py\u001b[0m in \u001b[0;36m_call\u001b[0;34m(self, inputs)\u001b[0m\n\u001b[1;32m   2633\u001b[0m                                 \u001b[0mfeed_symbols\u001b[0m\u001b[0;34m,\u001b[0m\u001b[0;34m\u001b[0m\u001b[0m\n\u001b[1;32m   2634\u001b[0m                                 \u001b[0msymbol_vals\u001b[0m\u001b[0;34m,\u001b[0m\u001b[0;34m\u001b[0m\u001b[0m\n\u001b[0;32m-> 2635\u001b[0;31m                                 session)\n\u001b[0m\u001b[1;32m   2636\u001b[0m         \u001b[0mfetched\u001b[0m \u001b[0;34m=\u001b[0m \u001b[0mself\u001b[0m\u001b[0;34m.\u001b[0m\u001b[0m_callable_fn\u001b[0m\u001b[0;34m(\u001b[0m\u001b[0;34m*\u001b[0m\u001b[0marray_vals\u001b[0m\u001b[0;34m)\u001b[0m\u001b[0;34m\u001b[0m\u001b[0m\n\u001b[1;32m   2637\u001b[0m         \u001b[0;32mreturn\u001b[0m \u001b[0mfetched\u001b[0m\u001b[0;34m[\u001b[0m\u001b[0;34m:\u001b[0m\u001b[0mlen\u001b[0m\u001b[0;34m(\u001b[0m\u001b[0mself\u001b[0m\u001b[0;34m.\u001b[0m\u001b[0moutputs\u001b[0m\u001b[0;34m)\u001b[0m\u001b[0;34m]\u001b[0m\u001b[0;34m\u001b[0m\u001b[0m\n",
      "\u001b[0;32m/conda/lib/python3.6/site-packages/keras/backend/tensorflow_backend.py\u001b[0m in \u001b[0;36m_make_callable\u001b[0;34m(self, feed_arrays, feed_symbols, symbol_vals, session)\u001b[0m\n\u001b[1;32m   2585\u001b[0m         \u001b[0mcallable_opts\u001b[0m\u001b[0;34m.\u001b[0m\u001b[0mtarget\u001b[0m\u001b[0;34m.\u001b[0m\u001b[0mappend\u001b[0m\u001b[0;34m(\u001b[0m\u001b[0mself\u001b[0m\u001b[0;34m.\u001b[0m\u001b[0mupdates_op\u001b[0m\u001b[0;34m.\u001b[0m\u001b[0mname\u001b[0m\u001b[0;34m)\u001b[0m\u001b[0;34m\u001b[0m\u001b[0m\n\u001b[1;32m   2586\u001b[0m         \u001b[0;31m# Create callable.\u001b[0m\u001b[0;34m\u001b[0m\u001b[0;34m\u001b[0m\u001b[0m\n\u001b[0;32m-> 2587\u001b[0;31m         \u001b[0mcallable_fn\u001b[0m \u001b[0;34m=\u001b[0m \u001b[0msession\u001b[0m\u001b[0;34m.\u001b[0m\u001b[0m_make_callable_from_options\u001b[0m\u001b[0;34m(\u001b[0m\u001b[0mcallable_opts\u001b[0m\u001b[0;34m)\u001b[0m\u001b[0;34m\u001b[0m\u001b[0m\n\u001b[0m\u001b[1;32m   2588\u001b[0m         \u001b[0;31m# Cache parameters corresponding to the generated callable, so that\u001b[0m\u001b[0;34m\u001b[0m\u001b[0;34m\u001b[0m\u001b[0m\n\u001b[1;32m   2589\u001b[0m         \u001b[0;31m# we can detect future mismatches and refresh the callable.\u001b[0m\u001b[0;34m\u001b[0m\u001b[0;34m\u001b[0m\u001b[0m\n",
      "\u001b[0;32m/conda/lib/python3.6/site-packages/tensorflow/python/client/session.py\u001b[0m in \u001b[0;36m_make_callable_from_options\u001b[0;34m(self, callable_options)\u001b[0m\n\u001b[1;32m   1411\u001b[0m       \u001b[0mA\u001b[0m \u001b[0mhandle\u001b[0m \u001b[0mto\u001b[0m \u001b[0mthe\u001b[0m \u001b[0mnew\u001b[0m \u001b[0mcallable\u001b[0m\u001b[0;34m.\u001b[0m\u001b[0;34m\u001b[0m\u001b[0m\n\u001b[1;32m   1412\u001b[0m     \"\"\"\n\u001b[0;32m-> 1413\u001b[0;31m     \u001b[0mself\u001b[0m\u001b[0;34m.\u001b[0m\u001b[0m_extend_graph\u001b[0m\u001b[0;34m(\u001b[0m\u001b[0;34m)\u001b[0m\u001b[0;34m\u001b[0m\u001b[0m\n\u001b[0m\u001b[1;32m   1414\u001b[0m     \u001b[0;32mreturn\u001b[0m \u001b[0mBaseSession\u001b[0m\u001b[0;34m.\u001b[0m\u001b[0m_Callable\u001b[0m\u001b[0;34m(\u001b[0m\u001b[0mself\u001b[0m\u001b[0;34m,\u001b[0m \u001b[0mcallable_options\u001b[0m\u001b[0;34m)\u001b[0m\u001b[0;34m\u001b[0m\u001b[0m\n\u001b[1;32m   1415\u001b[0m \u001b[0;34m\u001b[0m\u001b[0m\n",
      "\u001b[0;32m/conda/lib/python3.6/site-packages/tensorflow/python/client/session.py\u001b[0m in \u001b[0;36m_extend_graph\u001b[0;34m(self)\u001b[0m\n\u001b[1;32m   1293\u001b[0m   \u001b[0;32mdef\u001b[0m \u001b[0m_extend_graph\u001b[0m\u001b[0;34m(\u001b[0m\u001b[0mself\u001b[0m\u001b[0;34m)\u001b[0m\u001b[0;34m:\u001b[0m\u001b[0;34m\u001b[0m\u001b[0m\n\u001b[1;32m   1294\u001b[0m     \u001b[0;32mwith\u001b[0m \u001b[0mself\u001b[0m\u001b[0;34m.\u001b[0m\u001b[0m_graph\u001b[0m\u001b[0;34m.\u001b[0m\u001b[0m_session_run_lock\u001b[0m\u001b[0;34m(\u001b[0m\u001b[0;34m)\u001b[0m\u001b[0;34m:\u001b[0m  \u001b[0;31m# pylint: disable=protected-access\u001b[0m\u001b[0;34m\u001b[0m\u001b[0m\n\u001b[0;32m-> 1295\u001b[0;31m       \u001b[0mtf_session\u001b[0m\u001b[0;34m.\u001b[0m\u001b[0mExtendSession\u001b[0m\u001b[0;34m(\u001b[0m\u001b[0mself\u001b[0m\u001b[0;34m.\u001b[0m\u001b[0m_session\u001b[0m\u001b[0;34m)\u001b[0m\u001b[0;34m\u001b[0m\u001b[0m\n\u001b[0m\u001b[1;32m   1296\u001b[0m \u001b[0;34m\u001b[0m\u001b[0m\n\u001b[1;32m   1297\u001b[0m   \u001b[0;31m# The threshold to run garbage collection to delete dead tensors.\u001b[0m\u001b[0;34m\u001b[0m\u001b[0;34m\u001b[0m\u001b[0m\n",
      "\u001b[0;31mKeyboardInterrupt\u001b[0m: "
     ]
    }
   ],
   "source": [
    "%%time\n",
    "y_mtl=[]\n",
    "yhat_mtl=[]\n",
    "\n",
    "for x in X_test.keys():\n",
    "    yhat_mlp = models_mtl[x].predict(X_test[x])\n",
    "\n",
    "    y_mtl.append(y_test[x].ravel())\n",
    "    yhat_mtl.append(yhat_mlp.ravel())"
   ]
  },
  {
   "cell_type": "code",
   "execution_count": 8,
   "metadata": {},
   "outputs": [
    {
     "ename": "ValueError",
     "evalue": "need at least one array to concatenate",
     "output_type": "error",
     "traceback": [
      "\u001b[0;31m---------------------------------------------------------------------------\u001b[0m",
      "\u001b[0;31mValueError\u001b[0m                                Traceback (most recent call last)",
      "\u001b[0;32m<ipython-input-8-8bd9baee37e4>\u001b[0m in \u001b[0;36m<module>\u001b[0;34m()\u001b[0m\n\u001b[0;32m----> 1\u001b[0;31m \u001b[0mfinal_y_gt\u001b[0m\u001b[0;34m=\u001b[0m\u001b[0mnp\u001b[0m\u001b[0;34m.\u001b[0m\u001b[0mconcatenate\u001b[0m\u001b[0;34m(\u001b[0m\u001b[0my_mtl\u001b[0m\u001b[0;34m)\u001b[0m\u001b[0;34m\u001b[0m\u001b[0m\n\u001b[0m\u001b[1;32m      2\u001b[0m \u001b[0mfinal_y_hat\u001b[0m\u001b[0;34m=\u001b[0m\u001b[0mnp\u001b[0m\u001b[0;34m.\u001b[0m\u001b[0mconcatenate\u001b[0m\u001b[0;34m(\u001b[0m\u001b[0myhat_mtl\u001b[0m\u001b[0;34m)\u001b[0m\u001b[0;34m\u001b[0m\u001b[0m\n\u001b[1;32m      3\u001b[0m \u001b[0mfinal_y_hat\u001b[0m\u001b[0;34m=\u001b[0m\u001b[0mnp\u001b[0m\u001b[0;34m.\u001b[0m\u001b[0mround\u001b[0m\u001b[0;34m(\u001b[0m\u001b[0mfinal_y_hat\u001b[0m\u001b[0;34m)\u001b[0m\u001b[0;34m\u001b[0m\u001b[0m\n",
      "\u001b[0;31mValueError\u001b[0m: need at least one array to concatenate"
     ]
    }
   ],
   "source": [
    "final_y_gt=np.concatenate(y_mtl)\n",
    "final_y_hat=np.concatenate(yhat_mtl)\n",
    "final_y_hat=np.round(final_y_hat)"
   ]
  },
  {
   "cell_type": "code",
   "execution_count": null,
   "metadata": {},
   "outputs": [],
   "source": [
    "\n",
    "from sklearn.metrics import roc_curve, auc\n",
    "from sklearn.metrics import precision_score, recall_score, f1_score\n",
    "\n",
    "f1_score(final_y_hat,final_y_gt)\n"
   ]
  },
  {
   "cell_type": "code",
   "execution_count": null,
   "metadata": {},
   "outputs": [],
   "source": []
  },
  {
   "cell_type": "markdown",
   "metadata": {},
   "source": [
    "## 6 Report the results using AUC, BEDROC, and Enrichment factor. These metrics are easily calculated using the RDKit scoring library. Discuss the results (you will need to look up each evaluation metric to interpret the result). You may be interested in page 6 of the following document: https://www.dropbox.com/s/6je37ml475vg3ep/Srinivas2018ImplictDescriptorUnderReview.pdf?dl=0 (Links to an external site.)Links to an external site. "
   ]
  },
  {
   "cell_type": "code",
   "execution_count": null,
   "metadata": {},
   "outputs": [],
   "source": []
  },
  {
   "cell_type": "markdown",
   "metadata": {},
   "source": [
    "## 7  Finally, you have free reign to perform any other analysis. A suggested analysis is to add an additional mode of input data such as another fingerprint for each ligand. "
   ]
  },
  {
   "cell_type": "code",
   "execution_count": null,
   "metadata": {},
   "outputs": [],
   "source": []
  },
  {
   "cell_type": "code",
   "execution_count": null,
   "metadata": {},
   "outputs": [],
   "source": []
  },
  {
   "cell_type": "code",
   "execution_count": null,
   "metadata": {},
   "outputs": [],
   "source": []
  },
  {
   "cell_type": "code",
   "execution_count": null,
   "metadata": {},
   "outputs": [],
   "source": []
  }
 ],
 "metadata": {
  "kernelspec": {
   "display_name": "Python 3",
   "language": "python",
   "name": "python3"
  },
  "language_info": {
   "codemirror_mode": {
    "name": "ipython",
    "version": 3
   },
   "file_extension": ".py",
   "mimetype": "text/x-python",
   "name": "python",
   "nbconvert_exporter": "python",
   "pygments_lexer": "ipython3",
   "version": "3.6.5"
  },
  "latex_envs": {
   "LaTeX_envs_menu_present": true,
   "autoclose": false,
   "autocomplete": true,
   "bibliofile": "biblio.bib",
   "cite_by": "apalike",
   "current_citInitial": 1,
   "eqLabelWithNumbers": true,
   "eqNumInitial": 1,
   "hotkeys": {
    "equation": "Ctrl-E",
    "itemize": "Ctrl-I"
   },
   "labels_anchors": false,
   "latex_user_defs": false,
   "report_style_numbering": false,
   "user_envs_cfg": false
  },
  "varInspector": {
   "cols": {
    "lenName": 16,
    "lenType": 16,
    "lenVar": 40
   },
   "kernels_config": {
    "python": {
     "delete_cmd_postfix": "",
     "delete_cmd_prefix": "del ",
     "library": "var_list.py",
     "varRefreshCmd": "print(var_dic_list())"
    },
    "r": {
     "delete_cmd_postfix": ") ",
     "delete_cmd_prefix": "rm(",
     "library": "var_list.r",
     "varRefreshCmd": "cat(var_dic_list()) "
    }
   },
   "types_to_exclude": [
    "module",
    "function",
    "builtin_function_or_method",
    "instance",
    "_Feature"
   ],
   "window_display": false
  }
 },
 "nbformat": 4,
 "nbformat_minor": 2
}
