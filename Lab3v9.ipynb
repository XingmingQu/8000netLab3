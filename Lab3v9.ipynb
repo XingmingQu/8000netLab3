{
 "cells": [
  {
   "cell_type": "markdown",
   "metadata": {},
   "source": [
    "# Lab Three, Multi-modal and Multi-task\n",
    "\n",
    "Xingming Qu, Bowei Tian"
   ]
  },
  {
   "cell_type": "markdown",
   "metadata": {},
   "source": [
    "## 1 Download the ChEMBL database or setup queries to download a subset go the database.\n",
    "\n",
    "\n",
    "Thanks to Niraj for making this available to everyone!!!"
   ]
  },
  {
   "cell_type": "code",
   "execution_count": 7,
   "metadata": {},
   "outputs": [],
   "source": [
    "import matplotlib.pyplot as plt\n",
    "import warnings\n",
    "import numpy as np\n",
    "import pandas as pd\n",
    "import pickle\n",
    "warnings.simplefilter('ignore', DeprecationWarning)\n",
    "warnings.filterwarnings(\"ignore\")"
   ]
  },
  {
   "cell_type": "code",
   "execution_count": 2,
   "metadata": {},
   "outputs": [],
   "source": [
    "# Read csv\n",
    "f = open('../data.csv', 'r', encoding=\"ISO-8859-1\")\n",
    "lines = f.readlines()\n",
    "f.close()"
   ]
  },
  {
   "cell_type": "code",
   "execution_count": 3,
   "metadata": {},
   "outputs": [
    {
     "name": "stdout",
     "output_type": "stream",
     "text": [
      "1065321\n"
     ]
    }
   ],
   "source": [
    "total_record=len(lines)\n",
    "print(total_record)"
   ]
  },
  {
   "cell_type": "code",
   "execution_count": 4,
   "metadata": {},
   "outputs": [
    {
     "name": "stdout",
     "output_type": "stream",
     "text": [
      "\"\u0000M\u0000o\u0000l\u0000e\u0000c\u0000u\u0000l\u0000e\u0000\"\u0000,\u0000\"\u0000S\u0000t\u0000a\u0000n\u0000d\u0000a\u0000r\u0000d\u0000 \u0000T\u0000y\u0000p\u0000e\u0000\"\u0000,\u0000\"\u0000S\u0000t\u0000a\u0000n\u0000d\u0000a\u0000r\u0000d\u0000 \u0000R\u0000e\u0000l\u0000a\u0000t\u0000i\u0000o\u0000n\u0000\"\u0000,\u0000\"\u0000S\u0000t\u0000a\u0000n\u0000d\u0000a\u0000r\u0000d\u0000 \u0000V\u0000a\u0000l\u0000u\u0000e\u0000\"\u0000,\u0000\"\u0000S\u0000t\u0000a\u0000n\u0000d\u0000a\u0000r\u0000d\u0000 \u0000U\u0000n\u0000i\u0000t\u0000s\u0000\"\u0000,\u0000\"\u0000p\u0000C\u0000h\u0000E\u0000M\u0000B\u0000L\u0000 \u0000V\u0000a\u0000l\u0000u\u0000e\u0000\"\u0000,\u0000\"\u0000C\u0000o\u0000m\u0000m\u0000e\u0000n\u0000t\u0000\"\u0000,\u0000\"\u0000C\u0000o\u0000m\u0000p\u0000o\u0000u\u0000n\u0000d\u0000 \u0000K\u0000e\u0000y\u0000\"\u0000,\u0000\"\u0000A\u0000s\u0000s\u0000a\u0000y\u0000\"\u0000,\u0000\"\u0000A\u0000s\u0000s\u0000a\u0000y\u0000 \u0000D\u0000e\u0000s\u0000c\u0000r\u0000i\u0000p\u0000t\u0000i\u0000o\u0000n\u0000\"\u0000,\u0000\"\u0000B\u0000A\u0000O\u0000 \u0000F\u0000o\u0000r\u0000m\u0000a\u0000t\u0000\"\u0000,\u0000\"\u0000T\u0000a\u0000r\u0000g\u0000e\u0000t\u0000\"\u0000,\u0000\"\u0000T\u0000a\u0000r\u0000g\u0000e\u0000t\u0000 \u0000P\u0000r\u0000e\u0000f\u0000.\u0000 \u0000N\u0000a\u0000m\u0000e\u0000\"\u0000,\u0000\"\u0000T\u0000a\u0000r\u0000g\u0000e\u0000t\u0000 \u0000O\u0000r\u0000g\u0000a\u0000n\u0000i\u0000s\u0000m\u0000\"\u0000,\u0000\"\u0000T\u0000a\u0000r\u0000g\u0000e\u0000t\u0000 \u0000T\u0000y\u0000p\u0000e\u0000\"\u0000,\u0000\"\u0000D\u0000o\u0000c\u0000u\u0000m\u0000e\u0000n\u0000t\u0000\"\u0000,\u0000\"\u0000S\u0000o\u0000u\u0000r\u0000c\u0000e\u0000\"\u0000,\u0000\"\u0000M\u0000a\u0000x\u0000 \u0000P\u0000h\u0000a\u0000s\u0000e\u0000\"\u0000,\u0000\"\u0000#\u0000R\u0000o\u00005\u0000 \u0000V\u0000i\u0000o\u0000l\u0000a\u0000t\u0000i\u0000o\u0000n\u0000s\u0000\"\u0000,\u0000\"\u0000M\u0000o\u0000l\u0000e\u0000c\u0000u\u0000l\u0000a\u0000r\u0000 \u0000W\u0000e\u0000i\u0000g\u0000h\u0000t\u0000\"\u0000,\u0000\"\u0000L\u0000i\u0000g\u0000a\u0000n\u0000d\u0000 \u0000E\u0000f\u0000f\u0000i\u0000c\u0000i\u0000e\u0000n\u0000c\u0000y\u0000 \u0000B\u0000E\u0000I\u0000\"\u0000,\u0000\"\u0000L\u0000i\u0000g\u0000a\u0000n\u0000d\u0000 \u0000E\u0000f\u0000f\u0000i\u0000c\u0000i\u0000e\u0000n\u0000c\u0000y\u0000 \u0000L\u0000E\u0000\"\u0000,\u0000\"\u0000L\u0000i\u0000g\u0000a\u0000n\u0000d\u0000 \u0000E\u0000f\u0000f\u0000i\u0000c\u0000i\u0000e\u0000n\u0000c\u0000y\u0000 \u0000L\u0000L\u0000E\u0000\"\u0000,\u0000\"\u0000L\u0000i\u0000g\u0000a\u0000n\u0000d\u0000 \u0000E\u0000f\u0000f\u0000i\u0000c\u0000i\u0000e\u0000n\u0000c\u0000y\u0000 \u0000S\u0000E\u0000I\u0000\"\u0000,\u0000\"\u0000A\u0000L\u0000o\u0000g\u0000P\u0000\"\u0000,\u0000\"\u0000A\u0000s\u0000s\u0000a\u0000y\u0000 \u0000O\u0000r\u0000g\u0000a\u0000n\u0000i\u0000s\u0000m\u0000\"\u0000,\u0000\"\u0000A\u0000s\u0000s\u0000a\u0000y\u0000 \u0000T\u0000i\u0000s\u0000s\u0000u\u0000e\u0000 \u0000C\u0000h\u0000E\u0000M\u0000B\u0000L\u0000 \u0000I\u0000D\u0000\"\u0000,\u0000\"\u0000A\u0000s\u0000s\u0000a\u0000y\u0000 \u0000T\u0000i\u0000s\u0000s\u0000u\u0000e\u0000 \u0000N\u0000a\u0000m\u0000e\u0000\"\u0000,\u0000\"\u0000A\u0000s\u0000s\u0000a\u0000y\u0000 \u0000C\u0000e\u0000l\u0000l\u0000 \u0000T\u0000y\u0000p\u0000e\u0000\"\u0000,\u0000\"\u0000A\u0000s\u0000s\u0000a\u0000y\u0000 \u0000S\u0000u\u0000b\u0000c\u0000e\u0000l\u0000l\u0000u\u0000l\u0000a\u0000r\u0000 \u0000F\u0000r\u0000a\u0000c\u0000t\u0000i\u0000o\u0000n\u0000\"\u0000,\u0000\"\u0000O\u0000r\u0000g\u0000a\u0000n\u0000i\u0000s\u0000m\u0000 \u0000T\u0000a\u0000x\u0000 \u0000I\u0000D\u0000\"\u0000,\u0000\"\u0000B\u0000A\u0000O\u0000 \u0000F\u0000o\u0000r\u0000m\u0000a\u0000t\u0000 \u0000I\u0000D\u0000\"\u0000,\u0000\"\u0000P\u0000u\u0000b\u0000l\u0000i\u0000s\u0000h\u0000e\u0000d\u0000 \u0000T\u0000y\u0000p\u0000e\u0000\"\u0000,\u0000\"\u0000P\u0000u\u0000b\u0000l\u0000i\u0000s\u0000h\u0000e\u0000d\u0000 \u0000R\u0000e\u0000l\u0000a\u0000t\u0000i\u0000o\u0000n\u0000\"\u0000,\u0000\"\u0000P\u0000u\u0000b\u0000l\u0000i\u0000s\u0000h\u0000e\u0000d\u0000 \u0000V\u0000a\u0000l\u0000u\u0000e\u0000\"\u0000,\u0000\"\u0000P\u0000u\u0000b\u0000l\u0000i\u0000s\u0000h\u0000e\u0000d\u0000 \u0000U\u0000n\u0000i\u0000t\u0000s\u0000\"\u0000,\u0000\"\u0000C\u0000a\u0000n\u0000o\u0000n\u0000i\u0000c\u0000a\u0000l\u0000 \u0000S\u0000m\u0000i\u0000l\u0000e\u0000s\u0000\"\u0000,\u0000\"\u0000D\u0000a\u0000t\u0000a\u0000 \u0000V\u0000a\u0000l\u0000i\u0000d\u0000i\u0000t\u0000y\u0000 \u0000C\u0000o\u0000m\u0000m\u0000e\u0000n\u0000t\u0000\"\u0000,\u0000\"\u0000D\u0000o\u0000c\u0000u\u0000m\u0000e\u0000n\u0000t\u0000 \u0000J\u0000o\u0000u\u0000r\u0000n\u0000a\u0000l\u0000\"\u0000,\u0000\"\u0000D\u0000o\u0000c\u0000u\u0000m\u0000e\u0000n\u0000t\u0000 \u0000Y\u0000e\u0000a\u0000r\u0000\"\u0000,\u0000\"\u0000S\u0000R\u0000C\u0000 \u0000I\u0000D\u0000\"\u0000,\u0000\"\u0000U\u0000O\u0000 \u0000U\u0000n\u0000i\u0000t\u0000s\u0000\"\u0000,\u0000\"\u0000P\u0000o\u0000t\u0000e\u0000n\u0000t\u0000i\u0000a\u0000l\u0000 \u0000D\u0000u\u0000p\u0000l\u0000i\u0000c\u0000a\u0000t\u0000e\u0000\"\u0000\n",
      "\n",
      "43\n"
     ]
    }
   ],
   "source": [
    "# print the first row to get feature name\n",
    "bug=[] # will be used to save bad record\n",
    "flis = [] # will have [id, ic50_val, unit, target, smiles] \n",
    "for line in lines[:1]: # first line contains the headers (therefore skiped)\n",
    "    lis = line.strip().split(',')\n",
    "    print(line)\n",
    "    print(len(lis))"
   ]
  },
  {
   "cell_type": "markdown",
   "metadata": {},
   "source": [
    "We can see a record should have 43 columns"
   ]
  },
  {
   "cell_type": "code",
   "execution_count": 5,
   "metadata": {},
   "outputs": [
    {
     "name": "stdout",
     "output_type": "stream",
     "text": [
      "\u0000\"\u0000C\u0000H\u0000E\u0000M\u0000B\u0000L\u00003\u00005\u00007\u00003\u00003\u00008\u0000\"\u0000,\u0000\"\u0000I\u0000C\u00005\u00000\u0000\"\u0000,\u0000\"\u0000>\u0000\"\u0000,\u0000\"\u00005\u00000\u00000\u00000\u00000\u0000\"\u0000,\u0000\"\u0000n\u0000M\u0000\"\u0000,\u0000\"\u0000\"\u0000,\u0000\"\u0000\"\u0000,\u0000\"\u00001\u00006\u0000 \u00002\u0000-\u0000g\u0000\"\u0000,\u0000\"\u0000C\u0000H\u0000E\u0000M\u0000B\u0000L\u00008\u00001\u00002\u00004\u00004\u00006\u0000\"\u0000,\u0000\"\u0000I\u0000n\u0000h\u0000i\u0000b\u0000i\u0000t\u0000o\u0000r\u0000y\u0000 \u0000a\u0000c\u0000t\u0000i\u0000v\u0000i\u0000t\u0000y\u0000 \u0000a\u0000g\u0000a\u0000i\u0000n\u0000s\u0000t\u0000 \u0000T\u0000r\u0000y\u0000p\u0000a\u0000n\u0000o\u0000s\u0000o\u0000m\u0000a\u0000 \u0000c\u0000r\u0000u\u0000z\u0000i\u0000 \u0000t\u0000r\u0000y\u0000p\u0000a\u0000n\u0000o\u0000t\u0000h\u0000i\u0000o\u0000n\u0000e\u0000 \u0000d\u0000i\u0000s\u0000u\u0000l\u0000f\u0000i\u0000d\u0000e\u0000 \u0000r\u0000e\u0000d\u0000u\u0000c\u0000t\u0000a\u0000s\u0000e\u0000,\u0000 \u0000a\u0000s\u0000s\u0000a\u0000y\u0000 \u0000i\u0000n\u0000 \u0000p\u0000r\u0000e\u0000s\u0000e\u0000n\u0000c\u0000e\u0000 \u0000o\u0000f\u0000 \u00005\u00007\u0000 \u0000u\u0000M\u0000 \u0000T\u0000(\u0000S\u0000)\u00002\u0000.\u0000\"\u0000,\u0000\"\u0000s\u0000i\u0000n\u0000g\u0000l\u0000e\u0000 \u0000p\u0000r\u0000o\u0000t\u0000e\u0000i\u0000n\u0000 \u0000f\u0000o\u0000r\u0000m\u0000a\u0000t\u0000\"\u0000,\u0000\"\u0000C\u0000H\u0000E\u0000M\u0000B\u0000L\u00005\u00001\u00003\u00001\u0000\"\u0000,\u0000\"\u0000T\u0000r\u0000y\u0000p\u0000a\u0000n\u0000o\u0000t\u0000h\u0000i\u0000o\u0000n\u0000e\u0000 \u0000r\u0000e\u0000d\u0000u\u0000c\u0000t\u0000a\u0000s\u0000e\u0000\"\u0000,\u0000\"\u0000T\u0000r\u0000y\u0000p\u0000a\u0000n\u0000o\u0000s\u0000o\u0000m\u0000a\u0000 \u0000c\u0000r\u0000u\u0000z\u0000i\u0000\"\u0000,\u0000\"\u0000S\u0000I\u0000N\u0000G\u0000L\u0000E\u0000 \u0000P\u0000R\u0000O\u0000T\u0000E\u0000I\u0000N\u0000\"\u0000,\u0000\"\u0000C\u0000H\u0000E\u0000M\u0000B\u0000L\u00001\u00001\u00003\u00004\u00007\u00009\u00001\u0000\"\u0000,\u0000\"\u0000S\u0000c\u0000i\u0000e\u0000n\u0000t\u0000i\u0000f\u0000i\u0000c\u0000 \u0000L\u0000i\u0000t\u0000e\u0000r\u0000a\u0000t\u0000u\u0000r\u0000e\u0000\"\u0000,\u0000\"\u00000\u0000\"\u0000,\u0000\"\u00000\u0000\"\u0000,\u0000\"\u00003\u00002\u00006\u0000.\u00004\u0000\"\u0000,\u0000\"\u0000\"\u0000,\u0000\"\u0000\"\u0000,\u0000\"\u0000\"\u0000,\u0000\"\u0000\"\u0000,\u0000\"\u00001\u0000.\u00009\u00004\u0000\"\u0000,\u0000\"\u0000T\u0000r\u0000y\u0000p\u0000a\u0000n\u0000o\u0000s\u0000o\u0000m\u0000a\u0000 \u0000c\u0000r\u0000u\u0000z\u0000i\u0000\"\u0000,\u0000\"\u0000\"\u0000,\u0000\"\u0000\"\u0000,\u0000\"\u0000\"\u0000,\u0000\"\u0000\"\u0000,\u0000\"\u00005\u00006\u00009\u00003\u0000\"\u0000,\u0000\"\u0000B\u0000A\u0000O\u0000_\u00000\u00000\u00000\u00000\u00003\u00005\u00007\u0000\"\u0000,\u0000\"\u0000\"\u0000,\u0000\"\u0000\"\u0000,\u0000\"\u0000\"\u0000,\u0000\"\u0000\"\u0000,\u0000\"\u0000C\u0000N\u00001\u0000C\u0000C\u0000N\u0000(\u0000C\u0000C\u00001\u0000)\u0000C\u0000(\u0000=\u0000O\u0000)\u0000C\u0000C\u0000C\u00002\u0000=\u0000C\u0000(\u0000C\u0000)\u0000C\u0000(\u0000=\u0000O\u0000)\u0000c\u00003\u0000c\u0000c\u0000c\u0000c\u0000c\u00003\u0000C\u00002\u0000=\u0000O\u0000\"\u0000,\u0000\"\u0000\"\u0000,\u0000\"\u0000J\u0000.\u0000 \u0000M\u0000e\u0000d\u0000.\u0000 \u0000C\u0000h\u0000e\u0000m\u0000.\u0000\"\u0000,\u0000\"\u00002\u00000\u00000\u00001\u0000\"\u0000,\u0000\"\u00001\u0000\"\u0000,\u0000\"\u0000U\u0000O\u0000_\u00000\u00000\u00000\u00000\u00000\u00006\u00005\u0000\"\u0000,\u0000\"\u0000F\u0000a\u0000l\u0000s\u0000e\u0000\"\u0000\n",
      "\n",
      "44\n"
     ]
    }
   ],
   "source": [
    "for line in lines[:10]: # first line contains the headers (therefore skiped)\n",
    "    lis = line.strip().split(',')\n",
    "    if len(lis)!=43:\n",
    "        print(line)\n",
    "        print(len(lis))"
   ]
  },
  {
   "cell_type": "markdown",
   "metadata": {},
   "source": [
    "Here we can see: <br>\n",
    " Inhibitory activity against Trypanosoma cruzi trypanothione disulfide <b> reductase, assay</b>  in presence of 57 uM T(S)2.<br>\n",
    " There is a , in the sentence. So we can not use split(',')\n",
    " \n",
    "\n"
   ]
  },
  {
   "cell_type": "code",
   "execution_count": 6,
   "metadata": {},
   "outputs": [
    {
     "data": {
      "text/plain": [
       "295467"
      ]
     },
     "execution_count": 6,
     "metadata": {},
     "output_type": "execute_result"
    }
   ],
   "source": [
    "bug=[]\n",
    "for line in lines[1:]: # first line contains the headers (therefore skiped)\n",
    "    lis = line.strip().split(',')\n",
    "    if len(lis)!=43:\n",
    "        bug.append(len(lis))\n",
    "len(bug)"
   ]
  },
  {
   "cell_type": "markdown",
   "metadata": {},
   "source": [
    "useing split(',') will damage 295467 records"
   ]
  },
  {
   "cell_type": "code",
   "execution_count": 7,
   "metadata": {
    "scrolled": false
   },
   "outputs": [
    {
     "name": "stdout",
     "output_type": "stream",
     "text": [
      "{1, 44, 45, 46, 47, 48, 49, 50, 51, 52, 53, 54, 55, 56, 57, 58, 59, 60, 61, 62, 63, 64, 65, 66, 67, 68, 69, 70, 71, 72, 73, 75, 76, 78, 79, 80, 81, 83, 84, 86, 99}\n"
     ]
    }
   ],
   "source": [
    "c=set(bug)\n",
    "print(c)"
   ]
  },
  {
   "cell_type": "markdown",
   "metadata": {},
   "source": [
    "So we can see we have lots of records length >43, it is becuase we have , inside sentence"
   ]
  },
  {
   "cell_type": "markdown",
   "metadata": {},
   "source": [
    "Consider <br>\n",
    "\"CHEMBL357338\",\"IC50\",\">\",\"50000\",\"nM\",\"\",\"\",\"16 2-g\",\"CHEMBL812446\",\"Inhibitory activity against Trypanosoma cruzi trypanothione disulfide reductase, assay in presence of 57 uM T(S)2.\",\"single protein format\",\"CHEMBL5131\",\n",
    "\n",
    "We could replace \",\" to a rare punctuation like \"!\" and use ! to split"
   ]
  },
  {
   "cell_type": "code",
   "execution_count": 8,
   "metadata": {},
   "outputs": [
    {
     "name": "stdout",
     "output_type": "stream",
     "text": [
      "['Molecule', 'Standard Type', 'Standard Relation', 'Standard Value', 'Standard Units', 'pChEMBL Value', 'Comment', 'Compound Key', 'Assay', 'Assay Description', 'BAO Format', 'Target', 'Target Pref. Name', 'Target Organism', 'Target Type', 'Document', 'Source', 'Max Phase', '#Ro5 Violations', 'Molecular Weight', 'Ligand Efficiency BEI', 'Ligand Efficiency LE', 'Ligand Efficiency LLE', 'Ligand Efficiency SEI', 'ALogP', 'Assay Organism', 'Assay Tissue ChEMBL ID', 'Assay Tissue Name', 'Assay Cell Type', 'Assay Subcellular Fraction', 'Organism Tax ID', 'BAO Format ID', 'Published Type', 'Published Relation', 'Published Value', 'Published Units', 'Canonical Smiles', 'Data Validity Comment', 'Document Journal', 'Document Year', 'SRC ID', 'UO Units', 'Potential Duplicate'] \n",
      "\n",
      "43\n",
      "Molecule\n",
      "Standard Value\n",
      "Standard Units\n",
      "Assay\n",
      "Canonical Smiles\n"
     ]
    }
   ],
   "source": [
    "test=lines[0]\n",
    "te=''\n",
    "for ch in test:\n",
    "    te=te+ch\n",
    "\n",
    "te=te.replace('\\x00','')\n",
    "te=te.strip()\n",
    "te=te.replace('\",\"','\"!\"')\n",
    "te=te.replace('\"','')\n",
    "te=te.split('!')\n",
    "\n",
    "print(te,'\\n')\n",
    "print(len(te))\n",
    "print(te[0])\n",
    "print(te[3])\n",
    "print(te[4])\n",
    "print(te[8])\n",
    "print(te[36])\n",
    "# [id, ic50_val, unit, target, smiles]\n",
    "# [0,3,4,8,36]"
   ]
  },
  {
   "cell_type": "code",
   "execution_count": 9,
   "metadata": {},
   "outputs": [
    {
     "name": "stdout",
     "output_type": "stream",
     "text": [
      "43\n",
      "CHEMBL17430\n",
      "11600\n",
      "nM\n",
      "CHEMBL664913\n",
      "Nc1nc(N)c2c(CSc3ccc(Cl)c(Cl)c3)c[nH]c2n1\n"
     ]
    }
   ],
   "source": [
    "test=lines[1]\n",
    "te=''\n",
    "for ch in test:\n",
    "    te=te+ch\n",
    "\n",
    "te=te.replace('\\x00','')\n",
    "te=te.strip()\n",
    "te=te.replace('\",\"','\"!\"')\n",
    "te=te.replace('\"','')\n",
    "te=te.split('!')\n",
    "\n",
    "# print(te,'\\n')\n",
    "print(len(te))\n",
    "print(te[0])\n",
    "print(te[3])\n",
    "print(te[4])\n",
    "print(te[8])\n",
    "print(te[36])\n",
    "# [id, ic50_val, unit, target, smiles]\n",
    "# [0,3,4,8,36]"
   ]
  },
  {
   "cell_type": "code",
   "execution_count": 10,
   "metadata": {
    "scrolled": false
   },
   "outputs": [
    {
     "name": "stdout",
     "output_type": "stream",
     "text": [
      "0.0  0.09386842087971607  0.18773684175943214  0.2816052626391482  0.3754736835188643  0.4693421043985803  0.5632105252782964  0.6570789461580124  0.7509473670377286  0.8448157879174446  0.9386842087971606  "
     ]
    }
   ],
   "source": [
    "miss_ic50=0\n",
    "smiles=[]\n",
    "target=[]\n",
    "unit=[]\n",
    "ic50=[]\n",
    "it=0\n",
    "new_bugs=[]\n",
    "for line in lines[1:]: # first line contains the headers (therefore skiped)\n",
    "    \n",
    "    if it%100000==0:\n",
    "        print(it/total_record,end='  ')\n",
    "    it=it+1\n",
    "    \n",
    "    te=''\n",
    "    for ch in line:\n",
    "        te=te+ch\n",
    "    \n",
    "    te=te.replace('\\x00','')\n",
    "    te=te.strip()\n",
    "    te=te.replace('\",\"','\"!\"')\n",
    "    te=te.replace('\"','')\n",
    "    te=te.split('!')\n",
    "\n",
    "\n",
    "    if len(te)!=43:\n",
    "        new_bugs.append(len(te))\n",
    "    if len(te)==43:\n",
    "        try:\n",
    "            ic50.append(float(te[3]))\n",
    "            smiles.append(te[36])\n",
    "            target.append(te[8])\n",
    "            unit.append(te[4])\n",
    "        except:\n",
    "            miss_ic50=miss_ic50+1"
   ]
  },
  {
   "cell_type": "code",
   "execution_count": 11,
   "metadata": {},
   "outputs": [
    {
     "name": "stdout",
     "output_type": "stream",
     "text": [
      "bad records: 3853\n",
      "clean data: 945997\n",
      "data mised ic50: 115470\n"
     ]
    }
   ],
   "source": [
    "print('bad records:',len(new_bugs))\n",
    "print('clean data:',len(ic50))\n",
    "print('data mised ic50:',miss_ic50)"
   ]
  },
  {
   "cell_type": "markdown",
   "metadata": {},
   "source": [
    "Using new split methods, we only damage 3853 records."
   ]
  },
  {
   "cell_type": "code",
   "execution_count": 12,
   "metadata": {},
   "outputs": [
    {
     "data": {
      "text/html": [
       "<div>\n",
       "<style scoped>\n",
       "    .dataframe tbody tr th:only-of-type {\n",
       "        vertical-align: middle;\n",
       "    }\n",
       "\n",
       "    .dataframe tbody tr th {\n",
       "        vertical-align: top;\n",
       "    }\n",
       "\n",
       "    .dataframe thead th {\n",
       "        text-align: right;\n",
       "    }\n",
       "</style>\n",
       "<table border=\"1\" class=\"dataframe\">\n",
       "  <thead>\n",
       "    <tr style=\"text-align: right;\">\n",
       "      <th></th>\n",
       "      <th>target</th>\n",
       "      <th>smiles</th>\n",
       "      <th>unit</th>\n",
       "      <th>ic50</th>\n",
       "    </tr>\n",
       "  </thead>\n",
       "  <tbody>\n",
       "    <tr>\n",
       "      <th>0</th>\n",
       "      <td>CHEMBL664913</td>\n",
       "      <td>Nc1nc(N)c2c(CSc3ccc(Cl)c(Cl)c3)c[nH]c2n1</td>\n",
       "      <td>nM</td>\n",
       "      <td>11600.0</td>\n",
       "    </tr>\n",
       "    <tr>\n",
       "      <th>1</th>\n",
       "      <td>CHEMBL812106</td>\n",
       "      <td>NC(=S)\\N=N\\c1c(O)[nH]c2ccc(I)cc12</td>\n",
       "      <td>nM</td>\n",
       "      <td>9000.0</td>\n",
       "    </tr>\n",
       "    <tr>\n",
       "      <th>2</th>\n",
       "      <td>CHEMBL811877</td>\n",
       "      <td>[Cl-].C[N+](C)(CCCN1c2ccccc2Sc3ccc(Cl)cc13)Cc4...</td>\n",
       "      <td>nM</td>\n",
       "      <td>17900.0</td>\n",
       "    </tr>\n",
       "    <tr>\n",
       "      <th>3</th>\n",
       "      <td>CHEMBL664920</td>\n",
       "      <td>COc1cc(OC)cc(c1)N(C)Cc2c[nH]c3nc(N)nc(O)c23</td>\n",
       "      <td>nM</td>\n",
       "      <td>4200.0</td>\n",
       "    </tr>\n",
       "    <tr>\n",
       "      <th>4</th>\n",
       "      <td>CHEMBL664913</td>\n",
       "      <td>COc1cc(Cc2cnc(N)nc2N)cc(OC)c1OC</td>\n",
       "      <td>nM</td>\n",
       "      <td>2700.0</td>\n",
       "    </tr>\n",
       "  </tbody>\n",
       "</table>\n",
       "</div>"
      ],
      "text/plain": [
       "         target                                             smiles unit  \\\n",
       "0  CHEMBL664913           Nc1nc(N)c2c(CSc3ccc(Cl)c(Cl)c3)c[nH]c2n1   nM   \n",
       "1  CHEMBL812106                  NC(=S)\\N=N\\c1c(O)[nH]c2ccc(I)cc12   nM   \n",
       "2  CHEMBL811877  [Cl-].C[N+](C)(CCCN1c2ccccc2Sc3ccc(Cl)cc13)Cc4...   nM   \n",
       "3  CHEMBL664920        COc1cc(OC)cc(c1)N(C)Cc2c[nH]c3nc(N)nc(O)c23   nM   \n",
       "4  CHEMBL664913                    COc1cc(Cc2cnc(N)nc2N)cc(OC)c1OC   nM   \n",
       "\n",
       "      ic50  \n",
       "0  11600.0  \n",
       "1   9000.0  \n",
       "2  17900.0  \n",
       "3   4200.0  \n",
       "4   2700.0  "
      ]
     },
     "execution_count": 12,
     "metadata": {},
     "output_type": "execute_result"
    }
   ],
   "source": [
    "DATA_DICT={'target':target, 'smiles':smiles, 'unit':unit , 'ic50':ic50}\n",
    "DATA=pd.DataFrame(data=DATA_DICT)\n",
    "DATA.head()"
   ]
  },
  {
   "cell_type": "code",
   "execution_count": null,
   "metadata": {},
   "outputs": [],
   "source": [
    "len(DATA)\n",
    "DATA.to_pickle(\"./clean_data.pkl\")"
   ]
  },
  {
   "cell_type": "code",
   "execution_count": 16,
   "metadata": {},
   "outputs": [],
   "source": [
    "DATA = pd.read_pickle(\"./clean_data.pkl\")"
   ]
  },
  {
   "cell_type": "markdown",
   "metadata": {},
   "source": [
    "## 2  Filter the database to the top 100 targets in the database. You will need a definition of \"top\" such as the targets with the most assays. From these top 100 targets, save the ligands that have an assay result for each of the targets. \n",
    "\n"
   ]
  },
  {
   "cell_type": "code",
   "execution_count": 17,
   "metadata": {},
   "outputs": [
    {
     "data": {
      "text/plain": [
       "nM                 940733\n",
       "ug.mL-1              4953\n",
       "                      146\n",
       "%                      34\n",
       "/uM                    25\n",
       "milliequivalent        20\n",
       "ppm                    18\n",
       "p.p.m.                 10\n",
       "uM tube-1               9\n",
       "min                     9\n",
       "molar ratio             8\n",
       "ucm                     6\n",
       "mg kg-1                 6\n",
       "nmol/mg                 5\n",
       "mg.min/m3               4\n",
       "ug                      3\n",
       "umol/dm3                2\n",
       "ucm/s                   2\n",
       "10'13nM                 1\n",
       "10'7nM                  1\n",
       "10'-4umol/L             1\n",
       "10'8nM                  1\n",
       "Name: unit, dtype: int64"
      ]
     },
     "execution_count": 17,
     "metadata": {},
     "output_type": "execute_result"
    }
   ],
   "source": [
    "# print the unit and see how many types it has\n",
    "unitcounts=DATA['unit'].value_counts()\n",
    "unitcounts"
   ]
  },
  {
   "cell_type": "code",
   "execution_count": 18,
   "metadata": {},
   "outputs": [],
   "source": [
    "# we only need data type == nm\n",
    "Filtered_data= DATA[DATA['unit']=='nM']"
   ]
  },
  {
   "cell_type": "code",
   "execution_count": 19,
   "metadata": {},
   "outputs": [
    {
     "data": {
      "text/plain": [
       "940733"
      ]
     },
     "execution_count": 19,
     "metadata": {},
     "output_type": "execute_result"
    }
   ],
   "source": [
    "len(Filtered_data)"
   ]
  },
  {
   "cell_type": "code",
   "execution_count": 20,
   "metadata": {
    "scrolled": false
   },
   "outputs": [
    {
     "data": {
      "text/plain": [
       "CHEMBL2114881    2057\n",
       "CHEMBL2114714    1381\n",
       "CHEMBL1738239    1210\n",
       "CHEMBL1614190    1205\n",
       "CHEMBL1963941    1186\n",
       "CHEMBL1963883    1186\n",
       "CHEMBL1614432    1128\n",
       "CHEMBL1614529    1106\n",
       "CHEMBL3888191    1062\n",
       "CHEMBL2328568    1017\n",
       "CHEMBL1794550    1013\n",
       "CHEMBL1738498    1013\n",
       "CHEMBL2114932    1011\n",
       "CHEMBL2114818    1011\n",
       "CHEMBL1794574    1011\n",
       "CHEMBL3562022     991\n",
       "CHEMBL1738639     940\n",
       "CHEMBL1738682     940\n",
       "CHEMBL1794362     896\n",
       "CHEMBL1613799     827\n",
       "CHEMBL3888383     800\n",
       "CHEMBL3881499     800\n",
       "CHEMBL3436041     792\n",
       "CHEMBL3436039     792\n",
       "CHEMBL3436040     792\n",
       "CHEMBL3705899     773\n",
       "CHEMBL3888194     758\n",
       "CHEMBL3705123     752\n",
       "CHEMBL1614063     744\n",
       "CHEMBL3887063     741\n",
       "                 ... \n",
       "CHEMBL3390512       1\n",
       "CHEMBL3743750       1\n",
       "CHEMBL2410563       1\n",
       "CHEMBL2344388       1\n",
       "CHEMBL1244081       1\n",
       "CHEMBL682320        1\n",
       "CHEMBL1935940       1\n",
       "CHEMBL3747978       1\n",
       "CHEMBL3242000       1\n",
       "CHEMBL1919730       1\n",
       "CHEMBL3624356       1\n",
       "CHEMBL617398        1\n",
       "CHEMBL2045158       1\n",
       "CHEMBL919915        1\n",
       "CHEMBL806668        1\n",
       "CHEMBL2039054       1\n",
       "CHEMBL4031182       1\n",
       "CHEMBL1046776       1\n",
       "CHEMBL3372487       1\n",
       "CHEMBL3369528       1\n",
       "CHEMBL3744265       1\n",
       "CHEMBL966740        1\n",
       "CHEMBL3856509       1\n",
       "CHEMBL3807408       1\n",
       "CHEMBL1825658       1\n",
       "CHEMBL3135863       1\n",
       "CHEMBL4012417       1\n",
       "CHEMBL3638095       1\n",
       "CHEMBL647605        1\n",
       "CHEMBL3108106       1\n",
       "Name: target, Length: 76738, dtype: int64"
      ]
     },
     "execution_count": 20,
     "metadata": {},
     "output_type": "execute_result"
    }
   ],
   "source": [
    "# count each target has how many element\n",
    "counts=Filtered_data['target'].value_counts()\n",
    "counts"
   ]
  },
  {
   "cell_type": "code",
   "execution_count": 21,
   "metadata": {},
   "outputs": [
    {
     "data": {
      "text/plain": [
       "233906"
      ]
     },
     "execution_count": 21,
     "metadata": {},
     "output_type": "execute_result"
    }
   ],
   "source": [
    "# we just pick top 1000 at first.\n",
    "# because some targets' label are all 0 of all 1,which is no use\n",
    "# we will throw these data later, so the task will be less than 1000\n",
    "Pick_top=1000\n",
    "sum(counts[:Pick_top])"
   ]
  },
  {
   "cell_type": "markdown",
   "metadata": {},
   "source": [
    " Get top 1000 targets in the database. \n",
    " \n",
    " Here we define \"top\" as the targets with the most assays. "
   ]
  },
  {
   "cell_type": "code",
   "execution_count": 22,
   "metadata": {
    "scrolled": true
   },
   "outputs": [
    {
     "data": {
      "text/plain": [
       "Index(['CHEMBL2114881', 'CHEMBL2114714', 'CHEMBL1738239', 'CHEMBL1614190',\n",
       "       'CHEMBL1963941', 'CHEMBL1963883', 'CHEMBL1614432', 'CHEMBL1614529',\n",
       "       'CHEMBL3888191', 'CHEMBL2328568',\n",
       "       ...\n",
       "       'CHEMBL1694433', 'CHEMBL3887026', 'CHEMBL3367077', 'CHEMBL2114802',\n",
       "       'CHEMBL1072072', 'CHEMBL989823', 'CHEMBL648847', 'CHEMBL3887077',\n",
       "       'CHEMBL3367079', 'CHEMBL3880150'],\n",
       "      dtype='object', length=1000)"
      ]
     },
     "execution_count": 22,
     "metadata": {},
     "output_type": "execute_result"
    }
   ],
   "source": [
    "top_target= counts.index[:Pick_top]\n",
    "top_target"
   ]
  },
  {
   "cell_type": "code",
   "execution_count": 19,
   "metadata": {},
   "outputs": [
    {
     "data": {
      "text/html": [
       "<div>\n",
       "<style scoped>\n",
       "    .dataframe tbody tr th:only-of-type {\n",
       "        vertical-align: middle;\n",
       "    }\n",
       "\n",
       "    .dataframe tbody tr th {\n",
       "        vertical-align: top;\n",
       "    }\n",
       "\n",
       "    .dataframe thead th {\n",
       "        text-align: right;\n",
       "    }\n",
       "</style>\n",
       "<table border=\"1\" class=\"dataframe\">\n",
       "  <thead>\n",
       "    <tr style=\"text-align: right;\">\n",
       "      <th></th>\n",
       "      <th>target</th>\n",
       "      <th>smiles</th>\n",
       "      <th>unit</th>\n",
       "      <th>ic50</th>\n",
       "    </tr>\n",
       "  </thead>\n",
       "  <tbody>\n",
       "    <tr>\n",
       "      <th>78</th>\n",
       "      <td>CHEMBL828662</td>\n",
       "      <td>CN(Cc1c[nH]c2nc(N)nc(N)c12)c3cccc4ccccc34</td>\n",
       "      <td>nM</td>\n",
       "      <td>870.00</td>\n",
       "    </tr>\n",
       "    <tr>\n",
       "      <th>79</th>\n",
       "      <td>CHEMBL830839</td>\n",
       "      <td>COc1ccccc1Sc2ccc3nc(N)nc(N)c3n2</td>\n",
       "      <td>nM</td>\n",
       "      <td>57.94</td>\n",
       "    </tr>\n",
       "    <tr>\n",
       "      <th>80</th>\n",
       "      <td>CHEMBL828662</td>\n",
       "      <td>Nc1nc(N)c2CC(CNc3cc(Cl)ccc3Cl)CCc2n1</td>\n",
       "      <td>nM</td>\n",
       "      <td>97.00</td>\n",
       "    </tr>\n",
       "    <tr>\n",
       "      <th>81</th>\n",
       "      <td>CHEMBL830839</td>\n",
       "      <td>Nc1nc(N)c2CC(CNc3cc(Cl)ccc3Cl)CCc2n1</td>\n",
       "      <td>nM</td>\n",
       "      <td>97.01</td>\n",
       "    </tr>\n",
       "    <tr>\n",
       "      <th>83</th>\n",
       "      <td>CHEMBL828662</td>\n",
       "      <td>COc1ccc(N(C)Cc2ccc3nc(N)nc(N)c3n2)c(OC)c1</td>\n",
       "      <td>nM</td>\n",
       "      <td>14.00</td>\n",
       "    </tr>\n",
       "    <tr>\n",
       "      <th>86</th>\n",
       "      <td>CHEMBL830839</td>\n",
       "      <td>COc1ccc(CNc2cnc3nc(N)nc(N)c3c2)c(OC)c1OC</td>\n",
       "      <td>nM</td>\n",
       "      <td>350.03</td>\n",
       "    </tr>\n",
       "    <tr>\n",
       "      <th>87</th>\n",
       "      <td>CHEMBL828662</td>\n",
       "      <td>COc1cc(Nc2ccc3nc(N)nc(N)c3n2)cc(OC)c1OC</td>\n",
       "      <td>nM</td>\n",
       "      <td>2400.00</td>\n",
       "    </tr>\n",
       "    <tr>\n",
       "      <th>89</th>\n",
       "      <td>CHEMBL830839</td>\n",
       "      <td>CN(Cc1ccccc1)c2cnc3nc(N)nc(N)c3c2</td>\n",
       "      <td>nM</td>\n",
       "      <td>32.00</td>\n",
       "    </tr>\n",
       "    <tr>\n",
       "      <th>124</th>\n",
       "      <td>CHEMBL1071424</td>\n",
       "      <td>Cc1c(Sc2ccc(Cl)cc2)[nH]c3nc(N)nc(N)c13</td>\n",
       "      <td>nM</td>\n",
       "      <td>8930.00</td>\n",
       "    </tr>\n",
       "    <tr>\n",
       "      <th>125</th>\n",
       "      <td>CHEMBL1071424</td>\n",
       "      <td>COc1ccc(c2nc3c(N)nc(N)nc3[nH]2)c(c1OC)[N+](=O)...</td>\n",
       "      <td>nM</td>\n",
       "      <td>16800.00</td>\n",
       "    </tr>\n",
       "  </tbody>\n",
       "</table>\n",
       "</div>"
      ],
      "text/plain": [
       "            target                                             smiles unit  \\\n",
       "78    CHEMBL828662          CN(Cc1c[nH]c2nc(N)nc(N)c12)c3cccc4ccccc34   nM   \n",
       "79    CHEMBL830839                    COc1ccccc1Sc2ccc3nc(N)nc(N)c3n2   nM   \n",
       "80    CHEMBL828662               Nc1nc(N)c2CC(CNc3cc(Cl)ccc3Cl)CCc2n1   nM   \n",
       "81    CHEMBL830839               Nc1nc(N)c2CC(CNc3cc(Cl)ccc3Cl)CCc2n1   nM   \n",
       "83    CHEMBL828662          COc1ccc(N(C)Cc2ccc3nc(N)nc(N)c3n2)c(OC)c1   nM   \n",
       "86    CHEMBL830839           COc1ccc(CNc2cnc3nc(N)nc(N)c3c2)c(OC)c1OC   nM   \n",
       "87    CHEMBL828662            COc1cc(Nc2ccc3nc(N)nc(N)c3n2)cc(OC)c1OC   nM   \n",
       "89    CHEMBL830839                  CN(Cc1ccccc1)c2cnc3nc(N)nc(N)c3c2   nM   \n",
       "124  CHEMBL1071424             Cc1c(Sc2ccc(Cl)cc2)[nH]c3nc(N)nc(N)c13   nM   \n",
       "125  CHEMBL1071424  COc1ccc(c2nc3c(N)nc(N)nc3[nH]2)c(c1OC)[N+](=O)...   nM   \n",
       "\n",
       "         ic50  \n",
       "78     870.00  \n",
       "79      57.94  \n",
       "80      97.00  \n",
       "81      97.01  \n",
       "83      14.00  \n",
       "86     350.03  \n",
       "87    2400.00  \n",
       "89      32.00  \n",
       "124   8930.00  \n",
       "125  16800.00  "
      ]
     },
     "execution_count": 19,
     "metadata": {},
     "output_type": "execute_result"
    }
   ],
   "source": [
    "Filtered_data= Filtered_data[Filtered_data['target'].isin(top_target)]\n",
    "Filtered_data[:10]"
   ]
  },
  {
   "cell_type": "code",
   "execution_count": 20,
   "metadata": {},
   "outputs": [
    {
     "data": {
      "text/plain": [
       "233906"
      ]
     },
     "execution_count": 20,
     "metadata": {},
     "output_type": "execute_result"
    }
   ],
   "source": [
    "len(Filtered_data)"
   ]
  },
  {
   "cell_type": "markdown",
   "metadata": {},
   "source": [
    "After filtered the data. We have top 1000 targets and 233906 assay in total"
   ]
  },
  {
   "cell_type": "markdown",
   "metadata": {},
   "source": [
    "## 3  Binarize the binding affinity for each ligand in the assay. That is, convert the continuous measure of binding to binary. You should use the column 'IC50' for this calculation. Anything below 300 nM should be considered as an active binding. Anything above 10 uM should be considered non-binding (inactive). \n",
    "\n",
    "below 300 nM should be considered as an active binding -->1<br>\n",
    "Anything above 10 uM should be considered non-binding (inactive)--->0\n",
    "\n",
    "10 uM=10000 nm\n",
    "\n",
    "Let's count how many records are belong to 0 and 1"
   ]
  },
  {
   "cell_type": "code",
   "execution_count": 21,
   "metadata": {},
   "outputs": [
    {
     "name": "stdout",
     "output_type": "stream",
     "text": [
      "Before 233906\n",
      "After 166876\n",
      "droped 67030\n"
     ]
    }
   ],
   "source": [
    "# first we throw all the data between 300 and 10000\n",
    "df=Filtered_data.copy()\n",
    "before_drop=len(df)\n",
    "print('Before',before_drop)\n",
    "\n",
    "df.drop(df[(df.ic50 > 300) & (df.ic50 < 10000) ].index, inplace=True)\n",
    "print('After',len(df))\n",
    "print('droped',before_drop-len(df))"
   ]
  },
  {
   "cell_type": "code",
   "execution_count": 22,
   "metadata": {},
   "outputs": [
    {
     "data": {
      "text/plain": [
       "<matplotlib.axes._subplots.AxesSubplot at 0x2aaaf3f5a630>"
      ]
     },
     "execution_count": 22,
     "metadata": {},
     "output_type": "execute_result"
    },
    {
     "data": {
      "image/png": "[encoded data removed]",
      "text/plain": [
       "<Figure size 432x288 with 1 Axes>"
      ]
     },
     "metadata": {},
     "output_type": "display_data"
    }
   ],
   "source": [
    "test=df.copy()\n",
    "test['ic50'][(test.ic50 <= 300)]=1\n",
    "test['ic50'][(test.ic50 >= 10000)]=0\n",
    "test['ic50'].plot.hist()"
   ]
  },
  {
   "cell_type": "code",
   "execution_count": 23,
   "metadata": {},
   "outputs": [
    {
     "data": {
      "text/plain": [
       "1.0    96856\n",
       "0.0    70020\n",
       "Name: ic50, dtype: int64"
      ]
     },
     "execution_count": 23,
     "metadata": {},
     "output_type": "execute_result"
    }
   ],
   "source": [
    "test.ic50.value_counts()"
   ]
  },
  {
   "cell_type": "code",
   "execution_count": 24,
   "metadata": {},
   "outputs": [
    {
     "data": {
      "text/html": [
       "<div>\n",
       "<style scoped>\n",
       "    .dataframe tbody tr th:only-of-type {\n",
       "        vertical-align: middle;\n",
       "    }\n",
       "\n",
       "    .dataframe tbody tr th {\n",
       "        vertical-align: top;\n",
       "    }\n",
       "\n",
       "    .dataframe thead th {\n",
       "        text-align: right;\n",
       "    }\n",
       "</style>\n",
       "<table border=\"1\" class=\"dataframe\">\n",
       "  <thead>\n",
       "    <tr style=\"text-align: right;\">\n",
       "      <th></th>\n",
       "      <th>target</th>\n",
       "      <th>smiles</th>\n",
       "      <th>unit</th>\n",
       "      <th>ic50</th>\n",
       "    </tr>\n",
       "  </thead>\n",
       "  <tbody>\n",
       "    <tr>\n",
       "      <th>79</th>\n",
       "      <td>CHEMBL830839</td>\n",
       "      <td>COc1ccccc1Sc2ccc3nc(N)nc(N)c3n2</td>\n",
       "      <td>nM</td>\n",
       "      <td>1.0</td>\n",
       "    </tr>\n",
       "    <tr>\n",
       "      <th>80</th>\n",
       "      <td>CHEMBL828662</td>\n",
       "      <td>Nc1nc(N)c2CC(CNc3cc(Cl)ccc3Cl)CCc2n1</td>\n",
       "      <td>nM</td>\n",
       "      <td>1.0</td>\n",
       "    </tr>\n",
       "    <tr>\n",
       "      <th>81</th>\n",
       "      <td>CHEMBL830839</td>\n",
       "      <td>Nc1nc(N)c2CC(CNc3cc(Cl)ccc3Cl)CCc2n1</td>\n",
       "      <td>nM</td>\n",
       "      <td>1.0</td>\n",
       "    </tr>\n",
       "    <tr>\n",
       "      <th>83</th>\n",
       "      <td>CHEMBL828662</td>\n",
       "      <td>COc1ccc(N(C)Cc2ccc3nc(N)nc(N)c3n2)c(OC)c1</td>\n",
       "      <td>nM</td>\n",
       "      <td>1.0</td>\n",
       "    </tr>\n",
       "    <tr>\n",
       "      <th>89</th>\n",
       "      <td>CHEMBL830839</td>\n",
       "      <td>CN(Cc1ccccc1)c2cnc3nc(N)nc(N)c3c2</td>\n",
       "      <td>nM</td>\n",
       "      <td>1.0</td>\n",
       "    </tr>\n",
       "    <tr>\n",
       "      <th>125</th>\n",
       "      <td>CHEMBL1071424</td>\n",
       "      <td>COc1ccc(c2nc3c(N)nc(N)nc3[nH]2)c(c1OC)[N+](=O)...</td>\n",
       "      <td>nM</td>\n",
       "      <td>0.0</td>\n",
       "    </tr>\n",
       "    <tr>\n",
       "      <th>126</th>\n",
       "      <td>CHEMBL1071424</td>\n",
       "      <td>CN(Cc1coc2nc(N)nc(N)c12)c3cc(Cl)c(Cl)c(Cl)c3</td>\n",
       "      <td>nM</td>\n",
       "      <td>0.0</td>\n",
       "    </tr>\n",
       "    <tr>\n",
       "      <th>127</th>\n",
       "      <td>CHEMBL1071424</td>\n",
       "      <td>Nc1nc(N)c2c(CNc3ccc4ccccc4c3)coc2n1</td>\n",
       "      <td>nM</td>\n",
       "      <td>0.0</td>\n",
       "    </tr>\n",
       "    <tr>\n",
       "      <th>128</th>\n",
       "      <td>CHEMBL1071424</td>\n",
       "      <td>Nc1nc(N)c2c(CNc3ccccc3c4ccccc4)coc2n1</td>\n",
       "      <td>nM</td>\n",
       "      <td>0.0</td>\n",
       "    </tr>\n",
       "    <tr>\n",
       "      <th>183</th>\n",
       "      <td>CHEMBL1071424</td>\n",
       "      <td>CN(Cc1coc2nc(N)nc(N)c12)c3ccc4ccccc4c3</td>\n",
       "      <td>nM</td>\n",
       "      <td>0.0</td>\n",
       "    </tr>\n",
       "  </tbody>\n",
       "</table>\n",
       "</div>"
      ],
      "text/plain": [
       "            target                                             smiles unit  \\\n",
       "79    CHEMBL830839                    COc1ccccc1Sc2ccc3nc(N)nc(N)c3n2   nM   \n",
       "80    CHEMBL828662               Nc1nc(N)c2CC(CNc3cc(Cl)ccc3Cl)CCc2n1   nM   \n",
       "81    CHEMBL830839               Nc1nc(N)c2CC(CNc3cc(Cl)ccc3Cl)CCc2n1   nM   \n",
       "83    CHEMBL828662          COc1ccc(N(C)Cc2ccc3nc(N)nc(N)c3n2)c(OC)c1   nM   \n",
       "89    CHEMBL830839                  CN(Cc1ccccc1)c2cnc3nc(N)nc(N)c3c2   nM   \n",
       "125  CHEMBL1071424  COc1ccc(c2nc3c(N)nc(N)nc3[nH]2)c(c1OC)[N+](=O)...   nM   \n",
       "126  CHEMBL1071424       CN(Cc1coc2nc(N)nc(N)c12)c3cc(Cl)c(Cl)c(Cl)c3   nM   \n",
       "127  CHEMBL1071424                Nc1nc(N)c2c(CNc3ccc4ccccc4c3)coc2n1   nM   \n",
       "128  CHEMBL1071424              Nc1nc(N)c2c(CNc3ccccc3c4ccccc4)coc2n1   nM   \n",
       "183  CHEMBL1071424             CN(Cc1coc2nc(N)nc(N)c12)c3ccc4ccccc4c3   nM   \n",
       "\n",
       "     ic50  \n",
       "79    1.0  \n",
       "80    1.0  \n",
       "81    1.0  \n",
       "83    1.0  \n",
       "89    1.0  \n",
       "125   0.0  \n",
       "126   0.0  \n",
       "127   0.0  \n",
       "128   0.0  \n",
       "183   0.0  "
      ]
     },
     "execution_count": 24,
     "metadata": {},
     "output_type": "execute_result"
    }
   ],
   "source": [
    "Binarized_data=test.copy()\n",
    "Binarized_data[:10]"
   ]
  },
  {
   "cell_type": "code",
   "execution_count": null,
   "metadata": {},
   "outputs": [],
   "source": [
    "Binarized_data.to_pickle(\"Binarized_data.pkl\")"
   ]
  },
  {
   "cell_type": "code",
   "execution_count": 15,
   "metadata": {},
   "outputs": [],
   "source": [
    "Binarized_data= pd.read_pickle(\"Binarized_data.pkl\")"
   ]
  },
  {
   "cell_type": "markdown",
   "metadata": {},
   "source": [
    "## 4  Featurize each ligand using RDKit (https://www.rdkit.org (Links to an external site.)Links to an external site.). This will convert the ligand representation into a binary vector of features. Mention any hyper parameters you use.\n"
   ]
  },
  {
   "cell_type": "code",
   "execution_count": 2,
   "metadata": {},
   "outputs": [],
   "source": [
    "from rdkit import Chem\n",
    "from rdkit.Chem import MACCSkeys, AllChem\n",
    "from rdkit.Avalon import pyAvalonTools as fpAvalon\n",
    "from rdkit.Chem.AtomPairs import Pairs, Torsions\n",
    "from rdkit.Chem.Fingerprints import FingerprintMols\n",
    "from rdkit.Chem.ChemicalFeatures import BuildFeatureFactory\n",
    "from rdkit.Chem import rdMolDescriptors\n",
    "import pandas as pd\n",
    "import argparse\n",
    "import textwrap\n",
    "import getopt\n",
    "from argparse import ArgumentParser\n",
    "import time"
   ]
  },
  {
   "cell_type": "code",
   "execution_count": 3,
   "metadata": {},
   "outputs": [],
   "source": [
    "def CalculateFP_mod(smiles, N_BITS=256):\n",
    "    m = Chem.MolFromSmiles(smiles)\n",
    "    if m is None:\n",
    "        raise ValueError('SMILES cannot be converted to a RDKit molecules:', smiles)\n",
    "\n",
    "    return AllChem.GetMorganFingerprintAsBitVect(m, 2, nBits=N_BITS)"
   ]
  },
  {
   "cell_type": "code",
   "execution_count": 4,
   "metadata": {},
   "outputs": [],
   "source": [
    "# convert smile to np arr bitvector\n",
    "def smile2BitVect_nparr(smiles):\n",
    "    bitstr=CalculateFP_mod(smiles,256).ToBitString()\n",
    "    bitvector=np.array([int(i) for i in bitstr])\n",
    "    return bitvector"
   ]
  },
  {
   "cell_type": "code",
   "execution_count": 5,
   "metadata": {},
   "outputs": [],
   "source": [
    "# Next we use AtomPairFingerprint\n",
    "# prepare for Exceptional work\n",
    "def Calculate_AtomPairFingerprint(smiles, N_BITS=512):\n",
    "    m = Chem.MolFromSmiles(smiles)\n",
    "    if m is None:\n",
    "        raise ValueError('SMILES cannot be converted to a RDKit molecules:', smiles)\n",
    "    return AllChem.GetHashedAtomPairFingerprintAsBitVect(m, nBits=N_BITS)"
   ]
  },
  {
   "cell_type": "code",
   "execution_count": 6,
   "metadata": {},
   "outputs": [],
   "source": [
    "# convert smile to np arr bitvector\n",
    "def smile2BitVect_AtomPair(smiles):\n",
    "    bitstr=Calculate_AtomPairFingerprint(smiles,512).ToBitString()\n",
    "    bitvector=np.array([int(i) for i in bitstr])\n",
    "    return bitvector\n",
    "        "
   ]
  },
  {
   "cell_type": "markdown",
   "metadata": {},
   "source": [
    "#### The hyper parameters used here are radius and the length of bit vector. I looked the RDKit document and almost all their examples were using radius=2 as default. So we will not change the radius.\n",
    "\n",
    "For length of bit vector we first calculate the number of 1. As you can see the test below, it is sparse. So we do not need to set the length too long."
   ]
  },
  {
   "cell_type": "code",
   "execution_count": 7,
   "metadata": {},
   "outputs": [
    {
     "data": {
      "text/plain": [
       "256"
      ]
     },
     "execution_count": 7,
     "metadata": {},
     "output_type": "execute_result"
    }
   ],
   "source": [
    "c=smile2BitVect_nparr('CCN1[C@@H](CCCC1=O)C(=O)NCc2cccc(c2Cl)C(F)(F)F')\n",
    "len(c)"
   ]
  },
  {
   "cell_type": "code",
   "execution_count": 8,
   "metadata": {},
   "outputs": [
    {
     "data": {
      "text/plain": [
       "512"
      ]
     },
     "execution_count": 8,
     "metadata": {},
     "output_type": "execute_result"
    }
   ],
   "source": [
    "e=smile2BitVect_AtomPair('CCN1[C@@H](CCCC1=O)C(=O)NCc2cccc(c2Cl)C(F)(F)F')\n",
    "len(e)"
   ]
  },
  {
   "cell_type": "code",
   "execution_count": 9,
   "metadata": {},
   "outputs": [
    {
     "name": "stdout",
     "output_type": "stream",
     "text": [
      "40\n",
      "48\n",
      "50\n",
      "51\n"
     ]
    }
   ],
   "source": [
    "print(CalculateFP_mod('CCN1[C@@H](CCCC1=O)C(=O)NCc2cccc(c2Cl)C(F)(F)F',128).ToBitString().count('1') )\n",
    "print(CalculateFP_mod('CCN1[C@@H](CCCC1=O)C(=O)NCc2cccc(c2Cl)C(F)(F)F',256).ToBitString().count('1') )\n",
    "print(CalculateFP_mod('CCN1[C@@H](CCCC1=O)C(=O)NCc2cccc(c2Cl)C(F)(F)F',512).ToBitString().count('1') )\n",
    "print(CalculateFP_mod('CCN1[C@@H](CCCC1=O)C(=O)NCc2cccc(c2Cl)C(F)(F)F',1024).ToBitString().count('1') )"
   ]
  },
  {
   "cell_type": "markdown",
   "metadata": {},
   "source": [
    "256 should be a suitable number. Because when reduced from 1024-512 and 512-256 the number of 1 only reduced 1 and 2 "
   ]
  },
  {
   "cell_type": "code",
   "execution_count": 10,
   "metadata": {},
   "outputs": [
    {
     "name": "stdout",
     "output_type": "stream",
     "text": [
      "112\n",
      "153\n",
      "199\n",
      "220\n"
     ]
    }
   ],
   "source": [
    "print(Calculate_AtomPairFingerprint('CCN1[C@@H](CCCC1=O)C(=O)NCc2cccc(c2Cl)C(F)(F)F',128).ToBitString().count('1') )\n",
    "print(Calculate_AtomPairFingerprint('CCN1[C@@H](CCCC1=O)C(=O)NCc2cccc(c2Cl)C(F)(F)F',256).ToBitString().count('1') )\n",
    "print(Calculate_AtomPairFingerprint('CCN1[C@@H](CCCC1=O)C(=O)NCc2cccc(c2Cl)C(F)(F)F',512).ToBitString().count('1') )\n",
    "print(Calculate_AtomPairFingerprint('CCN1[C@@H](CCCC1=O)C(=O)NCc2cccc(c2Cl)C(F)(F)F',1024).ToBitString().count('1') )"
   ]
  },
  {
   "cell_type": "markdown",
   "metadata": {},
   "source": [
    "512 might be a good number, since it just reduces 21 \"1\", when the dimension goes down from 1024 to 512"
   ]
  },
  {
   "cell_type": "code",
   "execution_count": 23,
   "metadata": {},
   "outputs": [],
   "source": [
    "# init our new data set after pre-processing \n",
    "# it will be a dict and key is the name of target and value is a list\n",
    "tasks ={}\n",
    "for each_target in top_target:\n",
    "    tasks[each_target]=[[],[],[],[]]\n",
    "    # 0 save MorganFingerprint bit vector \n",
    "    # 1 save label\n",
    "    # 2 save the ratio of 1/0 in label\n",
    "    # 3 save AtomPairFingerprint bit vector "
   ]
  },
  {
   "cell_type": "code",
   "execution_count": 24,
   "metadata": {},
   "outputs": [
    {
     "name": "stdout",
     "output_type": "stream",
     "text": [
      "missed smile 40\n"
     ]
    }
   ],
   "source": [
    "# some items has missed smile or their smile is a float number or their smile is something other than a smile\n",
    "# so we just need to remove them\n",
    "missed_smile=0\n",
    "for i in range(len(Binarized_data)):\n",
    "    item=Binarized_data.iloc[i]\n",
    "    \n",
    "    target=item.target\n",
    "    each_label= int(item.ic50)\n",
    "    smile=item.smiles\n",
    "\n",
    "    try: # try if convert failed \n",
    "        bitvector=smile2BitVect_nparr(smile)\n",
    "        atombit=smile2BitVect_AtomPair(smile)\n",
    "        tasks[target][0].append(bitvector)\n",
    "        tasks[target][1].append(each_label)\n",
    "        tasks[target][3].append(atombit)\n",
    "    except:\n",
    "        missed_smile=missed_smile+1\n",
    "print('missed smile',missed_smile)\n",
    "    "
   ]
  },
  {
   "cell_type": "code",
   "execution_count": 25,
   "metadata": {},
   "outputs": [
    {
     "name": "stdout",
     "output_type": "stream",
     "text": [
      "Wall time: 499 ms\n"
     ]
    }
   ],
   "source": [
    "%%time\n",
    "# convert trainning data into np array\n",
    "for key,value in tasks.items():\n",
    "    value[0]=np.array(value[0])\n",
    "    value[1]=np.array(value[1])\n",
    "    value[3]=np.array(value[3])"
   ]
  },
  {
   "cell_type": "code",
   "execution_count": 26,
   "metadata": {},
   "outputs": [],
   "source": [
    "# now let's check if the labels of a target are all 0 or all 1 or highly imbalance\n",
    "def check_if_all_zero_or_all_ones(label):\n",
    "    length=len(label)\n",
    "    if length==0:\n",
    "        return 0\n",
    "    ones=sum(label)\n",
    "    ratio=ones/length\n",
    "    return ratio"
   ]
  },
  {
   "cell_type": "code",
   "execution_count": 27,
   "metadata": {},
   "outputs": [],
   "source": [
    "for key,value in tasks.items():\n",
    "    ratio=check_if_all_zero_or_all_ones(value[1])\n",
    "    value[2]=ratio"
   ]
  },
  {
   "cell_type": "code",
   "execution_count": 28,
   "metadata": {
    "scrolled": false
   },
   "outputs": [
    {
     "name": "stdout",
     "output_type": "stream",
     "text": [
      "CHEMBL2114881 (2031, 256) (2031,) 0.0 (2031, 512)\n",
      "CHEMBL2114714 (1346, 256) (1346,) 0.0 (1346, 512)\n",
      "CHEMBL1738239 (1051, 256) (1051,) 0.0 (1051, 512)\n",
      "CHEMBL1614190 (892, 256) (892,) 0.0011210762331838565 (892, 512)\n",
      "CHEMBL1963941 (1186, 256) (1186,) 0.0 (1186, 512)\n",
      "CHEMBL1963883 (1186, 256) (1186,) 0.0 (1186, 512)\n",
      "CHEMBL1614432 (621, 256) (621,) 0.0 (621, 512)\n",
      "CHEMBL1614529 (164, 256) (164,) 0.0 (164, 512)\n",
      "CHEMBL3888191 (947, 256) (947,) 0.996832101372756 (947, 512)\n",
      "CHEMBL2328568 (585, 256) (585,) 0.8341880341880342 (585, 512)\n",
      "CHEMBL1794550 (958, 256) (958,) 0.0 (958, 512)\n",
      "CHEMBL1738498 (651, 256) (651,) 0.0015360983102918587 (651, 512)\n",
      "CHEMBL2114932 (304, 256) (304,) 0.03289473684210526 (304, 512)\n",
      "CHEMBL2114818 (369, 256) (369,) 0.02168021680216802 (369, 512)\n",
      "CHEMBL1794574 (244, 256) (244,) 0.0 (244, 512)\n",
      "CHEMBL3562022 (709, 256) (709,) 0.0014104372355430183 (709, 512)\n",
      "CHEMBL1738639 (331, 256) (331,) 0.13595166163141995 (331, 512)\n",
      "CHEMBL1738682 (497, 256) (497,) 0.08048289738430583 (497, 512)\n",
      "CHEMBL1794362 (537, 256) (537,) 0.020484171322160148 (537, 512)\n",
      "CHEMBL1613799 (571, 256) (571,) 0.0 (571, 512)\n",
      "CHEMBL3888383 (722, 256) (722,) 0.997229916897507 (722, 512)\n",
      "CHEMBL3881499 (625, 256) (625,) 0.9776 (625, 512)\n",
      "CHEMBL3436041 (412, 256) (412,) 0.03398058252427184 (412, 512)\n",
      "CHEMBL3436039 (428, 256) (428,) 0.03271028037383177 (428, 512)\n",
      "CHEMBL3436040 (423, 256) (423,) 0.03309692671394799 (423, 512)\n",
      "CHEMBL3705899 (531, 256) (531,) 0.9322033898305084 (531, 512)\n",
      "CHEMBL3888194 (591, 256) (591,) 0.9695431472081218 (591, 512)\n",
      "CHEMBL3705123 (577, 256) (577,) 1.0 (577, 512)\n",
      "CHEMBL1614063 (741, 256) (741,) 0.0 (741, 512)\n",
      "CHEMBL3887063 (689, 256) (689,) 0.9709724238026125 (689, 512)\n"
     ]
    }
   ],
   "source": [
    "# you can see how many records a target has all 0 or all 1\n",
    "times=0\n",
    "for key,value in tasks.items():\n",
    "    print(key,value[0].shape,value[1].shape,value[2],value[3].shape)\n",
    "    times=times+1\n",
    "    if times ==30:\n",
    "        break"
   ]
  },
  {
   "cell_type": "code",
   "execution_count": 29,
   "metadata": {},
   "outputs": [],
   "source": [
    "# let's throw highly imbalanced data\n",
    "filtered_tasks={}\n",
    "T=0.2\n",
    "for key,value in tasks.items():\n",
    "    if value[2]>T and value[2]<1-T:\n",
    "        filtered_tasks[key]= tasks[key]"
   ]
  },
  {
   "cell_type": "code",
   "execution_count": 30,
   "metadata": {
    "scrolled": false
   },
   "outputs": [
    {
     "name": "stdout",
     "output_type": "stream",
     "text": [
      "CHEMBL3705476 (231, 256) (231,) 0.7748917748917749 (231, 512)\n",
      "CHEMBL3887333 (319, 256) (319,) 0.6394984326018809 (319, 512)\n",
      "CHEMBL3705983 (215, 256) (215,) 0.4372093023255814 (215, 512)\n",
      "CHEMBL3705790 (274, 256) (274,) 0.7335766423357665 (274, 512)\n",
      "CHEMBL3706316 (331, 256) (331,) 0.7885196374622356 (331, 512)\n",
      "CHEMBL1119333 (315, 256) (315,) 0.7936507936507936 (315, 512)\n",
      "CHEMBL3705699 (141, 256) (141,) 0.7730496453900709 (141, 512)\n",
      "CHEMBL3705791 (214, 256) (214,) 0.7897196261682243 (214, 512)\n",
      "CHEMBL3705631 (216, 256) (216,) 0.49537037037037035 (216, 512)\n",
      "CHEMBL3705264 (120, 256) (120,) 0.5416666666666666 (120, 512)\n",
      "CHEMBL3734165 (214, 256) (214,) 0.6121495327102804 (214, 512)\n",
      "CHEMBL1614377 (249, 256) (249,) 0.3855421686746988 (249, 512)\n",
      "CHEMBL3888435 (93, 256) (93,) 0.20430107526881722 (93, 512)\n",
      "CHEMBL3887866 (150, 256) (150,) 0.7866666666666666 (150, 512)\n",
      "CHEMBL3705844 (149, 256) (149,) 0.785234899328859 (149, 512)\n",
      "CHEMBL3889241 (174, 256) (174,) 0.6896551724137931 (174, 512)\n",
      "CHEMBL3705773 (111, 256) (111,) 0.36036036036036034 (111, 512)\n",
      "CHEMBL1794546 (27, 256) (27,) 0.48148148148148145 (27, 512)\n",
      "CHEMBL3880113 (207, 256) (207,) 0.6183574879227053 (207, 512)\n",
      "CHEMBL1738482 (41, 256) (41,) 0.5365853658536586 (41, 512)\n",
      "CHEMBL3706306 (188, 256) (188,) 0.6329787234042553 (188, 512)\n",
      "CHEMBL3888489 (66, 256) (66,) 0.6818181818181818 (66, 512)\n",
      "CHEMBL2354227 (72, 256) (72,) 0.2916666666666667 (72, 512)\n",
      "CHEMBL2114728 (35, 256) (35,) 0.37142857142857144 (35, 512)\n",
      "CHEMBL1243967 (122, 256) (122,) 0.7377049180327869 (122, 512)\n",
      "CHEMBL3705666 (73, 256) (73,) 0.4520547945205479 (73, 512)\n",
      "CHEMBL3887894 (73, 256) (73,) 0.4520547945205479 (73, 512)\n",
      "CHEMBL1243965 (84, 256) (84,) 0.4880952380952381 (84, 512)\n",
      "CHEMBL1243968 (82, 256) (82,) 0.5121951219512195 (82, 512)\n",
      "CHEMBL3734166 (109, 256) (109,) 0.48623853211009177 (109, 512)\n"
     ]
    }
   ],
   "source": [
    "# after another filter\n",
    "times=0\n",
    "for key,value in filtered_tasks.items():\n",
    "    print(key,value[0].shape,value[1].shape,value[2],value[3].shape)\n",
    "    times=times+1\n",
    "    if times ==30:\n",
    "        break"
   ]
  },
  {
   "cell_type": "code",
   "execution_count": 31,
   "metadata": {},
   "outputs": [
    {
     "name": "stdout",
     "output_type": "stream",
     "text": [
      "After remove invaild smiles,and very imbalanced data we have:  9077\n"
     ]
    }
   ],
   "source": [
    "total=0\n",
    "for key,value in filtered_tasks.items():\n",
    "    total=total+value[0].shape[0]\n",
    "#     print(key,value[0].shape,value[1].shape)\n",
    "print('After remove invaild smiles,and very imbalanced data we have: ',total)"
   ]
  },
  {
   "cell_type": "code",
   "execution_count": 32,
   "metadata": {},
   "outputs": [
    {
     "name": "stdout",
     "output_type": "stream",
     "text": [
      "1: 5217\n",
      "0: 3860\n"
     ]
    }
   ],
   "source": [
    "all_ones=0\n",
    "for key,value in filtered_tasks.items():\n",
    "    ones=sum(value[1])\n",
    "    all_ones=all_ones+ones\n",
    "\n",
    "print('1:', all_ones )\n",
    "print('0:', total-all_ones)"
   ]
  },
  {
   "cell_type": "code",
   "execution_count": 33,
   "metadata": {},
   "outputs": [],
   "source": [
    "pickle_out = open(\"filtered_tasks.pickle\",\"wb\")\n",
    "pickle.dump(filtered_tasks, pickle_out)"
   ]
  },
  {
   "cell_type": "code",
   "execution_count": 30,
   "metadata": {},
   "outputs": [
    {
     "name": "stdout",
     "output_type": "stream",
     "text": [
      "All task Number: 102\n"
     ]
    }
   ],
   "source": [
    "pickle_in = open(\"filtered_tasks.pickle\",\"rb\")\n",
    "filtered_tasks = pickle.load(pickle_in)\n",
    "print('All task Number:',len(filtered_tasks))"
   ]
  },
  {
   "cell_type": "markdown",
   "metadata": {},
   "source": [
    "This is too coincidental... just after filtering, there are around 100 target left.And there are 900 tasks has imbalanced data!\n"
   ]
  },
  {
   "cell_type": "markdown",
   "metadata": {},
   "source": [
    "## 5 Train a multi-task model (one model for each target). Use an 80/20 split for each target.\n"
   ]
  },
  {
   "cell_type": "code",
   "execution_count": 31,
   "metadata": {},
   "outputs": [],
   "source": [
    "from keras.layers import Input, Dense\n",
    "from keras.models import Model\n",
    "from keras.layers import Dense, Dropout, Activation, Flatten\n",
    "from sklearn.model_selection import train_test_split\n",
    "from keras.layers import average, concatenate,RepeatVector,Lambda,add,subtract,Activation\n",
    "from keras.regularizers import l2 "
   ]
  },
  {
   "cell_type": "code",
   "execution_count": 32,
   "metadata": {},
   "outputs": [],
   "source": [
    "inputs = Input(shape=(256,))\n",
    "shared_mlp = Dense(32, activation='relu')(inputs)\n",
    "shared_mlp = Dropout(0.2)(shared_mlp)\n",
    "shared_mlp = Dense(32, activation='relu')(shared_mlp)\n",
    "shared_mlp = Dropout(0.2)(shared_mlp)\n",
    "# make a dictionary of models for each task\n",
    "models_mtl = dict()\n",
    "\n",
    "for x in filtered_tasks.keys():\n",
    "    personal_layer = Dense(10, activation='relu')(shared_mlp)\n",
    "    output_layer = Dense(1,activation='sigmoid')(personal_layer)\n",
    "    model = Model(inputs=inputs, outputs=output_layer)\n",
    "    model.compile(optimizer='adam', loss='binary_crossentropy')\n",
    "    models_mtl[x] = model"
   ]
  },
  {
   "cell_type": "code",
   "execution_count": null,
   "metadata": {},
   "outputs": [],
   "source": [
    "X_train_MG = dict()\n",
    "X_test_MG = dict()\n",
    "X_train_AP = dict() # X_train_AP is atom pari fingerprint, which will be used in the exception work\n",
    "X_test_AP = dict()\n",
    "y_train = dict()\n",
    "y_test = dict()\n",
    "\n",
    "for x in filtered_tasks.keys():\n",
    "    X_train_MG[x], X_test_MG[x], X_train_AP[x], X_test_AP[x], y_train[x], y_test[x] = train_test_split(filtered_tasks[x][0], \n",
    "                                                        filtered_tasks[x][3],\n",
    "                                                        filtered_tasks[x][1], \n",
    "                                                        test_size=0.2, \n",
    "                                                        random_state=42)"
   ]
  },
  {
   "cell_type": "code",
   "execution_count": null,
   "metadata": {
    "scrolled": true
   },
   "outputs": [],
   "source": [
    "%%time\n",
    "EPOCHS = 10\n",
    "from random import shuffle\n",
    "all_keys = [key  for key,_ in filtered_tasks.items()]\n",
    "print(len(all_keys))\n",
    "for i in range(EPOCHS):\n",
    "    print('Epoch',i,end='')\n",
    "    shuffle(all_keys)\n",
    "    for x in all_keys:\n",
    "        print('training on',x, end='')\n",
    "        history=models_mtl[x].fit(X_train_MG[x],y_train[x],batch_size=16,verbose=0)"
   ]
  },
  {
   "cell_type": "code",
   "execution_count": null,
   "metadata": {},
   "outputs": [],
   "source": [
    "%%time\n",
    "y_mtl=[]\n",
    "yhat_mtl=[]\n",
    "\n",
    "for x in X_test_MG.keys():\n",
    "    yhat_mlp = models_mtl[x].predict(X_test_MG[x])\n",
    "\n",
    "    y_mtl.append(y_test[x].ravel())\n",
    "    yhat_mtl.append(yhat_mlp.ravel())"
   ]
  },
  {
   "cell_type": "code",
   "execution_count": null,
   "metadata": {},
   "outputs": [],
   "source": [
    "np.save('y_mtl.npy', y_mtl)\n",
    "np.save('yhat_mtl.npy', yhat_mtl)"
   ]
  },
  {
   "cell_type": "code",
   "execution_count": 36,
   "metadata": {},
   "outputs": [],
   "source": [
    "y_mtl=np.load('y_mtl.npy')\n",
    "yhat_mtl=np.load('yhat_mtl.npy')"
   ]
  },
  {
   "cell_type": "code",
   "execution_count": 37,
   "metadata": {},
   "outputs": [],
   "source": [
    "final_y_gt=np.concatenate(y_mtl)\n",
    "final_y_hat=np.concatenate(yhat_mtl)\n",
    "round_final_y_hat=np.round(final_y_hat)"
   ]
  },
  {
   "cell_type": "code",
   "execution_count": 38,
   "metadata": {},
   "outputs": [
    {
     "name": "stdout",
     "output_type": "stream",
     "text": [
      "Acc: 0.7214439655172413\n",
      "F1: 0.7713401149933656\n"
     ]
    }
   ],
   "source": [
    "# Let's just try concatenate all to get some intuition \n",
    "from sklearn.metrics import roc_curve, auc\n",
    "from sklearn.metrics import precision_score, recall_score, f1_score,accuracy_score\n",
    "print('Acc:',accuracy_score(round_final_y_hat,final_y_gt))\n",
    "print('F1:',f1_score(round_final_y_hat,final_y_gt))"
   ]
  },
  {
   "cell_type": "markdown",
   "metadata": {},
   "source": [
    "## 6 Report the results using AUC, BEDROC, and Enrichment factor. These metrics are easily calculated using the RDKit scoring library. Discuss the results (you will need to look up each evaluation metric to interpret the result). You may be interested in page 6 of the following document: https://www.dropbox.com/s/6je37ml475vg3ep/Srinivas2018ImplictDescriptorUnderReview.pdf?dl=0 (Links to an external site.)Links to an external site. "
   ]
  },
  {
   "cell_type": "code",
   "execution_count": 4,
   "metadata": {},
   "outputs": [],
   "source": [
    "from rdkit.ML.Scoring.Scoring import*"
   ]
  },
  {
   "cell_type": "markdown",
   "metadata": {},
   "source": [
    "To evaluate our model, we will use \"per target mode\", which is discuss in \"Implicit-descriptor ligand-based virtual screening by means of\n",
    "collaborative filtering\"   "
   ]
  },
  {
   "cell_type": "code",
   "execution_count": 5,
   "metadata": {},
   "outputs": [],
   "source": [
    "def sort_each_target(y_hat,y_gt):\n",
    "    d = {'y_hat': y_hat, 'y': y_gt}\n",
    "    score = pd.DataFrame(data=d)\n",
    "    score =score.sort_values(by='y_hat', ascending=False)\n",
    "    # print(len(score))\n",
    "    Rdkit_score=[]\n",
    "    for i in range(len(score)):\n",
    "        Rdkit_score.append([score.iloc[i]['y_hat'],score.iloc[i]['y']])\n",
    "    return Rdkit_score"
   ]
  },
  {
   "cell_type": "code",
   "execution_count": 50,
   "metadata": {},
   "outputs": [
    {
     "name": "stdout",
     "output_type": "stream",
     "text": [
      "0    0.708586\n",
      "dtype: float64\n"
     ]
    },
    {
     "data": {
      "image/png": "[encoded data removed]",
      "text/plain": [
       "<Figure size 432x288 with 1 Axes>"
      ]
     },
     "metadata": {},
     "output_type": "display_data"
    }
   ],
   "source": [
    "all_auc=[]\n",
    "for y_hat,y_gt in zip(yhat_mtl,y_mtl):\n",
    "    Rdkit_score=sort_each_target(y_hat,y_gt)\n",
    "    all_auc.append(CalcAUC(Rdkit_score,1))\n",
    "auc=pd.DataFrame(all_auc)\n",
    "auc.plot.box()\n",
    "print(np.mean(auc))"
   ]
  },
  {
   "cell_type": "markdown",
   "metadata": {},
   "source": [
    "Here we got the mean AUC =0.71, which seems our classifier was not bad.<br>\n",
    "However, base on the viewpoint from \"Implicit-descriptor ligand-based virtual screening by means of\n",
    "collaborative filtering\", using AUC might cause the so-called \"early recognition problem\", which means it will mistakenly think that we get a good classification model if the model has an overall high true positive rate. Therefore, the AUG we got can not prove our model is good.<br>\n",
    "So, let's try $EF_{1\\%}$ next."
   ]
  },
  {
   "cell_type": "code",
   "execution_count": 51,
   "metadata": {},
   "outputs": [
    {
     "name": "stdout",
     "output_type": "stream",
     "text": [
      "0    1.385055\n",
      "dtype: float64\n"
     ]
    },
    {
     "data": {
      "image/png": "[encoded data removed]",
      "text/plain": [
       "<Figure size 432x288 with 1 Axes>"
      ]
     },
     "metadata": {},
     "output_type": "display_data"
    }
   ],
   "source": [
    "all_enrich=[]\n",
    "for y_hat,y_gt in zip(yhat_mtl,y_mtl):\n",
    "    Rdkit_score=sort_each_target(y_hat,y_gt)\n",
    "    all_enrich.append(CalcEnrichment(Rdkit_score,1,[0.01]))\n",
    "EF=pd.DataFrame(all_enrich)\n",
    "EF.plot.box()\n",
    "print(np.mean(EF))"
   ]
  },
  {
   "cell_type": "markdown",
   "metadata": {},
   "source": [
    "Next, we tried $EF_{1\\%}$, the result was not good as the results in the paper (5.476%).  However, the paper said when compare\n",
    "the EF values obtained for different datasets, it is not appropriate since their number of actives might differ. In addition, this criterion assigns equal weights to the actives within the threshold,which adds bias to the evaluation. Therefore, we still can not use EF values to evaluate out model easily.<br>\n",
    "Finally, let's try BEDROC."
   ]
  },
  {
   "cell_type": "code",
   "execution_count": 52,
   "metadata": {},
   "outputs": [
    {
     "name": "stdout",
     "output_type": "stream",
     "text": [
      "0    0.729231\n",
      "dtype: float64\n"
     ]
    },
    {
     "data": {
      "image/png": "[encoded data removed]",
      "text/plain": [
       "<Figure size 432x288 with 1 Axes>"
      ]
     },
     "metadata": {},
     "output_type": "display_data"
    }
   ],
   "source": [
    "all_BEDROC=[]\n",
    "for y_hat,y_gt in zip(yhat_mtl,y_mtl):\n",
    "    Rdkit_score=sort_each_target(y_hat,y_gt)\n",
    "    all_BEDROC.append(CalcBEDROC(Rdkit_score,1,20))\n",
    "BEDROC=pd.DataFrame(all_BEDROC)\n",
    "BEDROC.plot.box()\n",
    "print(np.mean(BEDROC))"
   ]
  },
  {
   "cell_type": "markdown",
   "metadata": {},
   "source": [
    "Here we use $BEDROC_{20}$ as mentioned in the paper. And we got the mean 0.73, which was event better than the results in the paper(0.72). According to the paper, this criterion seems good since it did not have noticeable default....Although our result was better than the paper, it did not prove that our model is better since we only used a small part of the dataset. However, it did show our model did good on this project."
   ]
  },
  {
   "cell_type": "markdown",
   "metadata": {},
   "source": [
    "## 7  Finally, you have free reign to perform any other analysis. A suggested analysis is to add an additional mode of input data such as another fingerprint for each ligand. "
   ]
  },
  {
   "cell_type": "markdown",
   "metadata": {},
   "source": [
    "In this part, let's just add another mlp model and use late fusion  with the previous model as the shared model. And then add one dense layer as task spcific layer."
   ]
  },
  {
   "cell_type": "code",
   "execution_count": 33,
   "metadata": {},
   "outputs": [],
   "source": [
    "inputs = Input(shape=(256,))\n",
    "shared_mlp = Dense(32, activation='relu')(inputs)\n",
    "shared_mlp = Dropout(0.2)(shared_mlp)\n",
    "shared_mlp = Dense(32, activation='relu')(shared_mlp)\n",
    "shared_mlp = Dropout(0.2)(shared_mlp)\n",
    "# make a dictionary of models for each task\n",
    "\n",
    "inputs_AP = Input(shape=(512,))\n",
    "shared_mlp_AP = Dense(32, activation='relu')(inputs_AP)\n",
    "shared_mlp_AP = Dropout(0.2)(shared_mlp_AP)\n",
    "shared_mlp_AP = Dense(32, activation='relu')(shared_mlp_AP)\n",
    "shared_mlp_AP = Dropout(0.2)(shared_mlp_AP)\n",
    "# make a dictionary of models for each task\n",
    "\n",
    "out=concatenate([shared_mlp,shared_mlp_AP])\n",
    "\n",
    "new_models_mtl = dict()\n",
    "\n",
    "for x in filtered_tasks.keys():\n",
    "    personal_layer = Dense(10, activation='relu')(out)\n",
    "    output_layer = Dense(1,activation='sigmoid')(personal_layer)\n",
    "    model = Model(inputs=[inputs,inputs_AP], outputs=output_layer)\n",
    "    model.compile(optimizer='adam', loss='binary_crossentropy')\n",
    "    new_models_mtl[x] = model"
   ]
  },
  {
   "cell_type": "code",
   "execution_count": 34,
   "metadata": {},
   "outputs": [
    {
     "name": "stdout",
     "output_type": "stream",
     "text": [
      "__________________________________________________________________________________________________\n",
      "Layer (type)                    Output Shape         Param #     Connected to                     \n",
      "==================================================================================================\n",
      "input_6 (InputLayer)            (None, 256)          0                                            \n",
      "__________________________________________________________________________________________________\n",
      "input_7 (InputLayer)            (None, 512)          0                                            \n",
      "__________________________________________________________________________________________________\n",
      "dense_215 (Dense)               (None, 32)           8224        input_6[0][0]                    \n",
      "__________________________________________________________________________________________________\n",
      "dense_217 (Dense)               (None, 32)           16416       input_7[0][0]                    \n",
      "__________________________________________________________________________________________________\n",
      "dropout_11 (Dropout)            (None, 32)           0           dense_215[0][0]                  \n",
      "__________________________________________________________________________________________________\n",
      "dropout_13 (Dropout)            (None, 32)           0           dense_217[0][0]                  \n",
      "__________________________________________________________________________________________________\n",
      "dense_216 (Dense)               (None, 32)           1056        dropout_11[0][0]                 \n",
      "__________________________________________________________________________________________________\n",
      "dense_218 (Dense)               (None, 32)           1056        dropout_13[0][0]                 \n",
      "__________________________________________________________________________________________________\n",
      "dropout_12 (Dropout)            (None, 32)           0           dense_216[0][0]                  \n",
      "__________________________________________________________________________________________________\n",
      "dropout_14 (Dropout)            (None, 32)           0           dense_218[0][0]                  \n",
      "__________________________________________________________________________________________________\n",
      "concatenate_2 (Concatenate)     (None, 64)           0           dropout_12[0][0]                 \n",
      "                                                                 dropout_14[0][0]                 \n",
      "__________________________________________________________________________________________________\n",
      "dense_337 (Dense)               (None, 10)           650         concatenate_2[0][0]              \n",
      "__________________________________________________________________________________________________\n",
      "dense_338 (Dense)               (None, 1)            11          dense_337[0][0]                  \n",
      "==================================================================================================\n",
      "Total params: 27,413\n",
      "Trainable params: 27,413\n",
      "Non-trainable params: 0\n",
      "__________________________________________________________________________________________________\n"
     ]
    },
    {
     "data": {
      "image/svg+xml": [
       "<svg height=\"556pt\" viewBox=\"0.00 0.00 344.00 556.00\" width=\"344pt\" xmlns=\"http://www.w3.org/2000/svg\" xmlns:xlink=\"http://www.w3.org/1999/xlink\">\n",
       "<g class=\"graph\" id=\"graph0\" transform=\"scale(1 1) rotate(0) translate(4 552)\">\n",
       "<title>G</title>\n",
       "<polygon fill=\"#ffffff\" points=\"-4,4 -4,-552 340,-552 340,4 -4,4\" stroke=\"transparent\"/>\n",
       "<!-- 46917963548320 -->\n",
       "<g class=\"node\" id=\"node1\">\n",
       "<title>46917963548320</title>\n",
       "<polygon fill=\"none\" points=\"0,-511.5 0,-547.5 159,-547.5 159,-511.5 0,-511.5\" stroke=\"#000000\"/>\n",
       "<text fill=\"#000000\" font-family=\"Times,serif\" font-size=\"14.00\" text-anchor=\"middle\" x=\"79.5\" y=\"-525.8\">input_6: InputLayer</text>\n",
       "</g>\n",
       "<!-- 46917963548264 -->\n",
       "<g class=\"node\" id=\"node3\">\n",
       "<title>46917963548264</title>\n",
       "<polygon fill=\"none\" points=\"11,-438.5 11,-474.5 148,-474.5 148,-438.5 11,-438.5\" stroke=\"#000000\"/>\n",
       "<text fill=\"#000000\" font-family=\"Times,serif\" font-size=\"14.00\" text-anchor=\"middle\" x=\"79.5\" y=\"-452.8\">dense_215: Dense</text>\n",
       "</g>\n",
       "<!-- 46917963548320&#45;&gt;46917963548264 -->\n",
       "<g class=\"edge\" id=\"edge1\">\n",
       "<title>46917963548320-&gt;46917963548264</title>\n",
       "<path d=\"M79.5,-511.4551C79.5,-503.3828 79.5,-493.6764 79.5,-484.6817\" fill=\"none\" stroke=\"#000000\"/>\n",
       "<polygon fill=\"#000000\" points=\"83.0001,-484.5903 79.5,-474.5904 76.0001,-484.5904 83.0001,-484.5903\" stroke=\"#000000\"/>\n",
       "</g>\n",
       "<!-- 46917963515776 -->\n",
       "<g class=\"node\" id=\"node2\">\n",
       "<title>46917963515776</title>\n",
       "<polygon fill=\"none\" points=\"177,-511.5 177,-547.5 336,-547.5 336,-511.5 177,-511.5\" stroke=\"#000000\"/>\n",
       "<text fill=\"#000000\" font-family=\"Times,serif\" font-size=\"14.00\" text-anchor=\"middle\" x=\"256.5\" y=\"-525.8\">input_7: InputLayer</text>\n",
       "</g>\n",
       "<!-- 46917963548544 -->\n",
       "<g class=\"node\" id=\"node4\">\n",
       "<title>46917963548544</title>\n",
       "<polygon fill=\"none\" points=\"188,-438.5 188,-474.5 325,-474.5 325,-438.5 188,-438.5\" stroke=\"#000000\"/>\n",
       "<text fill=\"#000000\" font-family=\"Times,serif\" font-size=\"14.00\" text-anchor=\"middle\" x=\"256.5\" y=\"-452.8\">dense_217: Dense</text>\n",
       "</g>\n",
       "<!-- 46917963515776&#45;&gt;46917963548544 -->\n",
       "<g class=\"edge\" id=\"edge2\">\n",
       "<title>46917963515776-&gt;46917963548544</title>\n",
       "<path d=\"M256.5,-511.4551C256.5,-503.3828 256.5,-493.6764 256.5,-484.6817\" fill=\"none\" stroke=\"#000000\"/>\n",
       "<polygon fill=\"#000000\" points=\"260.0001,-484.5903 256.5,-474.5904 253.0001,-484.5904 260.0001,-484.5903\" stroke=\"#000000\"/>\n",
       "</g>\n",
       "<!-- 46917963548600 -->\n",
       "<g class=\"node\" id=\"node5\">\n",
       "<title>46917963548600</title>\n",
       "<polygon fill=\"none\" points=\"0,-365.5 0,-401.5 159,-401.5 159,-365.5 0,-365.5\" stroke=\"#000000\"/>\n",
       "<text fill=\"#000000\" font-family=\"Times,serif\" font-size=\"14.00\" text-anchor=\"middle\" x=\"79.5\" y=\"-379.8\">dropout_11: Dropout</text>\n",
       "</g>\n",
       "<!-- 46917963548264&#45;&gt;46917963548600 -->\n",
       "<g class=\"edge\" id=\"edge3\">\n",
       "<title>46917963548264-&gt;46917963548600</title>\n",
       "<path d=\"M79.5,-438.4551C79.5,-430.3828 79.5,-420.6764 79.5,-411.6817\" fill=\"none\" stroke=\"#000000\"/>\n",
       "<polygon fill=\"#000000\" points=\"83.0001,-411.5903 79.5,-401.5904 76.0001,-411.5904 83.0001,-411.5903\" stroke=\"#000000\"/>\n",
       "</g>\n",
       "<!-- 46917963516784 -->\n",
       "<g class=\"node\" id=\"node6\">\n",
       "<title>46917963516784</title>\n",
       "<polygon fill=\"none\" points=\"177,-365.5 177,-401.5 336,-401.5 336,-365.5 177,-365.5\" stroke=\"#000000\"/>\n",
       "<text fill=\"#000000\" font-family=\"Times,serif\" font-size=\"14.00\" text-anchor=\"middle\" x=\"256.5\" y=\"-379.8\">dropout_13: Dropout</text>\n",
       "</g>\n",
       "<!-- 46917963548544&#45;&gt;46917963516784 -->\n",
       "<g class=\"edge\" id=\"edge4\">\n",
       "<title>46917963548544-&gt;46917963516784</title>\n",
       "<path d=\"M256.5,-438.4551C256.5,-430.3828 256.5,-420.6764 256.5,-411.6817\" fill=\"none\" stroke=\"#000000\"/>\n",
       "<polygon fill=\"#000000\" points=\"260.0001,-411.5903 256.5,-401.5904 253.0001,-411.5904 260.0001,-411.5903\" stroke=\"#000000\"/>\n",
       "</g>\n",
       "<!-- 46917963548992 -->\n",
       "<g class=\"node\" id=\"node7\">\n",
       "<title>46917963548992</title>\n",
       "<polygon fill=\"none\" points=\"11,-292.5 11,-328.5 148,-328.5 148,-292.5 11,-292.5\" stroke=\"#000000\"/>\n",
       "<text fill=\"#000000\" font-family=\"Times,serif\" font-size=\"14.00\" text-anchor=\"middle\" x=\"79.5\" y=\"-306.8\">dense_216: Dense</text>\n",
       "</g>\n",
       "<!-- 46917963548600&#45;&gt;46917963548992 -->\n",
       "<g class=\"edge\" id=\"edge5\">\n",
       "<title>46917963548600-&gt;46917963548992</title>\n",
       "<path d=\"M79.5,-365.4551C79.5,-357.3828 79.5,-347.6764 79.5,-338.6817\" fill=\"none\" stroke=\"#000000\"/>\n",
       "<polygon fill=\"#000000\" points=\"83.0001,-338.5903 79.5,-328.5904 76.0001,-338.5904 83.0001,-338.5903\" stroke=\"#000000\"/>\n",
       "</g>\n",
       "<!-- 46917963961456 -->\n",
       "<g class=\"node\" id=\"node8\">\n",
       "<title>46917963961456</title>\n",
       "<polygon fill=\"none\" points=\"188,-292.5 188,-328.5 325,-328.5 325,-292.5 188,-292.5\" stroke=\"#000000\"/>\n",
       "<text fill=\"#000000\" font-family=\"Times,serif\" font-size=\"14.00\" text-anchor=\"middle\" x=\"256.5\" y=\"-306.8\">dense_218: Dense</text>\n",
       "</g>\n",
       "<!-- 46917963516784&#45;&gt;46917963961456 -->\n",
       "<g class=\"edge\" id=\"edge6\">\n",
       "<title>46917963516784-&gt;46917963961456</title>\n",
       "<path d=\"M256.5,-365.4551C256.5,-357.3828 256.5,-347.6764 256.5,-338.6817\" fill=\"none\" stroke=\"#000000\"/>\n",
       "<polygon fill=\"#000000\" points=\"260.0001,-338.5903 256.5,-328.5904 253.0001,-338.5904 260.0001,-338.5903\" stroke=\"#000000\"/>\n",
       "</g>\n",
       "<!-- 46917963549104 -->\n",
       "<g class=\"node\" id=\"node9\">\n",
       "<title>46917963549104</title>\n",
       "<polygon fill=\"none\" points=\"0,-219.5 0,-255.5 159,-255.5 159,-219.5 0,-219.5\" stroke=\"#000000\"/>\n",
       "<text fill=\"#000000\" font-family=\"Times,serif\" font-size=\"14.00\" text-anchor=\"middle\" x=\"79.5\" y=\"-233.8\">dropout_12: Dropout</text>\n",
       "</g>\n",
       "<!-- 46917963548992&#45;&gt;46917963549104 -->\n",
       "<g class=\"edge\" id=\"edge7\">\n",
       "<title>46917963548992-&gt;46917963549104</title>\n",
       "<path d=\"M79.5,-292.4551C79.5,-284.3828 79.5,-274.6764 79.5,-265.6817\" fill=\"none\" stroke=\"#000000\"/>\n",
       "<polygon fill=\"#000000\" points=\"83.0001,-265.5903 79.5,-255.5904 76.0001,-265.5904 83.0001,-265.5903\" stroke=\"#000000\"/>\n",
       "</g>\n",
       "<!-- 46917963825104 -->\n",
       "<g class=\"node\" id=\"node10\">\n",
       "<title>46917963825104</title>\n",
       "<polygon fill=\"none\" points=\"177,-219.5 177,-255.5 336,-255.5 336,-219.5 177,-219.5\" stroke=\"#000000\"/>\n",
       "<text fill=\"#000000\" font-family=\"Times,serif\" font-size=\"14.00\" text-anchor=\"middle\" x=\"256.5\" y=\"-233.8\">dropout_14: Dropout</text>\n",
       "</g>\n",
       "<!-- 46917963961456&#45;&gt;46917963825104 -->\n",
       "<g class=\"edge\" id=\"edge8\">\n",
       "<title>46917963961456-&gt;46917963825104</title>\n",
       "<path d=\"M256.5,-292.4551C256.5,-284.3828 256.5,-274.6764 256.5,-265.6817\" fill=\"none\" stroke=\"#000000\"/>\n",
       "<polygon fill=\"#000000\" points=\"260.0001,-265.5903 256.5,-255.5904 253.0001,-265.5904 260.0001,-265.5903\" stroke=\"#000000\"/>\n",
       "</g>\n",
       "<!-- 46917964128096 -->\n",
       "<g class=\"node\" id=\"node11\">\n",
       "<title>46917964128096</title>\n",
       "<polygon fill=\"none\" points=\"61.5,-146.5 61.5,-182.5 273.5,-182.5 273.5,-146.5 61.5,-146.5\" stroke=\"#000000\"/>\n",
       "<text fill=\"#000000\" font-family=\"Times,serif\" font-size=\"14.00\" text-anchor=\"middle\" x=\"167.5\" y=\"-160.8\">concatenate_2: Concatenate</text>\n",
       "</g>\n",
       "<!-- 46917963549104&#45;&gt;46917964128096 -->\n",
       "<g class=\"edge\" id=\"edge9\">\n",
       "<title>46917963549104-&gt;46917964128096</title>\n",
       "<path d=\"M101.2528,-219.4551C112.253,-210.3299 125.7706,-199.1165 137.7203,-189.2036\" fill=\"none\" stroke=\"#000000\"/>\n",
       "<polygon fill=\"#000000\" points=\"140.2305,-191.6688 145.6924,-182.5904 135.7613,-186.2812 140.2305,-191.6688\" stroke=\"#000000\"/>\n",
       "</g>\n",
       "<!-- 46917963825104&#45;&gt;46917964128096 -->\n",
       "<g class=\"edge\" id=\"edge10\">\n",
       "<title>46917963825104-&gt;46917964128096</title>\n",
       "<path d=\"M234.5,-219.4551C223.3749,-210.3299 209.7036,-199.1165 197.6181,-189.2036\" fill=\"none\" stroke=\"#000000\"/>\n",
       "<polygon fill=\"#000000\" points=\"199.5069,-186.2261 189.5554,-182.5904 195.0676,-191.6384 199.5069,-186.2261\" stroke=\"#000000\"/>\n",
       "</g>\n",
       "<!-- 46918004470952 -->\n",
       "<g class=\"node\" id=\"node12\">\n",
       "<title>46918004470952</title>\n",
       "<polygon fill=\"none\" points=\"99,-73.5 99,-109.5 236,-109.5 236,-73.5 99,-73.5\" stroke=\"#000000\"/>\n",
       "<text fill=\"#000000\" font-family=\"Times,serif\" font-size=\"14.00\" text-anchor=\"middle\" x=\"167.5\" y=\"-87.8\">dense_337: Dense</text>\n",
       "</g>\n",
       "<!-- 46917964128096&#45;&gt;46918004470952 -->\n",
       "<g class=\"edge\" id=\"edge11\">\n",
       "<title>46917964128096-&gt;46918004470952</title>\n",
       "<path d=\"M167.5,-146.4551C167.5,-138.3828 167.5,-128.6764 167.5,-119.6817\" fill=\"none\" stroke=\"#000000\"/>\n",
       "<polygon fill=\"#000000\" points=\"171.0001,-119.5903 167.5,-109.5904 164.0001,-119.5904 171.0001,-119.5903\" stroke=\"#000000\"/>\n",
       "</g>\n",
       "<!-- 46918005017960 -->\n",
       "<g class=\"node\" id=\"node13\">\n",
       "<title>46918005017960</title>\n",
       "<polygon fill=\"none\" points=\"99,-.5 99,-36.5 236,-36.5 236,-.5 99,-.5\" stroke=\"#000000\"/>\n",
       "<text fill=\"#000000\" font-family=\"Times,serif\" font-size=\"14.00\" text-anchor=\"middle\" x=\"167.5\" y=\"-14.8\">dense_338: Dense</text>\n",
       "</g>\n",
       "<!-- 46918004470952&#45;&gt;46918005017960 -->\n",
       "<g class=\"edge\" id=\"edge12\">\n",
       "<title>46918004470952-&gt;46918005017960</title>\n",
       "<path d=\"M167.5,-73.4551C167.5,-65.3828 167.5,-55.6764 167.5,-46.6817\" fill=\"none\" stroke=\"#000000\"/>\n",
       "<polygon fill=\"#000000\" points=\"171.0001,-46.5903 167.5,-36.5904 164.0001,-46.5904 171.0001,-46.5903\" stroke=\"#000000\"/>\n",
       "</g>\n",
       "</g>\n",
       "</svg>"
      ],
      "text/plain": [
       "<IPython.core.display.SVG object>"
      ]
     },
     "execution_count": 34,
     "metadata": {},
     "output_type": "execute_result"
    }
   ],
   "source": [
    "te=new_models_mtl['CHEMBL670366']\n",
    "te.summary()\n",
    "from IPython.display import SVG\n",
    "from keras.utils import plot_model\n",
    "from keras.utils.vis_utils import model_to_dot\n",
    "SVG(model_to_dot(te).create(prog='dot', format='svg'))"
   ]
  },
  {
   "cell_type": "code",
   "execution_count": null,
   "metadata": {},
   "outputs": [],
   "source": [
    "%%time\n",
    "EPOCHS = 10\n",
    "from random import shuffle\n",
    "all_keys = [key  for key,_ in filtered_tasks.items()]\n",
    "print(len(all_keys))\n",
    "for i in range(EPOCHS):\n",
    "    print('Epoch',i,end='')\n",
    "    shuffle(all_keys)\n",
    "    for x in all_keys:\n",
    "        print('training on',x, end='')\n",
    "        history=new_models_mtl[x].fit([X_train_MG[x],X_train_AP[x]],y_train[x],batch_size=16,verbose=0)"
   ]
  },
  {
   "cell_type": "code",
   "execution_count": null,
   "metadata": {},
   "outputs": [],
   "source": [
    "%%time\n",
    "new_y_mtl=[]\n",
    "new_yhat_mtl=[]\n",
    "\n",
    "for x in X_test_MG.keys():\n",
    "    yhat_mlp = new_models_mtl[x].predict([X_test_MG[x],X_test_AP[x]])\n",
    "\n",
    "    new_y_mtl.append(y_test[x].ravel())\n",
    "    new_yhat_mtl.append(yhat_mlp.ravel())"
   ]
  },
  {
   "cell_type": "code",
   "execution_count": null,
   "metadata": {},
   "outputs": [],
   "source": [
    "np.save('new_y_mtl.npy', new_y_mtl)\n",
    "np.save('new_yhat_mtl.npy', new_yhat_mtl)"
   ]
  },
  {
   "cell_type": "code",
   "execution_count": 44,
   "metadata": {},
   "outputs": [],
   "source": [
    "new_y_mtl=np.load('new_y_mtl.npy')\n",
    "new_yhat_mtl=np.load('new_yhat_mtl.npy')"
   ]
  },
  {
   "cell_type": "code",
   "execution_count": 45,
   "metadata": {},
   "outputs": [],
   "source": [
    "new_final_y_gt=np.concatenate(new_y_mtl)\n",
    "new_final_y_hat=np.concatenate(new_yhat_mtl)\n",
    "round_new_final_y_hat=np.round(new_final_y_hat)"
   ]
  },
  {
   "cell_type": "code",
   "execution_count": 46,
   "metadata": {},
   "outputs": [
    {
     "name": "stdout",
     "output_type": "stream",
     "text": [
      "Acc: 0.728448275862069\n",
      "F1: 0.7756010685663401\n"
     ]
    }
   ],
   "source": [
    "from sklearn.metrics import roc_curve, auc\n",
    "from sklearn.metrics import precision_score, recall_score, f1_score,accuracy_score\n",
    "print('Acc:',accuracy_score(round_new_final_y_hat,new_final_y_gt))\n",
    "print('F1:',f1_score(round_new_final_y_hat,new_final_y_gt))"
   ]
  },
  {
   "cell_type": "code",
   "execution_count": 53,
   "metadata": {},
   "outputs": [
    {
     "name": "stdout",
     "output_type": "stream",
     "text": [
      "0    0.728552\n",
      "dtype: float64\n"
     ]
    },
    {
     "data": {
      "image/png": "[encoded data removed]",
      "text/plain": [
       "<Figure size 432x288 with 1 Axes>"
      ]
     },
     "metadata": {},
     "output_type": "display_data"
    }
   ],
   "source": [
    "all_auc=[]\n",
    "for y_hat,y_gt in zip(new_yhat_mtl,new_y_mtl):\n",
    "    Rdkit_score=sort_each_target(y_hat,y_gt)\n",
    "    all_auc.append(CalcAUC(Rdkit_score,1))\n",
    "auc=pd.DataFrame(all_auc)\n",
    "auc.plot.box()\n",
    "print(np.mean(auc))"
   ]
  },
  {
   "cell_type": "code",
   "execution_count": 54,
   "metadata": {},
   "outputs": [
    {
     "name": "stdout",
     "output_type": "stream",
     "text": [
      "0    1.467711\n",
      "dtype: float64\n"
     ]
    },
    {
     "data": {
      "image/png": "[encoded data removed]",
      "text/plain": [
       "<Figure size 432x288 with 1 Axes>"
      ]
     },
     "metadata": {},
     "output_type": "display_data"
    }
   ],
   "source": [
    "all_enrich=[]\n",
    "for y_hat,y_gt in zip(new_yhat_mtl,new_y_mtl):\n",
    "    Rdkit_score=sort_each_target(y_hat,y_gt)\n",
    "    all_enrich.append(CalcEnrichment(Rdkit_score,1,[0.01]))\n",
    "EF=pd.DataFrame(all_enrich)\n",
    "EF.plot.box()\n",
    "print(np.mean(EF))"
   ]
  },
  {
   "cell_type": "code",
   "execution_count": 55,
   "metadata": {},
   "outputs": [
    {
     "name": "stdout",
     "output_type": "stream",
     "text": [
      "0    0.751579\n",
      "dtype: float64\n"
     ]
    },
    {
     "data": {
      "image/png": "[encoded data removed]",
      "text/plain": [
       "<Figure size 432x288 with 1 Axes>"
      ]
     },
     "metadata": {},
     "output_type": "display_data"
    }
   ],
   "source": [
    "all_BEDROC=[]\n",
    "for y_hat,y_gt in zip(new_yhat_mtl,new_y_mtl):\n",
    "    Rdkit_score=sort_each_target(y_hat,y_gt)\n",
    "    all_BEDROC.append(CalcBEDROC(Rdkit_score,1,20))\n",
    "BEDROC=pd.DataFrame(all_BEDROC)\n",
    "BEDROC.plot.box()\n",
    "print(np.mean(BEDROC))"
   ]
  },
  {
   "cell_type": "markdown",
   "metadata": {},
   "source": [
    "Well...with the new feature, we just improved a little bit."
   ]
  },
  {
   "cell_type": "markdown",
   "metadata": {},
   "source": [
    "## you might skip the rest because it was just a failed attempt... which prove oscar razor theory"
   ]
  },
  {
   "cell_type": "markdown",
   "metadata": {},
   "source": [
    "Let's try some more sophisticated model. In this part, I would like to use multi-model first: wide and deep network from last semester fuse with 1-d convolution. Then perform multi-task. The intuition behind this is that  wide and deep network did good on both  memorization and generalizationl. The smile can be also considered as a sequence, which means we could use RNN/1d-CNN to analysis it. Therefore, I combined wide and deep network and 1-d convolution with late fusion as the shared model. And then add one dense layer as task spcific layer. Besides, I also used BatchNormliazation as an additional trick"
   ]
  },
  {
   "cell_type": "code",
   "execution_count": 35,
   "metadata": {},
   "outputs": [],
   "source": [
    "from keras import backend as K\n",
    "from keras.layers.normalization import BatchNormalization\n",
    "from keras.models import Sequential\n",
    "from keras.layers import Reshape\n",
    "from keras.layers import Dense, Dropout, Activation, Flatten\n",
    "from keras.layers import Conv2D, MaxPooling2D,Conv1D,GlobalMaxPooling1D,MaxPooling1D\n",
    "from keras.layers import Conv1D, GlobalAveragePooling1D, MaxPooling1D,AveragePooling1D"
   ]
  },
  {
   "cell_type": "code",
   "execution_count": 36,
   "metadata": {},
   "outputs": [],
   "source": [
    "def create_model_shared(dimension):\n",
    "    inputs = Input(shape=(dimension,))\n",
    "    l2_lambda=0.001\n",
    "    DP=0.5\n",
    "\n",
    "    #__________________________wide_branch_____________________________________________________    \n",
    "    wide_branch = Dense(32,kernel_initializer='he_uniform',\n",
    "#              kernel_regularizer=l2(l2_lambda)\n",
    "             )(inputs)\n",
    "    wide_branch = BatchNormalization()(wide_branch)\n",
    "    wide_branch = Activation('relu')(wide_branch)\n",
    "    wide_branch = Dropout(DP)(wide_branch) # add some dropout for regularization after conv layers\n",
    "    wide_branch= Dense(1, activation='sigmoid',kernel_initializer='glorot_uniform'\n",
    "    #              kernel_regularizer=l2(l2_lambda)\n",
    "             )(wide_branch)\n",
    "\n",
    "    #__________________________wide_branch_____________________________________________________   \n",
    "\n",
    "    #__________________________deep_branch_____________________________________________________   \n",
    "    deep_branch = Dense(16,kernel_initializer='he_uniform',\n",
    "    #          kernel_regularizer=l2(l2_lambda)\n",
    "             )(inputs)\n",
    "    deep_branch = BatchNormalization()(deep_branch)\n",
    "    deep_branch = Activation('relu')(deep_branch)\n",
    "    deep_branch = Dropout(DP)(deep_branch) # add some dropout for regularization after conv layers\n",
    "\n",
    "    deep_branch = Dense(16,kernel_initializer='he_uniform',\n",
    "    #          kernel_regularizer=l2(l2_lambda)\n",
    "             )(deep_branch)\n",
    "    deep_branch = BatchNormalization()(deep_branch)\n",
    "    deep_branch = Activation('relu')(deep_branch)\n",
    "    deep_branch = Dropout(DP)(deep_branch) # add some dropout for regularization after conv layers\n",
    "\n",
    "    deep_branch = Dense(8,kernel_initializer='glorot_uniform',\n",
    "    #          kernel_regularizer=l2(l2_lambda)\n",
    "             )(deep_branch)\n",
    "    deep_branch = BatchNormalization()(deep_branch)\n",
    "    deep_branch = Activation('sigmoid')(deep_branch)\n",
    "\n",
    "    #__________________________deep_branch_____________________________________________________   \n",
    "\n",
    "\n",
    "    wide_and_deep= concatenate([wide_branch,deep_branch])\n",
    "\n",
    "    #__________________________1d-cnn_branch_____________________________________________________   \n",
    "    cnn_input=Reshape((dimension, 1), input_shape=(dimension,))(inputs)\n",
    "    x = Conv1D(filters=8, \n",
    "                     kernel_size=5, \n",
    "                     padding='same',\n",
    "                     activation='relu', \n",
    "                     kernel_regularizer=l2(l2_lambda),\n",
    "\n",
    "              )(cnn_input)\n",
    "    x = BatchNormalization()(x)\n",
    "\n",
    "    x= MaxPooling1D(2,padding='same')(x)\n",
    "\n",
    "    x = Conv1D(filters=16, \n",
    "                     kernel_size=5, \n",
    "                     padding='same',\n",
    "                     activation='relu', \n",
    "\n",
    "                    kernel_regularizer=l2(l2_lambda)\n",
    "              )(x)\n",
    "    x = BatchNormalization()(x)\n",
    "\n",
    "\n",
    "    x = GlobalMaxPooling1D()(x)\n",
    "\n",
    "    shared_layder= concatenate([x,wide_and_deep])\n",
    "    model=Model(inputs=inputs, outputs=shared_layder)\n",
    "    return model\n"
   ]
  },
  {
   "cell_type": "code",
   "execution_count": 37,
   "metadata": {
    "scrolled": false
   },
   "outputs": [
    {
     "name": "stdout",
     "output_type": "stream",
     "text": [
      "__________________________________________________________________________________________________\n",
      "Layer (type)                    Output Shape         Param #     Connected to                     \n",
      "==================================================================================================\n",
      "input_8 (InputLayer)            (None, 256)          0                                            \n",
      "__________________________________________________________________________________________________\n",
      "input_9 (InputLayer)            (None, 512)          0                                            \n",
      "__________________________________________________________________________________________________\n",
      "dense_425 (Dense)               (None, 16)           4112        input_8[0][0]                    \n",
      "__________________________________________________________________________________________________\n",
      "dense_430 (Dense)               (None, 16)           8208        input_9[0][0]                    \n",
      "__________________________________________________________________________________________________\n",
      "batch_normalization_2 (BatchNor (None, 16)           64          dense_425[0][0]                  \n",
      "__________________________________________________________________________________________________\n",
      "batch_normalization_8 (BatchNor (None, 16)           64          dense_430[0][0]                  \n",
      "__________________________________________________________________________________________________\n",
      "activation_2 (Activation)       (None, 16)           0           batch_normalization_2[0][0]      \n",
      "__________________________________________________________________________________________________\n",
      "activation_6 (Activation)       (None, 16)           0           batch_normalization_8[0][0]      \n",
      "__________________________________________________________________________________________________\n",
      "dropout_16 (Dropout)            (None, 16)           0           activation_2[0][0]               \n",
      "__________________________________________________________________________________________________\n",
      "dropout_19 (Dropout)            (None, 16)           0           activation_6[0][0]               \n",
      "__________________________________________________________________________________________________\n",
      "dense_426 (Dense)               (None, 16)           272         dropout_16[0][0]                 \n",
      "__________________________________________________________________________________________________\n",
      "dense_431 (Dense)               (None, 16)           272         dropout_19[0][0]                 \n",
      "__________________________________________________________________________________________________\n",
      "reshape_1 (Reshape)             (None, 256, 1)       0           input_8[0][0]                    \n",
      "__________________________________________________________________________________________________\n",
      "batch_normalization_3 (BatchNor (None, 16)           64          dense_426[0][0]                  \n",
      "__________________________________________________________________________________________________\n",
      "reshape_2 (Reshape)             (None, 512, 1)       0           input_9[0][0]                    \n",
      "__________________________________________________________________________________________________\n",
      "batch_normalization_9 (BatchNor (None, 16)           64          dense_431[0][0]                  \n",
      "__________________________________________________________________________________________________\n",
      "conv1d_1 (Conv1D)               (None, 256, 8)       48          reshape_1[0][0]                  \n",
      "__________________________________________________________________________________________________\n",
      "dense_423 (Dense)               (None, 32)           8224        input_8[0][0]                    \n",
      "__________________________________________________________________________________________________\n",
      "activation_3 (Activation)       (None, 16)           0           batch_normalization_3[0][0]      \n",
      "__________________________________________________________________________________________________\n",
      "conv1d_3 (Conv1D)               (None, 512, 8)       48          reshape_2[0][0]                  \n",
      "__________________________________________________________________________________________________\n",
      "dense_428 (Dense)               (None, 32)           16416       input_9[0][0]                    \n",
      "__________________________________________________________________________________________________\n",
      "activation_7 (Activation)       (None, 16)           0           batch_normalization_9[0][0]      \n",
      "__________________________________________________________________________________________________\n",
      "batch_normalization_5 (BatchNor (None, 256, 8)       32          conv1d_1[0][0]                   \n",
      "__________________________________________________________________________________________________\n",
      "batch_normalization_1 (BatchNor (None, 32)           128         dense_423[0][0]                  \n",
      "__________________________________________________________________________________________________\n",
      "dropout_17 (Dropout)            (None, 16)           0           activation_3[0][0]               \n",
      "__________________________________________________________________________________________________\n",
      "batch_normalization_11 (BatchNo (None, 512, 8)       32          conv1d_3[0][0]                   \n",
      "__________________________________________________________________________________________________\n",
      "batch_normalization_7 (BatchNor (None, 32)           128         dense_428[0][0]                  \n",
      "__________________________________________________________________________________________________\n",
      "dropout_20 (Dropout)            (None, 16)           0           activation_7[0][0]               \n",
      "__________________________________________________________________________________________________\n",
      "max_pooling1d_1 (MaxPooling1D)  (None, 128, 8)       0           batch_normalization_5[0][0]      \n",
      "__________________________________________________________________________________________________\n",
      "activation_1 (Activation)       (None, 32)           0           batch_normalization_1[0][0]      \n",
      "__________________________________________________________________________________________________\n",
      "dense_427 (Dense)               (None, 8)            136         dropout_17[0][0]                 \n",
      "__________________________________________________________________________________________________\n",
      "max_pooling1d_2 (MaxPooling1D)  (None, 256, 8)       0           batch_normalization_11[0][0]     \n",
      "__________________________________________________________________________________________________\n",
      "activation_5 (Activation)       (None, 32)           0           batch_normalization_7[0][0]      \n",
      "__________________________________________________________________________________________________\n",
      "dense_432 (Dense)               (None, 8)            136         dropout_20[0][0]                 \n",
      "__________________________________________________________________________________________________\n",
      "conv1d_2 (Conv1D)               (None, 128, 16)      656         max_pooling1d_1[0][0]            \n",
      "__________________________________________________________________________________________________\n",
      "dropout_15 (Dropout)            (None, 32)           0           activation_1[0][0]               \n",
      "__________________________________________________________________________________________________\n",
      "batch_normalization_4 (BatchNor (None, 8)            32          dense_427[0][0]                  \n",
      "__________________________________________________________________________________________________\n",
      "conv1d_4 (Conv1D)               (None, 256, 16)      656         max_pooling1d_2[0][0]            \n",
      "__________________________________________________________________________________________________\n",
      "dropout_18 (Dropout)            (None, 32)           0           activation_5[0][0]               \n",
      "__________________________________________________________________________________________________\n",
      "batch_normalization_10 (BatchNo (None, 8)            32          dense_432[0][0]                  \n",
      "__________________________________________________________________________________________________\n",
      "batch_normalization_6 (BatchNor (None, 128, 16)      64          conv1d_2[0][0]                   \n",
      "__________________________________________________________________________________________________\n",
      "dense_424 (Dense)               (None, 1)            33          dropout_15[0][0]                 \n",
      "__________________________________________________________________________________________________\n",
      "activation_4 (Activation)       (None, 8)            0           batch_normalization_4[0][0]      \n",
      "__________________________________________________________________________________________________\n",
      "batch_normalization_12 (BatchNo (None, 256, 16)      64          conv1d_4[0][0]                   \n",
      "__________________________________________________________________________________________________\n",
      "dense_429 (Dense)               (None, 1)            33          dropout_18[0][0]                 \n",
      "__________________________________________________________________________________________________\n",
      "activation_8 (Activation)       (None, 8)            0           batch_normalization_10[0][0]     \n",
      "__________________________________________________________________________________________________\n",
      "global_max_pooling1d_1 (GlobalM (None, 16)           0           batch_normalization_6[0][0]      \n",
      "__________________________________________________________________________________________________\n",
      "concatenate_3 (Concatenate)     (None, 9)            0           dense_424[0][0]                  \n",
      "                                                                 activation_4[0][0]               \n",
      "__________________________________________________________________________________________________\n",
      "global_max_pooling1d_2 (GlobalM (None, 16)           0           batch_normalization_12[0][0]     \n",
      "__________________________________________________________________________________________________\n",
      "concatenate_5 (Concatenate)     (None, 9)            0           dense_429[0][0]                  \n",
      "                                                                 activation_8[0][0]               \n",
      "__________________________________________________________________________________________________\n",
      "concatenate_4 (Concatenate)     (None, 25)           0           global_max_pooling1d_1[0][0]     \n",
      "                                                                 concatenate_3[0][0]              \n",
      "__________________________________________________________________________________________________\n",
      "concatenate_6 (Concatenate)     (None, 25)           0           global_max_pooling1d_2[0][0]     \n",
      "                                                                 concatenate_5[0][0]              \n",
      "__________________________________________________________________________________________________\n",
      "concatenate_7 (Concatenate)     (None, 50)           0           concatenate_4[0][0]              \n",
      "                                                                 concatenate_6[0][0]              \n",
      "==================================================================================================\n",
      "Total params: 40,018\n",
      "Trainable params: 39,634\n",
      "Non-trainable params: 384\n",
      "__________________________________________________________________________________________________\n"
     ]
    },
    {
     "data": {
      "image/svg+xml": [
       "<svg height=\"1067pt\" viewBox=\"0.00 0.00 1595.00 1067.00\" width=\"1595pt\" xmlns=\"http://www.w3.org/2000/svg\" xmlns:xlink=\"http://www.w3.org/1999/xlink\">\n",
       "<g class=\"graph\" id=\"graph0\" transform=\"scale(1 1) rotate(0) translate(4 1063)\">\n",
       "<title>G</title>\n",
       "<polygon fill=\"#ffffff\" points=\"-4,4 -4,-1063 1591,-1063 1591,4 -4,4\" stroke=\"transparent\"/>\n",
       "<!-- 46918035167720 -->\n",
       "<g class=\"node\" id=\"node1\">\n",
       "<title>46918035167720</title>\n",
       "<polygon fill=\"none\" points=\"359.5,-1022.5 359.5,-1058.5 518.5,-1058.5 518.5,-1022.5 359.5,-1022.5\" stroke=\"#000000\"/>\n",
       "<text fill=\"#000000\" font-family=\"Times,serif\" font-size=\"14.00\" text-anchor=\"middle\" x=\"439\" y=\"-1036.8\">input_8: InputLayer</text>\n",
       "</g>\n",
       "<!-- 46918034900472 -->\n",
       "<g class=\"node\" id=\"node3\">\n",
       "<title>46918034900472</title>\n",
       "<polygon fill=\"none\" points=\"370.5,-949.5 370.5,-985.5 507.5,-985.5 507.5,-949.5 370.5,-949.5\" stroke=\"#000000\"/>\n",
       "<text fill=\"#000000\" font-family=\"Times,serif\" font-size=\"14.00\" text-anchor=\"middle\" x=\"439\" y=\"-963.8\">dense_425: Dense</text>\n",
       "</g>\n",
       "<!-- 46918035167720&#45;&gt;46918034900472 -->\n",
       "<g class=\"edge\" id=\"edge1\">\n",
       "<title>46918035167720-&gt;46918034900472</title>\n",
       "<path d=\"M439,-1022.4551C439,-1014.3828 439,-1004.6764 439,-995.6817\" fill=\"none\" stroke=\"#000000\"/>\n",
       "<polygon fill=\"#000000\" points=\"442.5001,-995.5903 439,-985.5904 435.5001,-995.5904 442.5001,-995.5903\" stroke=\"#000000\"/>\n",
       "</g>\n",
       "<!-- 46918039102240 -->\n",
       "<g class=\"node\" id=\"node13\">\n",
       "<title>46918039102240</title>\n",
       "<polygon fill=\"none\" points=\"569,-949.5 569,-985.5 721,-985.5 721,-949.5 569,-949.5\" stroke=\"#000000\"/>\n",
       "<text fill=\"#000000\" font-family=\"Times,serif\" font-size=\"14.00\" text-anchor=\"middle\" x=\"645\" y=\"-963.8\">reshape_1: Reshape</text>\n",
       "</g>\n",
       "<!-- 46918035167720&#45;&gt;46918039102240 -->\n",
       "<g class=\"edge\" id=\"edge11\">\n",
       "<title>46918035167720-&gt;46918039102240</title>\n",
       "<path d=\"M489.9214,-1022.4551C518.5191,-1012.3209 554.3854,-999.611 584.4204,-988.9675\" fill=\"none\" stroke=\"#000000\"/>\n",
       "<polygon fill=\"#000000\" points=\"585.6939,-992.2296 593.9505,-985.5904 583.3557,-985.6316 585.6939,-992.2296\" stroke=\"#000000\"/>\n",
       "</g>\n",
       "<!-- 46918035168448 -->\n",
       "<g class=\"node\" id=\"node18\">\n",
       "<title>46918035168448</title>\n",
       "<polygon fill=\"none\" points=\"99.5,-876.5 99.5,-912.5 236.5,-912.5 236.5,-876.5 99.5,-876.5\" stroke=\"#000000\"/>\n",
       "<text fill=\"#000000\" font-family=\"Times,serif\" font-size=\"14.00\" text-anchor=\"middle\" x=\"168\" y=\"-890.8\">dense_423: Dense</text>\n",
       "</g>\n",
       "<!-- 46918035167720&#45;&gt;46918035168448 -->\n",
       "<g class=\"edge\" id=\"edge16\">\n",
       "<title>46918035167720-&gt;46918035168448</title>\n",
       "<path d=\"M405.4983,-1022.4511C356.2344,-995.9104 264.2751,-946.3677 210.3809,-917.3325\" fill=\"none\" stroke=\"#000000\"/>\n",
       "<polygon fill=\"#000000\" points=\"211.8889,-914.1694 201.4252,-912.5077 208.5688,-920.3319 211.8889,-914.1694\" stroke=\"#000000\"/>\n",
       "</g>\n",
       "<!-- 46918035167832 -->\n",
       "<g class=\"node\" id=\"node2\">\n",
       "<title>46918035167832</title>\n",
       "<polygon fill=\"none\" points=\"1077.5,-1022.5 1077.5,-1058.5 1236.5,-1058.5 1236.5,-1022.5 1077.5,-1022.5\" stroke=\"#000000\"/>\n",
       "<text fill=\"#000000\" font-family=\"Times,serif\" font-size=\"14.00\" text-anchor=\"middle\" x=\"1157\" y=\"-1036.8\">input_9: InputLayer</text>\n",
       "</g>\n",
       "<!-- 46918043010328 -->\n",
       "<g class=\"node\" id=\"node4\">\n",
       "<title>46918043010328</title>\n",
       "<polygon fill=\"none\" points=\"1088.5,-949.5 1088.5,-985.5 1225.5,-985.5 1225.5,-949.5 1088.5,-949.5\" stroke=\"#000000\"/>\n",
       "<text fill=\"#000000\" font-family=\"Times,serif\" font-size=\"14.00\" text-anchor=\"middle\" x=\"1157\" y=\"-963.8\">dense_430: Dense</text>\n",
       "</g>\n",
       "<!-- 46918035167832&#45;&gt;46918043010328 -->\n",
       "<g class=\"edge\" id=\"edge2\">\n",
       "<title>46918035167832-&gt;46918043010328</title>\n",
       "<path d=\"M1157,-1022.4551C1157,-1014.3828 1157,-1004.6764 1157,-995.6817\" fill=\"none\" stroke=\"#000000\"/>\n",
       "<polygon fill=\"#000000\" points=\"1160.5001,-995.5903 1157,-985.5904 1153.5001,-995.5904 1160.5001,-995.5903\" stroke=\"#000000\"/>\n",
       "</g>\n",
       "<!-- 46918046310128 -->\n",
       "<g class=\"node\" id=\"node15\">\n",
       "<title>46918046310128</title>\n",
       "<polygon fill=\"none\" points=\"1341,-876.5 1341,-912.5 1493,-912.5 1493,-876.5 1341,-876.5\" stroke=\"#000000\"/>\n",
       "<text fill=\"#000000\" font-family=\"Times,serif\" font-size=\"14.00\" text-anchor=\"middle\" x=\"1417\" y=\"-890.8\">reshape_2: Reshape</text>\n",
       "</g>\n",
       "<!-- 46918035167832&#45;&gt;46918046310128 -->\n",
       "<g class=\"edge\" id=\"edge13\">\n",
       "<title>46918035167832-&gt;46918046310128</title>\n",
       "<path d=\"M1189.1419,-1022.4511C1236.3085,-995.9652 1324.2684,-946.5724 1376.0184,-917.5127\" fill=\"none\" stroke=\"#000000\"/>\n",
       "<polygon fill=\"#000000\" points=\"1377.9259,-920.4557 1384.9316,-912.5077 1374.4985,-914.3522 1377.9259,-920.4557\" stroke=\"#000000\"/>\n",
       "</g>\n",
       "<!-- 46918041801896 -->\n",
       "<g class=\"node\" id=\"node21\">\n",
       "<title>46918041801896</title>\n",
       "<polygon fill=\"none\" points=\"916.5,-949.5 916.5,-985.5 1053.5,-985.5 1053.5,-949.5 916.5,-949.5\" stroke=\"#000000\"/>\n",
       "<text fill=\"#000000\" font-family=\"Times,serif\" font-size=\"14.00\" text-anchor=\"middle\" x=\"985\" y=\"-963.8\">dense_428: Dense</text>\n",
       "</g>\n",
       "<!-- 46918035167832&#45;&gt;46918041801896 -->\n",
       "<g class=\"edge\" id=\"edge19\">\n",
       "<title>46918035167832-&gt;46918041801896</title>\n",
       "<path d=\"M1114.4831,-1022.4551C1091.0189,-1012.4964 1061.6941,-1000.0504 1036.8881,-989.5223\" fill=\"none\" stroke=\"#000000\"/>\n",
       "<polygon fill=\"#000000\" points=\"1038.1965,-986.2755 1027.6239,-985.5904 1035.4617,-992.7191 1038.1965,-986.2755\" stroke=\"#000000\"/>\n",
       "</g>\n",
       "<!-- 46918036057784 -->\n",
       "<g class=\"node\" id=\"node5\">\n",
       "<title>46918036057784</title>\n",
       "<polygon fill=\"none\" points=\"277,-876.5 277,-912.5 601,-912.5 601,-876.5 277,-876.5\" stroke=\"#000000\"/>\n",
       "<text fill=\"#000000\" font-family=\"Times,serif\" font-size=\"14.00\" text-anchor=\"middle\" x=\"439\" y=\"-890.8\">batch_normalization_2: BatchNormalization</text>\n",
       "</g>\n",
       "<!-- 46918034900472&#45;&gt;46918036057784 -->\n",
       "<g class=\"edge\" id=\"edge3\">\n",
       "<title>46918034900472-&gt;46918036057784</title>\n",
       "<path d=\"M439,-949.4551C439,-941.3828 439,-931.6764 439,-922.6817\" fill=\"none\" stroke=\"#000000\"/>\n",
       "<polygon fill=\"#000000\" points=\"442.5001,-922.5903 439,-912.5904 435.5001,-922.5904 442.5001,-922.5903\" stroke=\"#000000\"/>\n",
       "</g>\n",
       "<!-- 46918043659456 -->\n",
       "<g class=\"node\" id=\"node6\">\n",
       "<title>46918043659456</title>\n",
       "<polygon fill=\"none\" points=\"995,-876.5 995,-912.5 1319,-912.5 1319,-876.5 995,-876.5\" stroke=\"#000000\"/>\n",
       "<text fill=\"#000000\" font-family=\"Times,serif\" font-size=\"14.00\" text-anchor=\"middle\" x=\"1157\" y=\"-890.8\">batch_normalization_8: BatchNormalization</text>\n",
       "</g>\n",
       "<!-- 46918043010328&#45;&gt;46918043659456 -->\n",
       "<g class=\"edge\" id=\"edge4\">\n",
       "<title>46918043010328-&gt;46918043659456</title>\n",
       "<path d=\"M1157,-949.4551C1157,-941.3828 1157,-931.6764 1157,-922.6817\" fill=\"none\" stroke=\"#000000\"/>\n",
       "<polygon fill=\"#000000\" points=\"1160.5001,-922.5903 1157,-912.5904 1153.5001,-922.5904 1160.5001,-922.5903\" stroke=\"#000000\"/>\n",
       "</g>\n",
       "<!-- 46918036057896 -->\n",
       "<g class=\"node\" id=\"node7\">\n",
       "<title>46918036057896</title>\n",
       "<polygon fill=\"none\" points=\"342.5,-803.5 342.5,-839.5 539.5,-839.5 539.5,-803.5 342.5,-803.5\" stroke=\"#000000\"/>\n",
       "<text fill=\"#000000\" font-family=\"Times,serif\" font-size=\"14.00\" text-anchor=\"middle\" x=\"441\" y=\"-817.8\">activation_2: Activation</text>\n",
       "</g>\n",
       "<!-- 46918036057784&#45;&gt;46918036057896 -->\n",
       "<g class=\"edge\" id=\"edge5\">\n",
       "<title>46918036057784-&gt;46918036057896</title>\n",
       "<path d=\"M439.4944,-876.4551C439.7155,-868.3828 439.9815,-858.6764 440.2279,-849.6817\" fill=\"none\" stroke=\"#000000\"/>\n",
       "<polygon fill=\"#000000\" points=\"443.7291,-849.6825 440.5044,-839.5904 436.7317,-849.4907 443.7291,-849.6825\" stroke=\"#000000\"/>\n",
       "</g>\n",
       "<!-- 46918043659400 -->\n",
       "<g class=\"node\" id=\"node8\">\n",
       "<title>46918043659400</title>\n",
       "<polygon fill=\"none\" points=\"1058.5,-803.5 1058.5,-839.5 1255.5,-839.5 1255.5,-803.5 1058.5,-803.5\" stroke=\"#000000\"/>\n",
       "<text fill=\"#000000\" font-family=\"Times,serif\" font-size=\"14.00\" text-anchor=\"middle\" x=\"1157\" y=\"-817.8\">activation_6: Activation</text>\n",
       "</g>\n",
       "<!-- 46918043659456&#45;&gt;46918043659400 -->\n",
       "<g class=\"edge\" id=\"edge6\">\n",
       "<title>46918043659456-&gt;46918043659400</title>\n",
       "<path d=\"M1157,-876.4551C1157,-868.3828 1157,-858.6764 1157,-849.6817\" fill=\"none\" stroke=\"#000000\"/>\n",
       "<polygon fill=\"#000000\" points=\"1160.5001,-849.5903 1157,-839.5904 1153.5001,-849.5904 1160.5001,-849.5903\" stroke=\"#000000\"/>\n",
       "</g>\n",
       "<!-- 46918036516424 -->\n",
       "<g class=\"node\" id=\"node9\">\n",
       "<title>46918036516424</title>\n",
       "<polygon fill=\"none\" points=\"335.5,-730.5 335.5,-766.5 494.5,-766.5 494.5,-730.5 335.5,-730.5\" stroke=\"#000000\"/>\n",
       "<text fill=\"#000000\" font-family=\"Times,serif\" font-size=\"14.00\" text-anchor=\"middle\" x=\"415\" y=\"-744.8\">dropout_16: Dropout</text>\n",
       "</g>\n",
       "<!-- 46918036057896&#45;&gt;46918036516424 -->\n",
       "<g class=\"edge\" id=\"edge7\">\n",
       "<title>46918036057896-&gt;46918036516424</title>\n",
       "<path d=\"M434.573,-803.4551C431.6355,-795.2074 428.0903,-785.2536 424.8288,-776.0962\" fill=\"none\" stroke=\"#000000\"/>\n",
       "<polygon fill=\"#000000\" points=\"428.0955,-774.8364 421.4431,-766.5904 421.5013,-777.185 428.0955,-774.8364\" stroke=\"#000000\"/>\n",
       "</g>\n",
       "<!-- 46918043823632 -->\n",
       "<g class=\"node\" id=\"node10\">\n",
       "<title>46918043823632</title>\n",
       "<polygon fill=\"none\" points=\"1077.5,-730.5 1077.5,-766.5 1236.5,-766.5 1236.5,-730.5 1077.5,-730.5\" stroke=\"#000000\"/>\n",
       "<text fill=\"#000000\" font-family=\"Times,serif\" font-size=\"14.00\" text-anchor=\"middle\" x=\"1157\" y=\"-744.8\">dropout_19: Dropout</text>\n",
       "</g>\n",
       "<!-- 46918043659400&#45;&gt;46918043823632 -->\n",
       "<g class=\"edge\" id=\"edge8\">\n",
       "<title>46918043659400-&gt;46918043823632</title>\n",
       "<path d=\"M1157,-803.4551C1157,-795.3828 1157,-785.6764 1157,-776.6817\" fill=\"none\" stroke=\"#000000\"/>\n",
       "<polygon fill=\"#000000\" points=\"1160.5001,-776.5903 1157,-766.5904 1153.5001,-776.5904 1160.5001,-776.5903\" stroke=\"#000000\"/>\n",
       "</g>\n",
       "<!-- 46918036515808 -->\n",
       "<g class=\"node\" id=\"node11\">\n",
       "<title>46918036515808</title>\n",
       "<polygon fill=\"none\" points=\"339.5,-657.5 339.5,-693.5 476.5,-693.5 476.5,-657.5 339.5,-657.5\" stroke=\"#000000\"/>\n",
       "<text fill=\"#000000\" font-family=\"Times,serif\" font-size=\"14.00\" text-anchor=\"middle\" x=\"408\" y=\"-671.8\">dense_426: Dense</text>\n",
       "</g>\n",
       "<!-- 46918036516424&#45;&gt;46918036515808 -->\n",
       "<g class=\"edge\" id=\"edge9\">\n",
       "<title>46918036516424-&gt;46918036515808</title>\n",
       "<path d=\"M413.2697,-730.4551C412.4956,-722.3828 411.5649,-712.6764 410.7024,-703.6817\" fill=\"none\" stroke=\"#000000\"/>\n",
       "<polygon fill=\"#000000\" points=\"414.1733,-703.2106 409.7347,-693.5904 407.2053,-703.8788 414.1733,-703.2106\" stroke=\"#000000\"/>\n",
       "</g>\n",
       "<!-- 46918043822344 -->\n",
       "<g class=\"node\" id=\"node12\">\n",
       "<title>46918043822344</title>\n",
       "<polygon fill=\"none\" points=\"1088.5,-657.5 1088.5,-693.5 1225.5,-693.5 1225.5,-657.5 1088.5,-657.5\" stroke=\"#000000\"/>\n",
       "<text fill=\"#000000\" font-family=\"Times,serif\" font-size=\"14.00\" text-anchor=\"middle\" x=\"1157\" y=\"-671.8\">dense_431: Dense</text>\n",
       "</g>\n",
       "<!-- 46918043823632&#45;&gt;46918043822344 -->\n",
       "<g class=\"edge\" id=\"edge10\">\n",
       "<title>46918043823632-&gt;46918043822344</title>\n",
       "<path d=\"M1157,-730.4551C1157,-722.3828 1157,-712.6764 1157,-703.6817\" fill=\"none\" stroke=\"#000000\"/>\n",
       "<polygon fill=\"#000000\" points=\"1160.5001,-703.5903 1157,-693.5904 1153.5001,-703.5904 1160.5001,-703.5903\" stroke=\"#000000\"/>\n",
       "</g>\n",
       "<!-- 46918036892248 -->\n",
       "<g class=\"node\" id=\"node14\">\n",
       "<title>46918036892248</title>\n",
       "<polygon fill=\"none\" points=\"244,-584.5 244,-620.5 568,-620.5 568,-584.5 244,-584.5\" stroke=\"#000000\"/>\n",
       "<text fill=\"#000000\" font-family=\"Times,serif\" font-size=\"14.00\" text-anchor=\"middle\" x=\"406\" y=\"-598.8\">batch_normalization_3: BatchNormalization</text>\n",
       "</g>\n",
       "<!-- 46918036515808&#45;&gt;46918036892248 -->\n",
       "<g class=\"edge\" id=\"edge12\">\n",
       "<title>46918036515808-&gt;46918036892248</title>\n",
       "<path d=\"M407.5056,-657.4551C407.2845,-649.3828 407.0185,-639.6764 406.7721,-630.6817\" fill=\"none\" stroke=\"#000000\"/>\n",
       "<polygon fill=\"#000000\" points=\"410.2683,-630.4907 406.4956,-620.5904 403.2709,-630.6825 410.2683,-630.4907\" stroke=\"#000000\"/>\n",
       "</g>\n",
       "<!-- 46918044223360 -->\n",
       "<g class=\"node\" id=\"node16\">\n",
       "<title>46918044223360</title>\n",
       "<polygon fill=\"none\" points=\"995,-584.5 995,-620.5 1319,-620.5 1319,-584.5 995,-584.5\" stroke=\"#000000\"/>\n",
       "<text fill=\"#000000\" font-family=\"Times,serif\" font-size=\"14.00\" text-anchor=\"middle\" x=\"1157\" y=\"-598.8\">batch_normalization_9: BatchNormalization</text>\n",
       "</g>\n",
       "<!-- 46918043822344&#45;&gt;46918044223360 -->\n",
       "<g class=\"edge\" id=\"edge14\">\n",
       "<title>46918043822344-&gt;46918044223360</title>\n",
       "<path d=\"M1157,-657.4551C1157,-649.3828 1157,-639.6764 1157,-630.6817\" fill=\"none\" stroke=\"#000000\"/>\n",
       "<polygon fill=\"#000000\" points=\"1160.5001,-630.5903 1157,-620.5904 1153.5001,-630.5904 1160.5001,-630.5903\" stroke=\"#000000\"/>\n",
       "</g>\n",
       "<!-- 46918038982552 -->\n",
       "<g class=\"node\" id=\"node17\">\n",
       "<title>46918038982552</title>\n",
       "<polygon fill=\"none\" points=\"619.5,-876.5 619.5,-912.5 756.5,-912.5 756.5,-876.5 619.5,-876.5\" stroke=\"#000000\"/>\n",
       "<text fill=\"#000000\" font-family=\"Times,serif\" font-size=\"14.00\" text-anchor=\"middle\" x=\"688\" y=\"-890.8\">conv1d_1: Conv1D</text>\n",
       "</g>\n",
       "<!-- 46918039102240&#45;&gt;46918038982552 -->\n",
       "<g class=\"edge\" id=\"edge15\">\n",
       "<title>46918039102240-&gt;46918038982552</title>\n",
       "<path d=\"M655.6292,-949.4551C660.6425,-940.9441 666.7259,-930.6165 672.2597,-921.2219\" fill=\"none\" stroke=\"#000000\"/>\n",
       "<polygon fill=\"#000000\" points=\"675.2843,-922.9831 677.344,-912.5904 669.2529,-919.4303 675.2843,-922.9831\" stroke=\"#000000\"/>\n",
       "</g>\n",
       "<!-- 46918036893312 -->\n",
       "<g class=\"node\" id=\"node19\">\n",
       "<title>46918036893312</title>\n",
       "<polygon fill=\"none\" points=\"304.5,-511.5 304.5,-547.5 501.5,-547.5 501.5,-511.5 304.5,-511.5\" stroke=\"#000000\"/>\n",
       "<text fill=\"#000000\" font-family=\"Times,serif\" font-size=\"14.00\" text-anchor=\"middle\" x=\"403\" y=\"-525.8\">activation_3: Activation</text>\n",
       "</g>\n",
       "<!-- 46918036892248&#45;&gt;46918036893312 -->\n",
       "<g class=\"edge\" id=\"edge17\">\n",
       "<title>46918036892248-&gt;46918036893312</title>\n",
       "<path d=\"M405.2584,-584.4551C404.9267,-576.3828 404.5278,-566.6764 404.1582,-557.6817\" fill=\"none\" stroke=\"#000000\"/>\n",
       "<polygon fill=\"#000000\" points=\"407.6512,-557.4382 403.7434,-547.5904 400.6571,-557.7257 407.6512,-557.4382\" stroke=\"#000000\"/>\n",
       "</g>\n",
       "<!-- 46918046310296 -->\n",
       "<g class=\"node\" id=\"node20\">\n",
       "<title>46918046310296</title>\n",
       "<polygon fill=\"none\" points=\"1350.5,-803.5 1350.5,-839.5 1487.5,-839.5 1487.5,-803.5 1350.5,-803.5\" stroke=\"#000000\"/>\n",
       "<text fill=\"#000000\" font-family=\"Times,serif\" font-size=\"14.00\" text-anchor=\"middle\" x=\"1419\" y=\"-817.8\">conv1d_3: Conv1D</text>\n",
       "</g>\n",
       "<!-- 46918046310128&#45;&gt;46918046310296 -->\n",
       "<g class=\"edge\" id=\"edge18\">\n",
       "<title>46918046310128-&gt;46918046310296</title>\n",
       "<path d=\"M1417.4944,-876.4551C1417.7155,-868.3828 1417.9815,-858.6764 1418.2279,-849.6817\" fill=\"none\" stroke=\"#000000\"/>\n",
       "<polygon fill=\"#000000\" points=\"1421.7291,-849.6825 1418.5044,-839.5904 1414.7317,-849.4907 1421.7291,-849.6825\" stroke=\"#000000\"/>\n",
       "</g>\n",
       "<!-- 46918044224704 -->\n",
       "<g class=\"node\" id=\"node22\">\n",
       "<title>46918044224704</title>\n",
       "<polygon fill=\"none\" points=\"1039.5,-511.5 1039.5,-547.5 1236.5,-547.5 1236.5,-511.5 1039.5,-511.5\" stroke=\"#000000\"/>\n",
       "<text fill=\"#000000\" font-family=\"Times,serif\" font-size=\"14.00\" text-anchor=\"middle\" x=\"1138\" y=\"-525.8\">activation_7: Activation</text>\n",
       "</g>\n",
       "<!-- 46918044223360&#45;&gt;46918044224704 -->\n",
       "<g class=\"edge\" id=\"edge20\">\n",
       "<title>46918044223360-&gt;46918044224704</title>\n",
       "<path d=\"M1152.3034,-584.4551C1150.1795,-576.2951 1147.6211,-566.4652 1145.2587,-557.3887\" fill=\"none\" stroke=\"#000000\"/>\n",
       "<polygon fill=\"#000000\" points=\"1148.6145,-556.3863 1142.7084,-547.5904 1141.8402,-558.1496 1148.6145,-556.3863\" stroke=\"#000000\"/>\n",
       "</g>\n",
       "<!-- 46918039365392 -->\n",
       "<g class=\"node\" id=\"node23\">\n",
       "<title>46918039365392</title>\n",
       "<polygon fill=\"none\" points=\"526,-730.5 526,-766.5 850,-766.5 850,-730.5 526,-730.5\" stroke=\"#000000\"/>\n",
       "<text fill=\"#000000\" font-family=\"Times,serif\" font-size=\"14.00\" text-anchor=\"middle\" x=\"688\" y=\"-744.8\">batch_normalization_5: BatchNormalization</text>\n",
       "</g>\n",
       "<!-- 46918038982552&#45;&gt;46918039365392 -->\n",
       "<g class=\"edge\" id=\"edge21\">\n",
       "<title>46918038982552-&gt;46918039365392</title>\n",
       "<path d=\"M688,-876.3042C688,-851.3868 688,-806.3938 688,-776.9877\" fill=\"none\" stroke=\"#000000\"/>\n",
       "<polygon fill=\"#000000\" points=\"691.5001,-776.9251 688,-766.9251 684.5001,-776.9251 691.5001,-776.9251\" stroke=\"#000000\"/>\n",
       "</g>\n",
       "<!-- 46918035167552 -->\n",
       "<g class=\"node\" id=\"node24\">\n",
       "<title>46918035167552</title>\n",
       "<polygon fill=\"none\" points=\"0,-803.5 0,-839.5 324,-839.5 324,-803.5 0,-803.5\" stroke=\"#000000\"/>\n",
       "<text fill=\"#000000\" font-family=\"Times,serif\" font-size=\"14.00\" text-anchor=\"middle\" x=\"162\" y=\"-817.8\">batch_normalization_1: BatchNormalization</text>\n",
       "</g>\n",
       "<!-- 46918035168448&#45;&gt;46918035167552 -->\n",
       "<g class=\"edge\" id=\"edge22\">\n",
       "<title>46918035168448-&gt;46918035167552</title>\n",
       "<path d=\"M166.5169,-876.4551C165.8534,-868.3828 165.0556,-858.6764 164.3163,-849.6817\" fill=\"none\" stroke=\"#000000\"/>\n",
       "<polygon fill=\"#000000\" points=\"167.7944,-849.27 163.4869,-839.5904 160.8179,-849.8435 167.7944,-849.27\" stroke=\"#000000\"/>\n",
       "</g>\n",
       "<!-- 46918037733160 -->\n",
       "<g class=\"node\" id=\"node25\">\n",
       "<title>46918037733160</title>\n",
       "<polygon fill=\"none\" points=\"302.5,-438.5 302.5,-474.5 461.5,-474.5 461.5,-438.5 302.5,-438.5\" stroke=\"#000000\"/>\n",
       "<text fill=\"#000000\" font-family=\"Times,serif\" font-size=\"14.00\" text-anchor=\"middle\" x=\"382\" y=\"-452.8\">dropout_17: Dropout</text>\n",
       "</g>\n",
       "<!-- 46918036893312&#45;&gt;46918037733160 -->\n",
       "<g class=\"edge\" id=\"edge23\">\n",
       "<title>46918036893312-&gt;46918037733160</title>\n",
       "<path d=\"M397.809,-511.4551C395.4616,-503.2951 392.6338,-493.4652 390.0228,-484.3887\" fill=\"none\" stroke=\"#000000\"/>\n",
       "<polygon fill=\"#000000\" points=\"393.3323,-483.233 387.2041,-474.5904 386.6052,-485.1683 393.3323,-483.233\" stroke=\"#000000\"/>\n",
       "</g>\n",
       "<!-- 46918046717264 -->\n",
       "<g class=\"node\" id=\"node26\">\n",
       "<title>46918046717264</title>\n",
       "<polygon fill=\"none\" points=\"1255,-730.5 1255,-766.5 1587,-766.5 1587,-730.5 1255,-730.5\" stroke=\"#000000\"/>\n",
       "<text fill=\"#000000\" font-family=\"Times,serif\" font-size=\"14.00\" text-anchor=\"middle\" x=\"1421\" y=\"-744.8\">batch_normalization_11: BatchNormalization</text>\n",
       "</g>\n",
       "<!-- 46918046310296&#45;&gt;46918046717264 -->\n",
       "<g class=\"edge\" id=\"edge24\">\n",
       "<title>46918046310296-&gt;46918046717264</title>\n",
       "<path d=\"M1419.4944,-803.4551C1419.7155,-795.3828 1419.9815,-785.6764 1420.2279,-776.6817\" fill=\"none\" stroke=\"#000000\"/>\n",
       "<polygon fill=\"#000000\" points=\"1423.7291,-776.6825 1420.5044,-766.5904 1416.7317,-776.4907 1423.7291,-776.6825\" stroke=\"#000000\"/>\n",
       "</g>\n",
       "<!-- 46918042212784 -->\n",
       "<g class=\"node\" id=\"node27\">\n",
       "<title>46918042212784</title>\n",
       "<polygon fill=\"none\" points=\"716,-803.5 716,-839.5 1040,-839.5 1040,-803.5 716,-803.5\" stroke=\"#000000\"/>\n",
       "<text fill=\"#000000\" font-family=\"Times,serif\" font-size=\"14.00\" text-anchor=\"middle\" x=\"878\" y=\"-817.8\">batch_normalization_7: BatchNormalization</text>\n",
       "</g>\n",
       "<!-- 46918041801896&#45;&gt;46918042212784 -->\n",
       "<g class=\"edge\" id=\"edge25\">\n",
       "<title>46918041801896-&gt;46918042212784</title>\n",
       "<path d=\"M971.6647,-949.3042C953.0028,-923.8403 918.9757,-877.4108 897.4769,-848.0759\" fill=\"none\" stroke=\"#000000\"/>\n",
       "<polygon fill=\"#000000\" points=\"900.2377,-845.922 891.5033,-839.9251 894.5916,-850.0599 900.2377,-845.922\" stroke=\"#000000\"/>\n",
       "</g>\n",
       "<!-- 46918045052152 -->\n",
       "<g class=\"node\" id=\"node28\">\n",
       "<title>46918045052152</title>\n",
       "<polygon fill=\"none\" points=\"1056.5,-438.5 1056.5,-474.5 1215.5,-474.5 1215.5,-438.5 1056.5,-438.5\" stroke=\"#000000\"/>\n",
       "<text fill=\"#000000\" font-family=\"Times,serif\" font-size=\"14.00\" text-anchor=\"middle\" x=\"1136\" y=\"-452.8\">dropout_20: Dropout</text>\n",
       "</g>\n",
       "<!-- 46918044224704&#45;&gt;46918045052152 -->\n",
       "<g class=\"edge\" id=\"edge26\">\n",
       "<title>46918044224704-&gt;46918045052152</title>\n",
       "<path d=\"M1137.5056,-511.4551C1137.2845,-503.3828 1137.0185,-493.6764 1136.7721,-484.6817\" fill=\"none\" stroke=\"#000000\"/>\n",
       "<polygon fill=\"#000000\" points=\"1140.2683,-484.4907 1136.4956,-474.5904 1133.2709,-484.6825 1140.2683,-484.4907\" stroke=\"#000000\"/>\n",
       "</g>\n",
       "<!-- 46918039875088 -->\n",
       "<g class=\"node\" id=\"node29\">\n",
       "<title>46918039875088</title>\n",
       "<polygon fill=\"none\" points=\"572,-657.5 572,-693.5 806,-693.5 806,-657.5 572,-657.5\" stroke=\"#000000\"/>\n",
       "<text fill=\"#000000\" font-family=\"Times,serif\" font-size=\"14.00\" text-anchor=\"middle\" x=\"689\" y=\"-671.8\">max_pooling1d_1: MaxPooling1D</text>\n",
       "</g>\n",
       "<!-- 46918039365392&#45;&gt;46918039875088 -->\n",
       "<g class=\"edge\" id=\"edge27\">\n",
       "<title>46918039365392-&gt;46918039875088</title>\n",
       "<path d=\"M688.2472,-730.4551C688.3578,-722.3828 688.4907,-712.6764 688.6139,-703.6817\" fill=\"none\" stroke=\"#000000\"/>\n",
       "<polygon fill=\"#000000\" points=\"692.1148,-703.6374 688.7522,-693.5904 685.1154,-703.5414 692.1148,-703.6374\" stroke=\"#000000\"/>\n",
       "</g>\n",
       "<!-- 46918034931160 -->\n",
       "<g class=\"node\" id=\"node30\">\n",
       "<title>46918034931160</title>\n",
       "<polygon fill=\"none\" points=\"72.5,-730.5 72.5,-766.5 269.5,-766.5 269.5,-730.5 72.5,-730.5\" stroke=\"#000000\"/>\n",
       "<text fill=\"#000000\" font-family=\"Times,serif\" font-size=\"14.00\" text-anchor=\"middle\" x=\"171\" y=\"-744.8\">activation_1: Activation</text>\n",
       "</g>\n",
       "<!-- 46918035167552&#45;&gt;46918034931160 -->\n",
       "<g class=\"edge\" id=\"edge28\">\n",
       "<title>46918035167552-&gt;46918034931160</title>\n",
       "<path d=\"M164.2247,-803.4551C165.2199,-795.3828 166.4166,-785.6764 167.5255,-776.6817\" fill=\"none\" stroke=\"#000000\"/>\n",
       "<polygon fill=\"#000000\" points=\"171.0197,-776.9435 168.7697,-766.5904 164.0723,-776.0869 171.0197,-776.9435\" stroke=\"#000000\"/>\n",
       "</g>\n",
       "<!-- 46918037730864 -->\n",
       "<g class=\"node\" id=\"node31\">\n",
       "<title>46918037730864</title>\n",
       "<polygon fill=\"none\" points=\"305.5,-365.5 305.5,-401.5 442.5,-401.5 442.5,-365.5 305.5,-365.5\" stroke=\"#000000\"/>\n",
       "<text fill=\"#000000\" font-family=\"Times,serif\" font-size=\"14.00\" text-anchor=\"middle\" x=\"374\" y=\"-379.8\">dense_427: Dense</text>\n",
       "</g>\n",
       "<!-- 46918037733160&#45;&gt;46918037730864 -->\n",
       "<g class=\"edge\" id=\"edge29\">\n",
       "<title>46918037733160-&gt;46918037730864</title>\n",
       "<path d=\"M380.0225,-438.4551C379.1378,-430.3828 378.0741,-420.6764 377.0884,-411.6817\" fill=\"none\" stroke=\"#000000\"/>\n",
       "<polygon fill=\"#000000\" points=\"380.5511,-411.1495 375.9825,-401.5904 373.5928,-411.9122 380.5511,-411.1495\" stroke=\"#000000\"/>\n",
       "</g>\n",
       "<!-- 46918047193800 -->\n",
       "<g class=\"node\" id=\"node32\">\n",
       "<title>46918047193800</title>\n",
       "<polygon fill=\"none\" points=\"1304,-657.5 1304,-693.5 1538,-693.5 1538,-657.5 1304,-657.5\" stroke=\"#000000\"/>\n",
       "<text fill=\"#000000\" font-family=\"Times,serif\" font-size=\"14.00\" text-anchor=\"middle\" x=\"1421\" y=\"-671.8\">max_pooling1d_2: MaxPooling1D</text>\n",
       "</g>\n",
       "<!-- 46918046717264&#45;&gt;46918047193800 -->\n",
       "<g class=\"edge\" id=\"edge30\">\n",
       "<title>46918046717264-&gt;46918047193800</title>\n",
       "<path d=\"M1421,-730.4551C1421,-722.3828 1421,-712.6764 1421,-703.6817\" fill=\"none\" stroke=\"#000000\"/>\n",
       "<polygon fill=\"#000000\" points=\"1424.5001,-703.5903 1421,-693.5904 1417.5001,-703.5904 1424.5001,-703.5903\" stroke=\"#000000\"/>\n",
       "</g>\n",
       "<!-- 46918042210656 -->\n",
       "<g class=\"node\" id=\"node33\">\n",
       "<title>46918042210656</title>\n",
       "<polygon fill=\"none\" points=\"779.5,-584.5 779.5,-620.5 976.5,-620.5 976.5,-584.5 779.5,-584.5\" stroke=\"#000000\"/>\n",
       "<text fill=\"#000000\" font-family=\"Times,serif\" font-size=\"14.00\" text-anchor=\"middle\" x=\"878\" y=\"-598.8\">activation_5: Activation</text>\n",
       "</g>\n",
       "<!-- 46918042212784&#45;&gt;46918042210656 -->\n",
       "<g class=\"edge\" id=\"edge31\">\n",
       "<title>46918042212784-&gt;46918042210656</title>\n",
       "<path d=\"M878,-803.2049C878,-764.9458 878,-676.2623 878,-630.6742\" fill=\"none\" stroke=\"#000000\"/>\n",
       "<polygon fill=\"#000000\" points=\"881.5001,-630.589 878,-620.589 874.5001,-630.5891 881.5001,-630.589\" stroke=\"#000000\"/>\n",
       "</g>\n",
       "<!-- 46918045050080 -->\n",
       "<g class=\"node\" id=\"node34\">\n",
       "<title>46918045050080</title>\n",
       "<polygon fill=\"none\" points=\"1067.5,-365.5 1067.5,-401.5 1204.5,-401.5 1204.5,-365.5 1067.5,-365.5\" stroke=\"#000000\"/>\n",
       "<text fill=\"#000000\" font-family=\"Times,serif\" font-size=\"14.00\" text-anchor=\"middle\" x=\"1136\" y=\"-379.8\">dense_432: Dense</text>\n",
       "</g>\n",
       "<!-- 46918045052152&#45;&gt;46918045050080 -->\n",
       "<g class=\"edge\" id=\"edge32\">\n",
       "<title>46918045052152-&gt;46918045050080</title>\n",
       "<path d=\"M1136,-438.4551C1136,-430.3828 1136,-420.6764 1136,-411.6817\" fill=\"none\" stroke=\"#000000\"/>\n",
       "<polygon fill=\"#000000\" points=\"1139.5001,-411.5903 1136,-401.5904 1132.5001,-411.5904 1139.5001,-411.5903\" stroke=\"#000000\"/>\n",
       "</g>\n",
       "<!-- 46918040183920 -->\n",
       "<g class=\"node\" id=\"node35\">\n",
       "<title>46918040183920</title>\n",
       "<polygon fill=\"none\" points=\"622.5,-584.5 622.5,-620.5 759.5,-620.5 759.5,-584.5 622.5,-584.5\" stroke=\"#000000\"/>\n",
       "<text fill=\"#000000\" font-family=\"Times,serif\" font-size=\"14.00\" text-anchor=\"middle\" x=\"691\" y=\"-598.8\">conv1d_2: Conv1D</text>\n",
       "</g>\n",
       "<!-- 46918039875088&#45;&gt;46918040183920 -->\n",
       "<g class=\"edge\" id=\"edge33\">\n",
       "<title>46918039875088-&gt;46918040183920</title>\n",
       "<path d=\"M689.4944,-657.4551C689.7155,-649.3828 689.9815,-639.6764 690.2279,-630.6817\" fill=\"none\" stroke=\"#000000\"/>\n",
       "<polygon fill=\"#000000\" points=\"693.7291,-630.6825 690.5044,-620.5904 686.7317,-630.4907 693.7291,-630.6825\" stroke=\"#000000\"/>\n",
       "</g>\n",
       "<!-- 46918034931552 -->\n",
       "<g class=\"node\" id=\"node36\">\n",
       "<title>46918034931552</title>\n",
       "<polygon fill=\"none\" points=\"97.5,-365.5 97.5,-401.5 256.5,-401.5 256.5,-365.5 97.5,-365.5\" stroke=\"#000000\"/>\n",
       "<text fill=\"#000000\" font-family=\"Times,serif\" font-size=\"14.00\" text-anchor=\"middle\" x=\"177\" y=\"-379.8\">dropout_15: Dropout</text>\n",
       "</g>\n",
       "<!-- 46918034931160&#45;&gt;46918034931552 -->\n",
       "<g class=\"edge\" id=\"edge34\">\n",
       "<title>46918034931160-&gt;46918034931552</title>\n",
       "<path d=\"M171.8288,-730.0665C173.0004,-702.3764 175,-648.3957 175,-602.5 175,-602.5 175,-602.5 175,-529.5 175,-488.8149 175.7861,-441.7584 176.3726,-412.3108\" fill=\"none\" stroke=\"#000000\"/>\n",
       "<polygon fill=\"#000000\" points=\"179.8795,-412.0066 176.5856,-401.9368 172.881,-411.8629 179.8795,-412.0066\" stroke=\"#000000\"/>\n",
       "</g>\n",
       "<!-- 46918038156176 -->\n",
       "<g class=\"node\" id=\"node37\">\n",
       "<title>46918038156176</title>\n",
       "<polygon fill=\"none\" points=\"206,-292.5 206,-328.5 530,-328.5 530,-292.5 206,-292.5\" stroke=\"#000000\"/>\n",
       "<text fill=\"#000000\" font-family=\"Times,serif\" font-size=\"14.00\" text-anchor=\"middle\" x=\"368\" y=\"-306.8\">batch_normalization_4: BatchNormalization</text>\n",
       "</g>\n",
       "<!-- 46918037730864&#45;&gt;46918038156176 -->\n",
       "<g class=\"edge\" id=\"edge35\">\n",
       "<title>46918037730864-&gt;46918038156176</title>\n",
       "<path d=\"M372.5169,-365.4551C371.8534,-357.3828 371.0556,-347.6764 370.3163,-338.6817\" fill=\"none\" stroke=\"#000000\"/>\n",
       "<polygon fill=\"#000000\" points=\"373.7944,-338.27 369.4869,-328.5904 366.8179,-338.8435 373.7944,-338.27\" stroke=\"#000000\"/>\n",
       "</g>\n",
       "<!-- 46918047506896 -->\n",
       "<g class=\"node\" id=\"node38\">\n",
       "<title>46918047506896</title>\n",
       "<polygon fill=\"none\" points=\"1352.5,-584.5 1352.5,-620.5 1489.5,-620.5 1489.5,-584.5 1352.5,-584.5\" stroke=\"#000000\"/>\n",
       "<text fill=\"#000000\" font-family=\"Times,serif\" font-size=\"14.00\" text-anchor=\"middle\" x=\"1421\" y=\"-598.8\">conv1d_4: Conv1D</text>\n",
       "</g>\n",
       "<!-- 46918047193800&#45;&gt;46918047506896 -->\n",
       "<g class=\"edge\" id=\"edge36\">\n",
       "<title>46918047193800-&gt;46918047506896</title>\n",
       "<path d=\"M1421,-657.4551C1421,-649.3828 1421,-639.6764 1421,-630.6817\" fill=\"none\" stroke=\"#000000\"/>\n",
       "<polygon fill=\"#000000\" points=\"1424.5001,-630.5903 1421,-620.5904 1417.5001,-630.5904 1424.5001,-630.5903\" stroke=\"#000000\"/>\n",
       "</g>\n",
       "<!-- 46918042423248 -->\n",
       "<g class=\"node\" id=\"node39\">\n",
       "<title>46918042423248</title>\n",
       "<polygon fill=\"none\" points=\"839.5,-438.5 839.5,-474.5 998.5,-474.5 998.5,-438.5 839.5,-438.5\" stroke=\"#000000\"/>\n",
       "<text fill=\"#000000\" font-family=\"Times,serif\" font-size=\"14.00\" text-anchor=\"middle\" x=\"919\" y=\"-452.8\">dropout_18: Dropout</text>\n",
       "</g>\n",
       "<!-- 46918042210656&#45;&gt;46918042423248 -->\n",
       "<g class=\"edge\" id=\"edge37\">\n",
       "<title>46918042210656-&gt;46918042423248</title>\n",
       "<path d=\"M883.1098,-584.3042C890.1378,-559.2775 902.8531,-513.9988 911.1084,-484.6017\" fill=\"none\" stroke=\"#000000\"/>\n",
       "<polygon fill=\"#000000\" points=\"914.4918,-485.499 913.8258,-474.9251 907.7525,-483.6064 914.4918,-485.499\" stroke=\"#000000\"/>\n",
       "</g>\n",
       "<!-- 46918045464280 -->\n",
       "<g class=\"node\" id=\"node40\">\n",
       "<title>46918045464280</title>\n",
       "<polygon fill=\"none\" points=\"970,-292.5 970,-328.5 1302,-328.5 1302,-292.5 970,-292.5\" stroke=\"#000000\"/>\n",
       "<text fill=\"#000000\" font-family=\"Times,serif\" font-size=\"14.00\" text-anchor=\"middle\" x=\"1136\" y=\"-306.8\">batch_normalization_10: BatchNormalization</text>\n",
       "</g>\n",
       "<!-- 46918045050080&#45;&gt;46918045464280 -->\n",
       "<g class=\"edge\" id=\"edge38\">\n",
       "<title>46918045050080-&gt;46918045464280</title>\n",
       "<path d=\"M1136,-365.4551C1136,-357.3828 1136,-347.6764 1136,-338.6817\" fill=\"none\" stroke=\"#000000\"/>\n",
       "<polygon fill=\"#000000\" points=\"1139.5001,-338.5903 1136,-328.5904 1132.5001,-338.5904 1139.5001,-338.5903\" stroke=\"#000000\"/>\n",
       "</g>\n",
       "<!-- 46918041059168 -->\n",
       "<g class=\"node\" id=\"node41\">\n",
       "<title>46918041059168</title>\n",
       "<polygon fill=\"none\" points=\"530,-511.5 530,-547.5 854,-547.5 854,-511.5 530,-511.5\" stroke=\"#000000\"/>\n",
       "<text fill=\"#000000\" font-family=\"Times,serif\" font-size=\"14.00\" text-anchor=\"middle\" x=\"692\" y=\"-525.8\">batch_normalization_6: BatchNormalization</text>\n",
       "</g>\n",
       "<!-- 46918040183920&#45;&gt;46918041059168 -->\n",
       "<g class=\"edge\" id=\"edge39\">\n",
       "<title>46918040183920-&gt;46918041059168</title>\n",
       "<path d=\"M691.2472,-584.4551C691.3578,-576.3828 691.4907,-566.6764 691.6139,-557.6817\" fill=\"none\" stroke=\"#000000\"/>\n",
       "<polygon fill=\"#000000\" points=\"695.1148,-557.6374 691.7522,-547.5904 688.1154,-557.5414 695.1148,-557.6374\" stroke=\"#000000\"/>\n",
       "</g>\n",
       "<!-- 46918034930768 -->\n",
       "<g class=\"node\" id=\"node42\">\n",
       "<title>46918034930768</title>\n",
       "<polygon fill=\"none\" points=\"112.5,-219.5 112.5,-255.5 249.5,-255.5 249.5,-219.5 112.5,-219.5\" stroke=\"#000000\"/>\n",
       "<text fill=\"#000000\" font-family=\"Times,serif\" font-size=\"14.00\" text-anchor=\"middle\" x=\"181\" y=\"-233.8\">dense_424: Dense</text>\n",
       "</g>\n",
       "<!-- 46918034931552&#45;&gt;46918034930768 -->\n",
       "<g class=\"edge\" id=\"edge40\">\n",
       "<title>46918034931552-&gt;46918034930768</title>\n",
       "<path d=\"M177.4985,-365.3042C178.1812,-340.3868 179.4139,-295.3938 180.2195,-265.9877\" fill=\"none\" stroke=\"#000000\"/>\n",
       "<polygon fill=\"#000000\" points=\"183.7199,-266.0172 180.4952,-255.9251 176.7225,-265.8255 183.7199,-266.0172\" stroke=\"#000000\"/>\n",
       "</g>\n",
       "<!-- 46918038157520 -->\n",
       "<g class=\"node\" id=\"node43\">\n",
       "<title>46918038157520</title>\n",
       "<polygon fill=\"none\" points=\"269.5,-219.5 269.5,-255.5 466.5,-255.5 466.5,-219.5 269.5,-219.5\" stroke=\"#000000\"/>\n",
       "<text fill=\"#000000\" font-family=\"Times,serif\" font-size=\"14.00\" text-anchor=\"middle\" x=\"368\" y=\"-233.8\">activation_4: Activation</text>\n",
       "</g>\n",
       "<!-- 46918038156176&#45;&gt;46918038157520 -->\n",
       "<g class=\"edge\" id=\"edge41\">\n",
       "<title>46918038156176-&gt;46918038157520</title>\n",
       "<path d=\"M368,-292.4551C368,-284.3828 368,-274.6764 368,-265.6817\" fill=\"none\" stroke=\"#000000\"/>\n",
       "<polygon fill=\"#000000\" points=\"371.5001,-265.5903 368,-255.5904 364.5001,-265.5904 371.5001,-265.5903\" stroke=\"#000000\"/>\n",
       "</g>\n",
       "<!-- 46918047935232 -->\n",
       "<g class=\"node\" id=\"node44\">\n",
       "<title>46918047935232</title>\n",
       "<polygon fill=\"none\" points=\"1255,-511.5 1255,-547.5 1587,-547.5 1587,-511.5 1255,-511.5\" stroke=\"#000000\"/>\n",
       "<text fill=\"#000000\" font-family=\"Times,serif\" font-size=\"14.00\" text-anchor=\"middle\" x=\"1421\" y=\"-525.8\">batch_normalization_12: BatchNormalization</text>\n",
       "</g>\n",
       "<!-- 46918047506896&#45;&gt;46918047935232 -->\n",
       "<g class=\"edge\" id=\"edge42\">\n",
       "<title>46918047506896-&gt;46918047935232</title>\n",
       "<path d=\"M1421,-584.4551C1421,-576.3828 1421,-566.6764 1421,-557.6817\" fill=\"none\" stroke=\"#000000\"/>\n",
       "<polygon fill=\"#000000\" points=\"1424.5001,-557.5903 1421,-547.5904 1417.5001,-557.5904 1424.5001,-557.5903\" stroke=\"#000000\"/>\n",
       "</g>\n",
       "<!-- 46918042422352 -->\n",
       "<g class=\"node\" id=\"node45\">\n",
       "<title>46918042422352</title>\n",
       "<polygon fill=\"none\" points=\"857.5,-365.5 857.5,-401.5 994.5,-401.5 994.5,-365.5 857.5,-365.5\" stroke=\"#000000\"/>\n",
       "<text fill=\"#000000\" font-family=\"Times,serif\" font-size=\"14.00\" text-anchor=\"middle\" x=\"926\" y=\"-379.8\">dense_429: Dense</text>\n",
       "</g>\n",
       "<!-- 46918042423248&#45;&gt;46918042422352 -->\n",
       "<g class=\"edge\" id=\"edge43\">\n",
       "<title>46918042423248-&gt;46918042422352</title>\n",
       "<path d=\"M920.7303,-438.4551C921.5044,-430.3828 922.4351,-420.6764 923.2976,-411.6817\" fill=\"none\" stroke=\"#000000\"/>\n",
       "<polygon fill=\"#000000\" points=\"926.7947,-411.8788 924.2653,-401.5904 919.8267,-411.2106 926.7947,-411.8788\" stroke=\"#000000\"/>\n",
       "</g>\n",
       "<!-- 46918045464896 -->\n",
       "<g class=\"node\" id=\"node46\">\n",
       "<title>46918045464896</title>\n",
       "<polygon fill=\"none\" points=\"1004.5,-219.5 1004.5,-255.5 1201.5,-255.5 1201.5,-219.5 1004.5,-219.5\" stroke=\"#000000\"/>\n",
       "<text fill=\"#000000\" font-family=\"Times,serif\" font-size=\"14.00\" text-anchor=\"middle\" x=\"1103\" y=\"-233.8\">activation_8: Activation</text>\n",
       "</g>\n",
       "<!-- 46918045464280&#45;&gt;46918045464896 -->\n",
       "<g class=\"edge\" id=\"edge44\">\n",
       "<title>46918045464280-&gt;46918045464896</title>\n",
       "<path d=\"M1127.8427,-292.4551C1124.0746,-284.1196 1119.5188,-274.0416 1115.343,-264.8042\" fill=\"none\" stroke=\"#000000\"/>\n",
       "<polygon fill=\"#000000\" points=\"1118.4864,-263.2608 1111.1778,-255.5904 1112.1078,-266.1443 1118.4864,-263.2608\" stroke=\"#000000\"/>\n",
       "</g>\n",
       "<!-- 46918040889384 -->\n",
       "<g class=\"node\" id=\"node47\">\n",
       "<title>46918040889384</title>\n",
       "<polygon fill=\"none\" points=\"548,-292.5 548,-328.5 880,-328.5 880,-292.5 548,-292.5\" stroke=\"#000000\"/>\n",
       "<text fill=\"#000000\" font-family=\"Times,serif\" font-size=\"14.00\" text-anchor=\"middle\" x=\"714\" y=\"-306.8\">global_max_pooling1d_1: GlobalMaxPooling1D</text>\n",
       "</g>\n",
       "<!-- 46918041059168&#45;&gt;46918040889384 -->\n",
       "<g class=\"edge\" id=\"edge45\">\n",
       "<title>46918041059168-&gt;46918040889384</title>\n",
       "<path d=\"M693.8379,-511.2049C697.6812,-472.9458 706.5901,-384.2623 711.1697,-338.6742\" fill=\"none\" stroke=\"#000000\"/>\n",
       "<polygon fill=\"#000000\" points=\"714.6657,-338.8888 712.1828,-328.589 707.7007,-338.1891 714.6657,-338.8888\" stroke=\"#000000\"/>\n",
       "</g>\n",
       "<!-- 46918038981264 -->\n",
       "<g class=\"node\" id=\"node48\">\n",
       "<title>46918038981264</title>\n",
       "<polygon fill=\"none\" points=\"262,-146.5 262,-182.5 474,-182.5 474,-146.5 262,-146.5\" stroke=\"#000000\"/>\n",
       "<text fill=\"#000000\" font-family=\"Times,serif\" font-size=\"14.00\" text-anchor=\"middle\" x=\"368\" y=\"-160.8\">concatenate_3: Concatenate</text>\n",
       "</g>\n",
       "<!-- 46918034930768&#45;&gt;46918038981264 -->\n",
       "<g class=\"edge\" id=\"edge46\">\n",
       "<title>46918034930768-&gt;46918038981264</title>\n",
       "<path d=\"M227.2247,-219.4551C252.96,-209.4087 285.1797,-196.8309 312.2985,-186.2445\" fill=\"none\" stroke=\"#000000\"/>\n",
       "<polygon fill=\"#000000\" points=\"313.6164,-189.4873 321.6589,-182.5904 311.0708,-182.9665 313.6164,-189.4873\" stroke=\"#000000\"/>\n",
       "</g>\n",
       "<!-- 46918038157520&#45;&gt;46918038981264 -->\n",
       "<g class=\"edge\" id=\"edge47\">\n",
       "<title>46918038157520-&gt;46918038981264</title>\n",
       "<path d=\"M368,-219.4551C368,-211.3828 368,-201.6764 368,-192.6817\" fill=\"none\" stroke=\"#000000\"/>\n",
       "<polygon fill=\"#000000\" points=\"371.5001,-192.5903 368,-182.5904 364.5001,-192.5904 371.5001,-192.5903\" stroke=\"#000000\"/>\n",
       "</g>\n",
       "<!-- 46918048231376 -->\n",
       "<g class=\"node\" id=\"node49\">\n",
       "<title>46918048231376</title>\n",
       "<polygon fill=\"none\" points=\"1243,-438.5 1243,-474.5 1575,-474.5 1575,-438.5 1243,-438.5\" stroke=\"#000000\"/>\n",
       "<text fill=\"#000000\" font-family=\"Times,serif\" font-size=\"14.00\" text-anchor=\"middle\" x=\"1409\" y=\"-452.8\">global_max_pooling1d_2: GlobalMaxPooling1D</text>\n",
       "</g>\n",
       "<!-- 46918047935232&#45;&gt;46918048231376 -->\n",
       "<g class=\"edge\" id=\"edge48\">\n",
       "<title>46918047935232-&gt;46918048231376</title>\n",
       "<path d=\"M1418.0337,-511.4551C1416.7068,-503.3828 1415.1112,-493.6764 1413.6326,-484.6817\" fill=\"none\" stroke=\"#000000\"/>\n",
       "<polygon fill=\"#000000\" points=\"1417.0496,-483.8902 1411.9738,-474.5904 1410.1423,-485.0257 1417.0496,-483.8902\" stroke=\"#000000\"/>\n",
       "</g>\n",
       "<!-- 46918046154704 -->\n",
       "<g class=\"node\" id=\"node50\">\n",
       "<title>46918046154704</title>\n",
       "<polygon fill=\"none\" points=\"839,-146.5 839,-182.5 1051,-182.5 1051,-146.5 839,-146.5\" stroke=\"#000000\"/>\n",
       "<text fill=\"#000000\" font-family=\"Times,serif\" font-size=\"14.00\" text-anchor=\"middle\" x=\"945\" y=\"-160.8\">concatenate_5: Concatenate</text>\n",
       "</g>\n",
       "<!-- 46918042422352&#45;&gt;46918046154704 -->\n",
       "<g class=\"edge\" id=\"edge49\">\n",
       "<title>46918042422352-&gt;46918046154704</title>\n",
       "<path d=\"M927.5872,-365.2049C930.9065,-326.9458 938.6005,-238.2623 942.5557,-192.6742\" fill=\"none\" stroke=\"#000000\"/>\n",
       "<polygon fill=\"#000000\" points=\"946.0531,-192.8542 943.4306,-182.589 939.0793,-192.2491 946.0531,-192.8542\" stroke=\"#000000\"/>\n",
       "</g>\n",
       "<!-- 46918045464896&#45;&gt;46918046154704 -->\n",
       "<g class=\"edge\" id=\"edge50\">\n",
       "<title>46918045464896-&gt;46918046154704</title>\n",
       "<path d=\"M1063.9438,-219.4551C1042.5794,-209.5841 1015.9258,-197.2695 993.2679,-186.801\" fill=\"none\" stroke=\"#000000\"/>\n",
       "<polygon fill=\"#000000\" points=\"994.7004,-183.6074 984.1545,-182.5904 991.7644,-189.9619 994.7004,-183.6074\" stroke=\"#000000\"/>\n",
       "</g>\n",
       "<!-- 46918041360144 -->\n",
       "<g class=\"node\" id=\"node51\">\n",
       "<title>46918041360144</title>\n",
       "<polygon fill=\"none\" points=\"608,-73.5 608,-109.5 820,-109.5 820,-73.5 608,-73.5\" stroke=\"#000000\"/>\n",
       "<text fill=\"#000000\" font-family=\"Times,serif\" font-size=\"14.00\" text-anchor=\"middle\" x=\"714\" y=\"-87.8\">concatenate_4: Concatenate</text>\n",
       "</g>\n",
       "<!-- 46918040889384&#45;&gt;46918041360144 -->\n",
       "<g class=\"edge\" id=\"edge51\">\n",
       "<title>46918040889384-&gt;46918041360144</title>\n",
       "<path d=\"M714,-292.2049C714,-253.9458 714,-165.2623 714,-119.6742\" fill=\"none\" stroke=\"#000000\"/>\n",
       "<polygon fill=\"#000000\" points=\"717.5001,-119.589 714,-109.589 710.5001,-119.5891 717.5001,-119.589\" stroke=\"#000000\"/>\n",
       "</g>\n",
       "<!-- 46918038981264&#45;&gt;46918041360144 -->\n",
       "<g class=\"edge\" id=\"edge52\">\n",
       "<title>46918038981264-&gt;46918041360144</title>\n",
       "<path d=\"M453.5281,-146.4551C503.6305,-135.8843 567.016,-122.5111 618.7136,-111.6038\" fill=\"none\" stroke=\"#000000\"/>\n",
       "<polygon fill=\"#000000\" points=\"619.4949,-115.0161 628.5569,-109.527 618.0497,-108.1669 619.4949,-115.0161\" stroke=\"#000000\"/>\n",
       "</g>\n",
       "<!-- 46918048723688 -->\n",
       "<g class=\"node\" id=\"node52\">\n",
       "<title>46918048723688</title>\n",
       "<polygon fill=\"none\" points=\"839,-73.5 839,-109.5 1051,-109.5 1051,-73.5 839,-73.5\" stroke=\"#000000\"/>\n",
       "<text fill=\"#000000\" font-family=\"Times,serif\" font-size=\"14.00\" text-anchor=\"middle\" x=\"945\" y=\"-87.8\">concatenate_6: Concatenate</text>\n",
       "</g>\n",
       "<!-- 46918048231376&#45;&gt;46918048723688 -->\n",
       "<g class=\"edge\" id=\"edge53\">\n",
       "<title>46918048231376-&gt;46918048723688</title>\n",
       "<path d=\"M1399.6687,-438.1365C1386.7529,-410.9735 1365,-358.1519 1365,-310.5 1365,-310.5 1365,-310.5 1365,-237.5 1365,-172.9084 1185.5328,-130.3755 1061.2281,-108.6628\" fill=\"none\" stroke=\"#000000\"/>\n",
       "<polygon fill=\"#000000\" points=\"1061.7042,-105.1933 1051.2551,-106.9445 1060.5156,-112.0917 1061.7042,-105.1933\" stroke=\"#000000\"/>\n",
       "</g>\n",
       "<!-- 46918046154704&#45;&gt;46918048723688 -->\n",
       "<g class=\"edge\" id=\"edge54\">\n",
       "<title>46918046154704-&gt;46918048723688</title>\n",
       "<path d=\"M945,-146.4551C945,-138.3828 945,-128.6764 945,-119.6817\" fill=\"none\" stroke=\"#000000\"/>\n",
       "<polygon fill=\"#000000\" points=\"948.5001,-119.5903 945,-109.5904 941.5001,-119.5904 948.5001,-119.5903\" stroke=\"#000000\"/>\n",
       "</g>\n",
       "<!-- 46918041503448 -->\n",
       "<g class=\"node\" id=\"node53\">\n",
       "<title>46918041503448</title>\n",
       "<polygon fill=\"none\" points=\"723,-.5 723,-36.5 935,-36.5 935,-.5 723,-.5\" stroke=\"#000000\"/>\n",
       "<text fill=\"#000000\" font-family=\"Times,serif\" font-size=\"14.00\" text-anchor=\"middle\" x=\"829\" y=\"-14.8\">concatenate_7: Concatenate</text>\n",
       "</g>\n",
       "<!-- 46918041360144&#45;&gt;46918041503448 -->\n",
       "<g class=\"edge\" id=\"edge55\">\n",
       "<title>46918041360144-&gt;46918041503448</title>\n",
       "<path d=\"M742.427,-73.4551C757.355,-63.979 775.831,-52.2508 791.8758,-42.0658\" fill=\"none\" stroke=\"#000000\"/>\n",
       "<polygon fill=\"#000000\" points=\"793.9346,-44.9046 800.5015,-36.5904 790.1831,-38.9947 793.9346,-44.9046\" stroke=\"#000000\"/>\n",
       "</g>\n",
       "<!-- 46918048723688&#45;&gt;46918041503448 -->\n",
       "<g class=\"edge\" id=\"edge56\">\n",
       "<title>46918048723688-&gt;46918041503448</title>\n",
       "<path d=\"M916.3258,-73.4551C901.268,-63.979 882.6314,-52.2508 866.447,-42.0658\" fill=\"none\" stroke=\"#000000\"/>\n",
       "<polygon fill=\"#000000\" points=\"868.0741,-38.9544 857.7463,-36.5904 864.3457,-44.8788 868.0741,-38.9544\" stroke=\"#000000\"/>\n",
       "</g>\n",
       "</g>\n",
       "</svg>"
      ],
      "text/plain": [
       "<IPython.core.display.SVG object>"
      ]
     },
     "execution_count": 37,
     "metadata": {},
     "output_type": "execute_result"
    }
   ],
   "source": [
    "###### MG network####################################################\n",
    "shared_layder_MG=create_model_shared(256)\n",
    "shared_layder_AP=create_model_shared(512)\n",
    "combined=concatenate([shared_layder_MG.output,shared_layder_AP.output])\n",
    "\n",
    "Final_model = Model(inputs=[shared_layder_MG.input,shared_layder_AP.input], outputs=combined)\n",
    "Final_model.summary()\n",
    "from IPython.display import SVG\n",
    "from keras.utils import plot_model\n",
    "from keras.utils.vis_utils import model_to_dot\n",
    "SVG(model_to_dot(Final_model).create(prog='dot', format='svg'))"
   ]
  },
  {
   "cell_type": "code",
   "execution_count": null,
   "metadata": {},
   "outputs": [],
   "source": [
    "WaD_models_mtl = dict()\n",
    "for x in filtered_tasks.keys():\n",
    "    personal_layer = Dense(10, activation='relu')(Final_model.output)\n",
    "    output_layer = Dense(1,activation='sigmoid')(personal_layer)\n",
    "    model = Model(inputs=Final_model.input, outputs=output_layer)\n",
    "    model.compile(optimizer='adam', loss='binary_crossentropy')\n",
    "    WaD_models_mtl[x] = model"
   ]
  },
  {
   "cell_type": "code",
   "execution_count": null,
   "metadata": {
    "scrolled": true
   },
   "outputs": [],
   "source": [
    "tt=WaD_models_mtl['CHEMBL3375358']\n",
    "SVG(model_to_dot(tt).create(prog='dot', format='svg'))"
   ]
  },
  {
   "cell_type": "code",
   "execution_count": null,
   "metadata": {
    "scrolled": true
   },
   "outputs": [],
   "source": [
    "%%time\n",
    "EPOCHS = 10\n",
    "from random import shuffle\n",
    "\n",
    "all_keys = [key  for key,_ in filtered_tasks.items()]\n",
    "print(len(all_keys))\n",
    "for i in range(EPOCHS):\n",
    "    print('Epoch',i,end=',')\n",
    "    shuffle(all_keys)\n",
    "    for x in all_keys:\n",
    "        history=WaD_models_mtl[x].fit([X_train_MG[x],X_train_AP[x]],y_train[x],batch_size=16,verbose=0)\n",
    "        print('training on',x, end=',')"
   ]
  },
  {
   "cell_type": "code",
   "execution_count": null,
   "metadata": {},
   "outputs": [],
   "source": [
    "%%time\n",
    "new_y_mtl=[]\n",
    "new_yhat_mtl=[]\n",
    "\n",
    "for x in X_test_MG.keys():\n",
    "    yhat_mlp = WaD_models_mtl[x].predict([X_test_MG[x],X_test_AP[x]])\n",
    "\n",
    "    new_y_mtl.append(y_test[x].ravel())\n",
    "    new_yhat_mtl.append(yhat_mlp.ravel())"
   ]
  },
  {
   "cell_type": "code",
   "execution_count": null,
   "metadata": {},
   "outputs": [],
   "source": [
    "np.save('WADnew_y_mtl.npy', new_y_mtl)\n",
    "np.save('WADnew_yhat_mtl.npy', new_yhat_mtl)"
   ]
  },
  {
   "cell_type": "code",
   "execution_count": 2,
   "metadata": {},
   "outputs": [],
   "source": [
    "WAD_y_mtl=np.load('WADnew_y_mtl.npy')\n",
    "WAD_yhat_mtl=np.load('WADnew_yhat_mtl.npy')"
   ]
  },
  {
   "cell_type": "code",
   "execution_count": 57,
   "metadata": {},
   "outputs": [],
   "source": [
    "new_final_y_gt=np.concatenate(WAD_y_mtl)\n",
    "new_final_y_hat=np.concatenate(WAD_yhat_mtl)\n",
    "new_final_y_hat=np.round(new_final_y_hat)"
   ]
  },
  {
   "cell_type": "code",
   "execution_count": 58,
   "metadata": {},
   "outputs": [
    {
     "name": "stdout",
     "output_type": "stream",
     "text": [
      "Acc: 0.6788793103448276\n",
      "F1: 0.7395104895104894\n"
     ]
    }
   ],
   "source": [
    "from sklearn.metrics import roc_curve, auc\n",
    "from sklearn.metrics import precision_score, recall_score, f1_score,accuracy_score\n",
    "print('Acc:',accuracy_score(new_final_y_hat,new_final_y_gt))\n",
    "print('F1:',f1_score(new_final_y_hat,new_final_y_gt))"
   ]
  },
  {
   "cell_type": "code",
   "execution_count": 8,
   "metadata": {},
   "outputs": [
    {
     "name": "stdout",
     "output_type": "stream",
     "text": [
      "0    0.622697\n",
      "dtype: float64\n"
     ]
    },
    {
     "data": {
      "image/png": "[encoded data removed]",
      "text/plain": [
       "<Figure size 432x288 with 1 Axes>"
      ]
     },
     "metadata": {},
     "output_type": "display_data"
    }
   ],
   "source": [
    "all_BEDROC=[]\n",
    "for y_hat,y_gt in zip(WAD_yhat_mtl,WAD_y_mtl):\n",
    "    Rdkit_score=sort_each_target(y_hat,y_gt)\n",
    "    all_BEDROC.append(CalcBEDROC(Rdkit_score,1,20))\n",
    "BEDROC=pd.DataFrame(all_BEDROC)\n",
    "BEDROC.plot.box()\n",
    "print(np.mean(BEDROC))"
   ]
  },
  {
   "cell_type": "markdown",
   "metadata": {},
   "source": [
    "\"Suppose there exist two explanations for an occurrence. In this case the one that requires the least speculation is usually better. \"\n",
    "\n",
    "¯\\_(ツ)_/¯"
   ]
  }
 ],
 "metadata": {
  "kernelspec": {
   "display_name": "Python 3",
   "language": "python",
   "name": "python3"
  },
  "language_info": {
   "codemirror_mode": {
    "name": "ipython",
    "version": 3
   },
   "file_extension": ".py",
   "mimetype": "text/x-python",
   "name": "python",
   "nbconvert_exporter": "python",
   "pygments_lexer": "ipython3",
   "version": "3.6.5"
  },
  "latex_envs": {
   "LaTeX_envs_menu_present": true,
   "autoclose": false,
   "autocomplete": true,
   "bibliofile": "biblio.bib",
   "cite_by": "apalike",
   "current_citInitial": 1,
   "eqLabelWithNumbers": true,
   "eqNumInitial": 1,
   "hotkeys": {
    "equation": "Ctrl-E",
    "itemize": "Ctrl-I"
   },
   "labels_anchors": false,
   "latex_user_defs": false,
   "report_style_numbering": false,
   "user_envs_cfg": false
  },
  "varInspector": {
   "cols": {
    "lenName": 16,
    "lenType": 16,
    "lenVar": 40
   },
   "kernels_config": {
    "python": {
     "delete_cmd_postfix": "",
     "delete_cmd_prefix": "del ",
     "library": "var_list.py",
     "varRefreshCmd": "print(var_dic_list())"
    },
    "r": {
     "delete_cmd_postfix": ") ",
     "delete_cmd_prefix": "rm(",
     "library": "var_list.r",
     "varRefreshCmd": "cat(var_dic_list()) "
    }
   },
   "types_to_exclude": [
    "module",
    "function",
    "builtin_function_or_method",
    "instance",
    "_Feature"
   ],
   "window_display": false
  }
 },
 "nbformat": 4,
 "nbformat_minor": 2
}
